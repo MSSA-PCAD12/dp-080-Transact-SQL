{
    "metadata": {
        "kernelspec": {
            "name": "SQL",
            "display_name": "SQL",
            "language": "sql"
        },
        "language_info": {
            "name": "sql",
            "version": ""
        }
    },
    "nbformat_minor": 2,
    "nbformat": 4,
    "cells": [
        {
            "cell_type": "markdown",
            "source": [
                "For Lab 2, Instructions here : [Lab2](https:\\github.com\\MSSA-PCAD12\\dp-080-Transact-SQL\\blob\\master\\Instructions\\Labs\\02-filter-sort.md)"
            ],
            "metadata": {
                "azdata_cell_guid": "b76fdee4-8732-426e-99b4-c337f1f73a27"
            },
            "attachments": {}
        },
        {
            "cell_type": "code",
            "source": [
                "SELECT Name, ListPrice\r\n",
                "FROM SalesLT.Product;"
            ],
            "metadata": {
                "azdata_cell_guid": "77079586-c0a6-4f75-8605-0ed130aae0b2",
                "language": "sql"
            },
            "outputs": [],
            "execution_count": null
        },
        {
            "cell_type": "code",
            "source": [
                "SELECT Name, ListPrice\r\n",
                "FROM SalesLT.Product\r\n",
                "ORDER BY 2;"
            ],
            "metadata": {
                "language": "sql",
                "azdata_cell_guid": "2d81a4e6-3527-488b-ad24-66e54bb6a212",
                "tags": []
            },
            "outputs": [],
            "execution_count": null
        },
        {
            "cell_type": "code",
            "source": [
                "SELECT Name, ListPrice\r\n",
                "FROM SalesLT.Product\r\n",
                "ORDER BY 2 DESC, 1 ASC"
            ],
            "metadata": {
                "language": "sql",
                "azdata_cell_guid": "17d0e843-a2d7-4a0c-9464-fa7bef1b8f79"
            },
            "outputs": [
                {
                    "output_type": "display_data",
                    "data": {
                        "text/html": "(295 rows affected)"
                    },
                    "metadata": {}
                },
                {
                    "output_type": "display_data",
                    "data": {
                        "text/html": "Total execution time: 00:00:00.012"
                    },
                    "metadata": {}
                },
                {
                    "output_type": "execute_result",
                    "metadata": {},
                    "execution_count": 6,
                    "data": {
                        "application/vnd.dataresource+json": {
                            "schema": {
                                "fields": [
                                    {
                                        "name": "Name"
                                    },
                                    {
                                        "name": "ListPrice"
                                    }
                                ]
                            },
                            "data": [
                                {
                                    "Name": "Road-150 Red, 44",
                                    "ListPrice": "3578.27"
                                },
                                {
                                    "Name": "Road-150 Red, 48",
                                    "ListPrice": "3578.27"
                                },
                                {
                                    "Name": "Road-150 Red, 52",
                                    "ListPrice": "3578.27"
                                },
                                {
                                    "Name": "Road-150 Red, 56",
                                    "ListPrice": "3578.27"
                                },
                                {
                                    "Name": "Road-150 Red, 62",
                                    "ListPrice": "3578.27"
                                },
                                {
                                    "Name": "Mountain-100 Silver, 38",
                                    "ListPrice": "3399.99"
                                },
                                {
                                    "Name": "Mountain-100 Silver, 42",
                                    "ListPrice": "3399.99"
                                },
                                {
                                    "Name": "Mountain-100 Silver, 44",
                                    "ListPrice": "3399.99"
                                },
                                {
                                    "Name": "Mountain-100 Silver, 48",
                                    "ListPrice": "3399.99"
                                },
                                {
                                    "Name": "Mountain-100 Black, 38",
                                    "ListPrice": "3374.99"
                                },
                                {
                                    "Name": "Mountain-100 Black, 42",
                                    "ListPrice": "3374.99"
                                },
                                {
                                    "Name": "Mountain-100 Black, 44",
                                    "ListPrice": "3374.99"
                                },
                                {
                                    "Name": "Mountain-100 Black, 48",
                                    "ListPrice": "3374.99"
                                },
                                {
                                    "Name": "Road-250 Black, 44",
                                    "ListPrice": "2443.35"
                                },
                                {
                                    "Name": "Road-250 Black, 48",
                                    "ListPrice": "2443.35"
                                },
                                {
                                    "Name": "Road-250 Black, 52",
                                    "ListPrice": "2443.35"
                                },
                                {
                                    "Name": "Road-250 Black, 58",
                                    "ListPrice": "2443.35"
                                },
                                {
                                    "Name": "Road-250 Red, 44",
                                    "ListPrice": "2443.35"
                                },
                                {
                                    "Name": "Road-250 Red, 48",
                                    "ListPrice": "2443.35"
                                },
                                {
                                    "Name": "Road-250 Red, 52",
                                    "ListPrice": "2443.35"
                                },
                                {
                                    "Name": "Road-250 Red, 58",
                                    "ListPrice": "2443.35"
                                },
                                {
                                    "Name": "Touring-1000 Blue, 46",
                                    "ListPrice": "2384.07"
                                },
                                {
                                    "Name": "Touring-1000 Blue, 50",
                                    "ListPrice": "2384.07"
                                },
                                {
                                    "Name": "Touring-1000 Blue, 54",
                                    "ListPrice": "2384.07"
                                },
                                {
                                    "Name": "Touring-1000 Blue, 60",
                                    "ListPrice": "2384.07"
                                },
                                {
                                    "Name": "Touring-1000 Yellow, 46",
                                    "ListPrice": "2384.07"
                                },
                                {
                                    "Name": "Touring-1000 Yellow, 50",
                                    "ListPrice": "2384.07"
                                },
                                {
                                    "Name": "Touring-1000 Yellow, 54",
                                    "ListPrice": "2384.07"
                                },
                                {
                                    "Name": "Touring-1000 Yellow, 60",
                                    "ListPrice": "2384.07"
                                },
                                {
                                    "Name": "Mountain-200 Silver, 38",
                                    "ListPrice": "2319.99"
                                },
                                {
                                    "Name": "Mountain-200 Silver, 42",
                                    "ListPrice": "2319.99"
                                },
                                {
                                    "Name": "Mountain-200 Silver, 46",
                                    "ListPrice": "2319.99"
                                },
                                {
                                    "Name": "Mountain-200 Black, 38",
                                    "ListPrice": "2294.99"
                                },
                                {
                                    "Name": "Mountain-200 Black, 42",
                                    "ListPrice": "2294.99"
                                },
                                {
                                    "Name": "Mountain-200 Black, 46",
                                    "ListPrice": "2294.99"
                                },
                                {
                                    "Name": "Road-350-W Yellow, 40",
                                    "ListPrice": "1700.99"
                                },
                                {
                                    "Name": "Road-350-W Yellow, 42",
                                    "ListPrice": "1700.99"
                                },
                                {
                                    "Name": "Road-350-W Yellow, 44",
                                    "ListPrice": "1700.99"
                                },
                                {
                                    "Name": "Road-350-W Yellow, 48",
                                    "ListPrice": "1700.99"
                                },
                                {
                                    "Name": "Road-450 Red, 44",
                                    "ListPrice": "1457.99"
                                },
                                {
                                    "Name": "Road-450 Red, 48",
                                    "ListPrice": "1457.99"
                                },
                                {
                                    "Name": "Road-450 Red, 52",
                                    "ListPrice": "1457.99"
                                },
                                {
                                    "Name": "Road-450 Red, 58",
                                    "ListPrice": "1457.99"
                                },
                                {
                                    "Name": "Road-450 Red, 60",
                                    "ListPrice": "1457.99"
                                },
                                {
                                    "Name": "HL Road Frame - Black, 44",
                                    "ListPrice": "1431.50"
                                },
                                {
                                    "Name": "HL Road Frame - Black, 48",
                                    "ListPrice": "1431.50"
                                },
                                {
                                    "Name": "HL Road Frame - Black, 52",
                                    "ListPrice": "1431.50"
                                },
                                {
                                    "Name": "HL Road Frame - Black, 58",
                                    "ListPrice": "1431.50"
                                },
                                {
                                    "Name": "HL Road Frame - Black, 62",
                                    "ListPrice": "1431.50"
                                },
                                {
                                    "Name": "HL Road Frame - Red, 44",
                                    "ListPrice": "1431.50"
                                },
                                {
                                    "Name": "HL Road Frame - Red, 48",
                                    "ListPrice": "1431.50"
                                },
                                {
                                    "Name": "HL Road Frame - Red, 52",
                                    "ListPrice": "1431.50"
                                },
                                {
                                    "Name": "HL Road Frame - Red, 56",
                                    "ListPrice": "1431.50"
                                },
                                {
                                    "Name": "HL Road Frame - Red, 58",
                                    "ListPrice": "1431.50"
                                },
                                {
                                    "Name": "HL Road Frame - Red, 62",
                                    "ListPrice": "1431.50"
                                },
                                {
                                    "Name": "HL Mountain Frame - Silver, 38",
                                    "ListPrice": "1364.50"
                                },
                                {
                                    "Name": "HL Mountain Frame - Silver, 42",
                                    "ListPrice": "1364.50"
                                },
                                {
                                    "Name": "HL Mountain Frame - Silver, 44",
                                    "ListPrice": "1364.50"
                                },
                                {
                                    "Name": "HL Mountain Frame - Silver, 46",
                                    "ListPrice": "1364.50"
                                },
                                {
                                    "Name": "HL Mountain Frame - Silver, 48",
                                    "ListPrice": "1364.50"
                                },
                                {
                                    "Name": "HL Mountain Frame - Black, 38",
                                    "ListPrice": "1349.60"
                                },
                                {
                                    "Name": "HL Mountain Frame - Black, 42",
                                    "ListPrice": "1349.60"
                                },
                                {
                                    "Name": "HL Mountain Frame - Black, 44",
                                    "ListPrice": "1349.60"
                                },
                                {
                                    "Name": "HL Mountain Frame - Black, 46",
                                    "ListPrice": "1349.60"
                                },
                                {
                                    "Name": "HL Mountain Frame - Black, 48",
                                    "ListPrice": "1349.60"
                                },
                                {
                                    "Name": "Touring-2000 Blue, 46",
                                    "ListPrice": "1214.85"
                                },
                                {
                                    "Name": "Touring-2000 Blue, 50",
                                    "ListPrice": "1214.85"
                                },
                                {
                                    "Name": "Touring-2000 Blue, 54",
                                    "ListPrice": "1214.85"
                                },
                                {
                                    "Name": "Touring-2000 Blue, 60",
                                    "ListPrice": "1214.85"
                                },
                                {
                                    "Name": "Road-550-W Yellow, 38",
                                    "ListPrice": "1120.49"
                                },
                                {
                                    "Name": "Road-550-W Yellow, 40",
                                    "ListPrice": "1120.49"
                                },
                                {
                                    "Name": "Road-550-W Yellow, 42",
                                    "ListPrice": "1120.49"
                                },
                                {
                                    "Name": "Road-550-W Yellow, 44",
                                    "ListPrice": "1120.49"
                                },
                                {
                                    "Name": "Road-550-W Yellow, 48",
                                    "ListPrice": "1120.49"
                                },
                                {
                                    "Name": "Mountain-300 Black, 38",
                                    "ListPrice": "1079.99"
                                },
                                {
                                    "Name": "Mountain-300 Black, 40",
                                    "ListPrice": "1079.99"
                                },
                                {
                                    "Name": "Mountain-300 Black, 44",
                                    "ListPrice": "1079.99"
                                },
                                {
                                    "Name": "Mountain-300 Black, 48",
                                    "ListPrice": "1079.99"
                                },
                                {
                                    "Name": "HL Touring Frame - Blue, 46",
                                    "ListPrice": "1003.91"
                                },
                                {
                                    "Name": "HL Touring Frame - Blue, 50",
                                    "ListPrice": "1003.91"
                                },
                                {
                                    "Name": "HL Touring Frame - Blue, 54",
                                    "ListPrice": "1003.91"
                                },
                                {
                                    "Name": "HL Touring Frame - Blue, 60",
                                    "ListPrice": "1003.91"
                                },
                                {
                                    "Name": "HL Touring Frame - Yellow, 46",
                                    "ListPrice": "1003.91"
                                },
                                {
                                    "Name": "HL Touring Frame - Yellow, 50",
                                    "ListPrice": "1003.91"
                                },
                                {
                                    "Name": "HL Touring Frame - Yellow, 54",
                                    "ListPrice": "1003.91"
                                },
                                {
                                    "Name": "HL Touring Frame - Yellow, 60",
                                    "ListPrice": "1003.91"
                                },
                                {
                                    "Name": "Road-650 Black, 44",
                                    "ListPrice": "782.99"
                                },
                                {
                                    "Name": "Road-650 Black, 48",
                                    "ListPrice": "782.99"
                                },
                                {
                                    "Name": "Road-650 Black, 52",
                                    "ListPrice": "782.99"
                                },
                                {
                                    "Name": "Road-650 Black, 58",
                                    "ListPrice": "782.99"
                                },
                                {
                                    "Name": "Road-650 Black, 60",
                                    "ListPrice": "782.99"
                                },
                                {
                                    "Name": "Road-650 Black, 62",
                                    "ListPrice": "782.99"
                                },
                                {
                                    "Name": "Road-650 Red, 44",
                                    "ListPrice": "782.99"
                                },
                                {
                                    "Name": "Road-650 Red, 48",
                                    "ListPrice": "782.99"
                                },
                                {
                                    "Name": "Road-650 Red, 52",
                                    "ListPrice": "782.99"
                                },
                                {
                                    "Name": "Road-650 Red, 58",
                                    "ListPrice": "782.99"
                                },
                                {
                                    "Name": "Road-650 Red, 60",
                                    "ListPrice": "782.99"
                                },
                                {
                                    "Name": "Road-650 Red, 62",
                                    "ListPrice": "782.99"
                                },
                                {
                                    "Name": "Mountain-400-W Silver, 38",
                                    "ListPrice": "769.49"
                                },
                                {
                                    "Name": "Mountain-400-W Silver, 40",
                                    "ListPrice": "769.49"
                                },
                                {
                                    "Name": "Mountain-400-W Silver, 42",
                                    "ListPrice": "769.49"
                                },
                                {
                                    "Name": "Mountain-400-W Silver, 46",
                                    "ListPrice": "769.49"
                                },
                                {
                                    "Name": "Touring-3000 Blue, 44",
                                    "ListPrice": "742.35"
                                },
                                {
                                    "Name": "Touring-3000 Blue, 50",
                                    "ListPrice": "742.35"
                                },
                                {
                                    "Name": "Touring-3000 Blue, 54",
                                    "ListPrice": "742.35"
                                },
                                {
                                    "Name": "Touring-3000 Blue, 58",
                                    "ListPrice": "742.35"
                                },
                                {
                                    "Name": "Touring-3000 Blue, 62",
                                    "ListPrice": "742.35"
                                },
                                {
                                    "Name": "Touring-3000 Yellow, 44",
                                    "ListPrice": "742.35"
                                },
                                {
                                    "Name": "Touring-3000 Yellow, 50",
                                    "ListPrice": "742.35"
                                },
                                {
                                    "Name": "Touring-3000 Yellow, 54",
                                    "ListPrice": "742.35"
                                },
                                {
                                    "Name": "Touring-3000 Yellow, 58",
                                    "ListPrice": "742.35"
                                },
                                {
                                    "Name": "Touring-3000 Yellow, 62",
                                    "ListPrice": "742.35"
                                },
                                {
                                    "Name": "ML Road Frame - Red, 44",
                                    "ListPrice": "594.83"
                                },
                                {
                                    "Name": "ML Road Frame - Red, 48",
                                    "ListPrice": "594.83"
                                },
                                {
                                    "Name": "ML Road Frame - Red, 52",
                                    "ListPrice": "594.83"
                                },
                                {
                                    "Name": "ML Road Frame - Red, 58",
                                    "ListPrice": "594.83"
                                },
                                {
                                    "Name": "ML Road Frame - Red, 60",
                                    "ListPrice": "594.83"
                                },
                                {
                                    "Name": "ML Road Frame-W - Yellow, 38",
                                    "ListPrice": "594.83"
                                },
                                {
                                    "Name": "ML Road Frame-W - Yellow, 40",
                                    "ListPrice": "594.83"
                                },
                                {
                                    "Name": "ML Road Frame-W - Yellow, 42",
                                    "ListPrice": "594.83"
                                },
                                {
                                    "Name": "ML Road Frame-W - Yellow, 44",
                                    "ListPrice": "594.83"
                                },
                                {
                                    "Name": "ML Road Frame-W - Yellow, 48",
                                    "ListPrice": "594.83"
                                },
                                {
                                    "Name": "Mountain-500 Silver, 40",
                                    "ListPrice": "564.99"
                                },
                                {
                                    "Name": "Mountain-500 Silver, 42",
                                    "ListPrice": "564.99"
                                },
                                {
                                    "Name": "Mountain-500 Silver, 44",
                                    "ListPrice": "564.99"
                                },
                                {
                                    "Name": "Mountain-500 Silver, 48",
                                    "ListPrice": "564.99"
                                },
                                {
                                    "Name": "Mountain-500 Silver, 52",
                                    "ListPrice": "564.99"
                                },
                                {
                                    "Name": "Mountain-500 Black, 40",
                                    "ListPrice": "539.99"
                                },
                                {
                                    "Name": "Mountain-500 Black, 42",
                                    "ListPrice": "539.99"
                                },
                                {
                                    "Name": "Mountain-500 Black, 44",
                                    "ListPrice": "539.99"
                                },
                                {
                                    "Name": "Mountain-500 Black, 48",
                                    "ListPrice": "539.99"
                                },
                                {
                                    "Name": "Mountain-500 Black, 52",
                                    "ListPrice": "539.99"
                                },
                                {
                                    "Name": "Road-750 Black, 44",
                                    "ListPrice": "539.99"
                                },
                                {
                                    "Name": "Road-750 Black, 48",
                                    "ListPrice": "539.99"
                                },
                                {
                                    "Name": "Road-750 Black, 52",
                                    "ListPrice": "539.99"
                                },
                                {
                                    "Name": "Road-750 Black, 58",
                                    "ListPrice": "539.99"
                                },
                                {
                                    "Name": "HL Crankset",
                                    "ListPrice": "404.99"
                                },
                                {
                                    "Name": "ML Mountain Frame-W - Silver, 38",
                                    "ListPrice": "364.09"
                                },
                                {
                                    "Name": "ML Mountain Frame-W - Silver, 40",
                                    "ListPrice": "364.09"
                                },
                                {
                                    "Name": "ML Mountain Frame-W - Silver, 42",
                                    "ListPrice": "364.09"
                                },
                                {
                                    "Name": "ML Mountain Frame-W - Silver, 46",
                                    "ListPrice": "364.09"
                                },
                                {
                                    "Name": "HL Road Rear Wheel",
                                    "ListPrice": "357.06"
                                },
                                {
                                    "Name": "ML Mountain Frame - Black, 38",
                                    "ListPrice": "348.76"
                                },
                                {
                                    "Name": "ML Mountain Frame - Black, 40",
                                    "ListPrice": "348.76"
                                },
                                {
                                    "Name": "ML Mountain Frame - Black, 44",
                                    "ListPrice": "348.76"
                                },
                                {
                                    "Name": "ML Mountain Frame - Black, 48",
                                    "ListPrice": "348.76"
                                },
                                {
                                    "Name": "LL Road Frame - Black, 44",
                                    "ListPrice": "337.22"
                                },
                                {
                                    "Name": "LL Road Frame - Black, 48",
                                    "ListPrice": "337.22"
                                },
                                {
                                    "Name": "LL Road Frame - Black, 52",
                                    "ListPrice": "337.22"
                                },
                                {
                                    "Name": "LL Road Frame - Black, 58",
                                    "ListPrice": "337.22"
                                },
                                {
                                    "Name": "LL Road Frame - Black, 60",
                                    "ListPrice": "337.22"
                                },
                                {
                                    "Name": "LL Road Frame - Black, 62",
                                    "ListPrice": "337.22"
                                },
                                {
                                    "Name": "LL Road Frame - Red, 44",
                                    "ListPrice": "337.22"
                                },
                                {
                                    "Name": "LL Road Frame - Red, 48",
                                    "ListPrice": "337.22"
                                },
                                {
                                    "Name": "LL Road Frame - Red, 52",
                                    "ListPrice": "337.22"
                                },
                                {
                                    "Name": "LL Road Frame - Red, 58",
                                    "ListPrice": "337.22"
                                },
                                {
                                    "Name": "LL Road Frame - Red, 60",
                                    "ListPrice": "337.22"
                                },
                                {
                                    "Name": "LL Road Frame - Red, 62",
                                    "ListPrice": "337.22"
                                },
                                {
                                    "Name": "LL Touring Frame - Blue, 44",
                                    "ListPrice": "333.42"
                                },
                                {
                                    "Name": "LL Touring Frame - Blue, 50",
                                    "ListPrice": "333.42"
                                },
                                {
                                    "Name": "LL Touring Frame - Blue, 54",
                                    "ListPrice": "333.42"
                                },
                                {
                                    "Name": "LL Touring Frame - Blue, 58",
                                    "ListPrice": "333.42"
                                },
                                {
                                    "Name": "LL Touring Frame - Blue, 62",
                                    "ListPrice": "333.42"
                                },
                                {
                                    "Name": "LL Touring Frame - Yellow, 44",
                                    "ListPrice": "333.42"
                                },
                                {
                                    "Name": "LL Touring Frame - Yellow, 50",
                                    "ListPrice": "333.42"
                                },
                                {
                                    "Name": "LL Touring Frame - Yellow, 54",
                                    "ListPrice": "333.42"
                                },
                                {
                                    "Name": "LL Touring Frame - Yellow, 58",
                                    "ListPrice": "333.42"
                                },
                                {
                                    "Name": "LL Touring Frame - Yellow, 62",
                                    "ListPrice": "333.42"
                                },
                                {
                                    "Name": "HL Road Front Wheel",
                                    "ListPrice": "330.06"
                                },
                                {
                                    "Name": "HL Mountain Rear Wheel",
                                    "ListPrice": "327.215"
                                },
                                {
                                    "Name": "HL Mountain Front Wheel",
                                    "ListPrice": "300.215"
                                },
                                {
                                    "Name": "ML Road Rear Wheel",
                                    "ListPrice": "275.385"
                                },
                                {
                                    "Name": "LL Mountain Frame - Silver, 40",
                                    "ListPrice": "264.05"
                                },
                                {
                                    "Name": "LL Mountain Frame - Silver, 42",
                                    "ListPrice": "264.05"
                                },
                                {
                                    "Name": "LL Mountain Frame - Silver, 44",
                                    "ListPrice": "264.05"
                                },
                                {
                                    "Name": "LL Mountain Frame - Silver, 48",
                                    "ListPrice": "264.05"
                                },
                                {
                                    "Name": "LL Mountain Frame - Silver, 52",
                                    "ListPrice": "264.05"
                                },
                                {
                                    "Name": "ML Crankset",
                                    "ListPrice": "256.49"
                                },
                                {
                                    "Name": "LL Mountain Frame - Black, 40",
                                    "ListPrice": "249.79"
                                },
                                {
                                    "Name": "LL Mountain Frame - Black, 42",
                                    "ListPrice": "249.79"
                                },
                                {
                                    "Name": "LL Mountain Frame - Black, 44",
                                    "ListPrice": "249.79"
                                },
                                {
                                    "Name": "LL Mountain Frame - Black, 48",
                                    "ListPrice": "249.79"
                                },
                                {
                                    "Name": "LL Mountain Frame - Black, 52",
                                    "ListPrice": "249.79"
                                },
                                {
                                    "Name": "ML Road Front Wheel",
                                    "ListPrice": "248.385"
                                },
                                {
                                    "Name": "Touring Rear Wheel",
                                    "ListPrice": "245.01"
                                },
                                {
                                    "Name": "ML Mountain Rear Wheel",
                                    "ListPrice": "236.025"
                                },
                                {
                                    "Name": "HL Fork",
                                    "ListPrice": "229.49"
                                },
                                {
                                    "Name": "Touring Front Wheel",
                                    "ListPrice": "218.01"
                                },
                                {
                                    "Name": "ML Mountain Front Wheel",
                                    "ListPrice": "209.025"
                                },
                                {
                                    "Name": "LL Crankset",
                                    "ListPrice": "175.49"
                                },
                                {
                                    "Name": "ML Fork",
                                    "ListPrice": "175.49"
                                },
                                {
                                    "Name": "All-Purpose Bike Stand",
                                    "ListPrice": "159.00"
                                },
                                {
                                    "Name": "LL Fork",
                                    "ListPrice": "148.22"
                                },
                                {
                                    "Name": "Touring-Panniers, Large",
                                    "ListPrice": "125.00"
                                },
                                {
                                    "Name": "HL Headset",
                                    "ListPrice": "124.73"
                                },
                                {
                                    "Name": "HL Bottom Bracket",
                                    "ListPrice": "121.49"
                                },
                                {
                                    "Name": "Rear Derailleur",
                                    "ListPrice": "121.46"
                                },
                                {
                                    "Name": "HL Mountain Handlebars",
                                    "ListPrice": "120.27"
                                },
                                {
                                    "Name": "HL Road Handlebars",
                                    "ListPrice": "120.27"
                                },
                                {
                                    "Name": "Hitch Rack - 4-Bike",
                                    "ListPrice": "120.00"
                                },
                                {
                                    "Name": "LL Road Rear Wheel",
                                    "ListPrice": "112.565"
                                },
                                {
                                    "Name": "Front Brakes",
                                    "ListPrice": "106.50"
                                },
                                {
                                    "Name": "Rear Brakes",
                                    "ListPrice": "106.50"
                                },
                                {
                                    "Name": "ML Headset",
                                    "ListPrice": "102.29"
                                },
                                {
                                    "Name": "ML Bottom Bracket",
                                    "ListPrice": "101.24"
                                },
                                {
                                    "Name": "HL Touring Handlebars",
                                    "ListPrice": "91.57"
                                },
                                {
                                    "Name": "Front Derailleur",
                                    "ListPrice": "91.49"
                                },
                                {
                                    "Name": "Men's Bib-Shorts, L",
                                    "ListPrice": "89.99"
                                },
                                {
                                    "Name": "Men's Bib-Shorts, M",
                                    "ListPrice": "89.99"
                                },
                                {
                                    "Name": "Men's Bib-Shorts, S",
                                    "ListPrice": "89.99"
                                },
                                {
                                    "Name": "LL Mountain Rear Wheel",
                                    "ListPrice": "87.745"
                                },
                                {
                                    "Name": "LL Road Front Wheel",
                                    "ListPrice": "85.565"
                                },
                                {
                                    "Name": "HL Mountain Pedal",
                                    "ListPrice": "80.99"
                                },
                                {
                                    "Name": "HL Road Pedal",
                                    "ListPrice": "80.99"
                                },
                                {
                                    "Name": "Touring Pedal",
                                    "ListPrice": "80.99"
                                },
                                {
                                    "Name": "Women's Tights, L",
                                    "ListPrice": "74.99"
                                },
                                {
                                    "Name": "Women's Tights, M",
                                    "ListPrice": "74.99"
                                },
                                {
                                    "Name": "Women's Tights, S",
                                    "ListPrice": "74.99"
                                },
                                {
                                    "Name": "Women's Mountain Shorts, L",
                                    "ListPrice": "69.99"
                                },
                                {
                                    "Name": "Women's Mountain Shorts, M",
                                    "ListPrice": "69.99"
                                },
                                {
                                    "Name": "Women's Mountain Shorts, S",
                                    "ListPrice": "69.99"
                                },
                                {
                                    "Name": "Classic Vest, L",
                                    "ListPrice": "63.50"
                                },
                                {
                                    "Name": "Classic Vest, M",
                                    "ListPrice": "63.50"
                                },
                                {
                                    "Name": "Classic Vest, S",
                                    "ListPrice": "63.50"
                                },
                                {
                                    "Name": "ML Mountain Pedal",
                                    "ListPrice": "62.09"
                                },
                                {
                                    "Name": "ML Road Pedal",
                                    "ListPrice": "62.09"
                                },
                                {
                                    "Name": "ML Mountain Handlebars",
                                    "ListPrice": "61.92"
                                },
                                {
                                    "Name": "ML Road Handlebars",
                                    "ListPrice": "61.92"
                                },
                                {
                                    "Name": "LL Mountain Front Wheel",
                                    "ListPrice": "60.745"
                                },
                                {
                                    "Name": "Men's Sports Shorts, L",
                                    "ListPrice": "59.99"
                                },
                                {
                                    "Name": "Men's Sports Shorts, M",
                                    "ListPrice": "59.99"
                                },
                                {
                                    "Name": "Men's Sports Shorts, S",
                                    "ListPrice": "59.99"
                                },
                                {
                                    "Name": "Men's Sports Shorts, XL",
                                    "ListPrice": "59.99"
                                },
                                {
                                    "Name": "Hydration Pack - 70 oz.",
                                    "ListPrice": "54.99"
                                },
                                {
                                    "Name": "LL Bottom Bracket",
                                    "ListPrice": "53.99"
                                },
                                {
                                    "Name": "Short-Sleeve Classic Jersey, L",
                                    "ListPrice": "53.99"
                                },
                                {
                                    "Name": "Short-Sleeve Classic Jersey, M",
                                    "ListPrice": "53.99"
                                },
                                {
                                    "Name": "Short-Sleeve Classic Jersey, S",
                                    "ListPrice": "53.99"
                                },
                                {
                                    "Name": "Short-Sleeve Classic Jersey, XL",
                                    "ListPrice": "53.99"
                                },
                                {
                                    "Name": "HL Mountain Seat/Saddle",
                                    "ListPrice": "52.64"
                                },
                                {
                                    "Name": "HL Road Seat/Saddle",
                                    "ListPrice": "52.64"
                                },
                                {
                                    "Name": "HL Touring Seat/Saddle",
                                    "ListPrice": "52.64"
                                },
                                {
                                    "Name": "Long-Sleeve Logo Jersey, L",
                                    "ListPrice": "49.99"
                                },
                                {
                                    "Name": "Long-Sleeve Logo Jersey, M",
                                    "ListPrice": "49.99"
                                },
                                {
                                    "Name": "Long-Sleeve Logo Jersey, S",
                                    "ListPrice": "49.99"
                                },
                                {
                                    "Name": "Long-Sleeve Logo Jersey, XL",
                                    "ListPrice": "49.99"
                                },
                                {
                                    "Name": "LL Touring Handlebars",
                                    "ListPrice": "46.09"
                                },
                                {
                                    "Name": "Headlights - Weatherproof",
                                    "ListPrice": "44.99"
                                },
                                {
                                    "Name": "LL Mountain Handlebars",
                                    "ListPrice": "44.54"
                                },
                                {
                                    "Name": "LL Road Handlebars",
                                    "ListPrice": "44.54"
                                },
                                {
                                    "Name": "LL Mountain Pedal",
                                    "ListPrice": "40.49"
                                },
                                {
                                    "Name": "LL Road Pedal",
                                    "ListPrice": "40.49"
                                },
                                {
                                    "Name": "ML Mountain Seat/Saddle",
                                    "ListPrice": "39.14"
                                },
                                {
                                    "Name": "ML Road Seat/Saddle",
                                    "ListPrice": "39.14"
                                },
                                {
                                    "Name": "ML Touring Seat/Saddle",
                                    "ListPrice": "39.14"
                                },
                                {
                                    "Name": "Full-Finger Gloves, L",
                                    "ListPrice": "37.99"
                                },
                                {
                                    "Name": "Full-Finger Gloves, M",
                                    "ListPrice": "37.99"
                                },
                                {
                                    "Name": "Full-Finger Gloves, S",
                                    "ListPrice": "37.99"
                                },
                                {
                                    "Name": "HL Mountain Tire",
                                    "ListPrice": "35.00"
                                },
                                {
                                    "Name": "Headlights - Dual-Beam",
                                    "ListPrice": "34.99"
                                },
                                {
                                    "Name": "Sport-100 Helmet, Black",
                                    "ListPrice": "34.99"
                                },
                                {
                                    "Name": "Sport-100 Helmet, Blue",
                                    "ListPrice": "34.99"
                                },
                                {
                                    "Name": "Sport-100 Helmet, Red",
                                    "ListPrice": "34.99"
                                },
                                {
                                    "Name": "LL Headset",
                                    "ListPrice": "34.20"
                                },
                                {
                                    "Name": "HL Road Tire",
                                    "ListPrice": "32.60"
                                },
                                {
                                    "Name": "ML Mountain Tire",
                                    "ListPrice": "29.99"
                                },
                                {
                                    "Name": "Touring Tire",
                                    "ListPrice": "28.99"
                                },
                                {
                                    "Name": "LL Mountain Seat/Saddle",
                                    "ListPrice": "27.12"
                                },
                                {
                                    "Name": "LL Road Seat/Saddle",
                                    "ListPrice": "27.12"
                                },
                                {
                                    "Name": "LL Touring Seat/Saddle",
                                    "ListPrice": "27.12"
                                },
                                {
                                    "Name": "Cable Lock",
                                    "ListPrice": "25.00"
                                },
                                {
                                    "Name": "LL Mountain Tire",
                                    "ListPrice": "24.99"
                                },
                                {
                                    "Name": "ML Road Tire",
                                    "ListPrice": "24.99"
                                },
                                {
                                    "Name": "Mountain Pump",
                                    "ListPrice": "24.99"
                                },
                                {
                                    "Name": "Half-Finger Gloves, L",
                                    "ListPrice": "24.49"
                                },
                                {
                                    "Name": "Half-Finger Gloves, M",
                                    "ListPrice": "24.49"
                                },
                                {
                                    "Name": "Half-Finger Gloves, S",
                                    "ListPrice": "24.49"
                                },
                                {
                                    "Name": "Fender Set - Mountain",
                                    "ListPrice": "21.98"
                                },
                                {
                                    "Name": "LL Road Tire",
                                    "ListPrice": "21.49"
                                },
                                {
                                    "Name": "Chain",
                                    "ListPrice": "20.24"
                                },
                                {
                                    "Name": "Minipump",
                                    "ListPrice": "19.99"
                                },
                                {
                                    "Name": "Taillights - Battery-Powered",
                                    "ListPrice": "13.99"
                                },
                                {
                                    "Name": "Mountain Bottle Cage",
                                    "ListPrice": "9.99"
                                },
                                {
                                    "Name": "Mountain Bike Socks, L",
                                    "ListPrice": "9.50"
                                },
                                {
                                    "Name": "Mountain Bike Socks, M",
                                    "ListPrice": "9.50"
                                },
                                {
                                    "Name": "AWC Logo Cap",
                                    "ListPrice": "8.99"
                                },
                                {
                                    "Name": "Racing Socks, L",
                                    "ListPrice": "8.99"
                                },
                                {
                                    "Name": "Racing Socks, M",
                                    "ListPrice": "8.99"
                                },
                                {
                                    "Name": "Road Bottle Cage",
                                    "ListPrice": "8.99"
                                },
                                {
                                    "Name": "Bike Wash - Dissolver",
                                    "ListPrice": "7.95"
                                },
                                {
                                    "Name": "Mountain Tire Tube",
                                    "ListPrice": "4.99"
                                },
                                {
                                    "Name": "Touring Tire Tube",
                                    "ListPrice": "4.99"
                                },
                                {
                                    "Name": "Water Bottle - 30 oz.",
                                    "ListPrice": "4.99"
                                },
                                {
                                    "Name": "Road Tire Tube",
                                    "ListPrice": "3.99"
                                },
                                {
                                    "Name": "Patch Kit/8 Patches",
                                    "ListPrice": "2.29"
                                }
                            ]
                        },
                        "text/html": [
                            "<table>",
                            "<tr><th>Name</th><th>ListPrice</th></tr>",
                            "<tr><td>Road-150 Red, 44</td><td>3578.27</td></tr>",
                            "<tr><td>Road-150 Red, 48</td><td>3578.27</td></tr>",
                            "<tr><td>Road-150 Red, 52</td><td>3578.27</td></tr>",
                            "<tr><td>Road-150 Red, 56</td><td>3578.27</td></tr>",
                            "<tr><td>Road-150 Red, 62</td><td>3578.27</td></tr>",
                            "<tr><td>Mountain-100 Silver, 38</td><td>3399.99</td></tr>",
                            "<tr><td>Mountain-100 Silver, 42</td><td>3399.99</td></tr>",
                            "<tr><td>Mountain-100 Silver, 44</td><td>3399.99</td></tr>",
                            "<tr><td>Mountain-100 Silver, 48</td><td>3399.99</td></tr>",
                            "<tr><td>Mountain-100 Black, 38</td><td>3374.99</td></tr>",
                            "<tr><td>Mountain-100 Black, 42</td><td>3374.99</td></tr>",
                            "<tr><td>Mountain-100 Black, 44</td><td>3374.99</td></tr>",
                            "<tr><td>Mountain-100 Black, 48</td><td>3374.99</td></tr>",
                            "<tr><td>Road-250 Black, 44</td><td>2443.35</td></tr>",
                            "<tr><td>Road-250 Black, 48</td><td>2443.35</td></tr>",
                            "<tr><td>Road-250 Black, 52</td><td>2443.35</td></tr>",
                            "<tr><td>Road-250 Black, 58</td><td>2443.35</td></tr>",
                            "<tr><td>Road-250 Red, 44</td><td>2443.35</td></tr>",
                            "<tr><td>Road-250 Red, 48</td><td>2443.35</td></tr>",
                            "<tr><td>Road-250 Red, 52</td><td>2443.35</td></tr>",
                            "<tr><td>Road-250 Red, 58</td><td>2443.35</td></tr>",
                            "<tr><td>Touring-1000 Blue, 46</td><td>2384.07</td></tr>",
                            "<tr><td>Touring-1000 Blue, 50</td><td>2384.07</td></tr>",
                            "<tr><td>Touring-1000 Blue, 54</td><td>2384.07</td></tr>",
                            "<tr><td>Touring-1000 Blue, 60</td><td>2384.07</td></tr>",
                            "<tr><td>Touring-1000 Yellow, 46</td><td>2384.07</td></tr>",
                            "<tr><td>Touring-1000 Yellow, 50</td><td>2384.07</td></tr>",
                            "<tr><td>Touring-1000 Yellow, 54</td><td>2384.07</td></tr>",
                            "<tr><td>Touring-1000 Yellow, 60</td><td>2384.07</td></tr>",
                            "<tr><td>Mountain-200 Silver, 38</td><td>2319.99</td></tr>",
                            "<tr><td>Mountain-200 Silver, 42</td><td>2319.99</td></tr>",
                            "<tr><td>Mountain-200 Silver, 46</td><td>2319.99</td></tr>",
                            "<tr><td>Mountain-200 Black, 38</td><td>2294.99</td></tr>",
                            "<tr><td>Mountain-200 Black, 42</td><td>2294.99</td></tr>",
                            "<tr><td>Mountain-200 Black, 46</td><td>2294.99</td></tr>",
                            "<tr><td>Road-350-W Yellow, 40</td><td>1700.99</td></tr>",
                            "<tr><td>Road-350-W Yellow, 42</td><td>1700.99</td></tr>",
                            "<tr><td>Road-350-W Yellow, 44</td><td>1700.99</td></tr>",
                            "<tr><td>Road-350-W Yellow, 48</td><td>1700.99</td></tr>",
                            "<tr><td>Road-450 Red, 44</td><td>1457.99</td></tr>",
                            "<tr><td>Road-450 Red, 48</td><td>1457.99</td></tr>",
                            "<tr><td>Road-450 Red, 52</td><td>1457.99</td></tr>",
                            "<tr><td>Road-450 Red, 58</td><td>1457.99</td></tr>",
                            "<tr><td>Road-450 Red, 60</td><td>1457.99</td></tr>",
                            "<tr><td>HL Road Frame - Black, 44</td><td>1431.50</td></tr>",
                            "<tr><td>HL Road Frame - Black, 48</td><td>1431.50</td></tr>",
                            "<tr><td>HL Road Frame - Black, 52</td><td>1431.50</td></tr>",
                            "<tr><td>HL Road Frame - Black, 58</td><td>1431.50</td></tr>",
                            "<tr><td>HL Road Frame - Black, 62</td><td>1431.50</td></tr>",
                            "<tr><td>HL Road Frame - Red, 44</td><td>1431.50</td></tr>",
                            "<tr><td>HL Road Frame - Red, 48</td><td>1431.50</td></tr>",
                            "<tr><td>HL Road Frame - Red, 52</td><td>1431.50</td></tr>",
                            "<tr><td>HL Road Frame - Red, 56</td><td>1431.50</td></tr>",
                            "<tr><td>HL Road Frame - Red, 58</td><td>1431.50</td></tr>",
                            "<tr><td>HL Road Frame - Red, 62</td><td>1431.50</td></tr>",
                            "<tr><td>HL Mountain Frame - Silver, 38</td><td>1364.50</td></tr>",
                            "<tr><td>HL Mountain Frame - Silver, 42</td><td>1364.50</td></tr>",
                            "<tr><td>HL Mountain Frame - Silver, 44</td><td>1364.50</td></tr>",
                            "<tr><td>HL Mountain Frame - Silver, 46</td><td>1364.50</td></tr>",
                            "<tr><td>HL Mountain Frame - Silver, 48</td><td>1364.50</td></tr>",
                            "<tr><td>HL Mountain Frame - Black, 38</td><td>1349.60</td></tr>",
                            "<tr><td>HL Mountain Frame - Black, 42</td><td>1349.60</td></tr>",
                            "<tr><td>HL Mountain Frame - Black, 44</td><td>1349.60</td></tr>",
                            "<tr><td>HL Mountain Frame - Black, 46</td><td>1349.60</td></tr>",
                            "<tr><td>HL Mountain Frame - Black, 48</td><td>1349.60</td></tr>",
                            "<tr><td>Touring-2000 Blue, 46</td><td>1214.85</td></tr>",
                            "<tr><td>Touring-2000 Blue, 50</td><td>1214.85</td></tr>",
                            "<tr><td>Touring-2000 Blue, 54</td><td>1214.85</td></tr>",
                            "<tr><td>Touring-2000 Blue, 60</td><td>1214.85</td></tr>",
                            "<tr><td>Road-550-W Yellow, 38</td><td>1120.49</td></tr>",
                            "<tr><td>Road-550-W Yellow, 40</td><td>1120.49</td></tr>",
                            "<tr><td>Road-550-W Yellow, 42</td><td>1120.49</td></tr>",
                            "<tr><td>Road-550-W Yellow, 44</td><td>1120.49</td></tr>",
                            "<tr><td>Road-550-W Yellow, 48</td><td>1120.49</td></tr>",
                            "<tr><td>Mountain-300 Black, 38</td><td>1079.99</td></tr>",
                            "<tr><td>Mountain-300 Black, 40</td><td>1079.99</td></tr>",
                            "<tr><td>Mountain-300 Black, 44</td><td>1079.99</td></tr>",
                            "<tr><td>Mountain-300 Black, 48</td><td>1079.99</td></tr>",
                            "<tr><td>HL Touring Frame - Blue, 46</td><td>1003.91</td></tr>",
                            "<tr><td>HL Touring Frame - Blue, 50</td><td>1003.91</td></tr>",
                            "<tr><td>HL Touring Frame - Blue, 54</td><td>1003.91</td></tr>",
                            "<tr><td>HL Touring Frame - Blue, 60</td><td>1003.91</td></tr>",
                            "<tr><td>HL Touring Frame - Yellow, 46</td><td>1003.91</td></tr>",
                            "<tr><td>HL Touring Frame - Yellow, 50</td><td>1003.91</td></tr>",
                            "<tr><td>HL Touring Frame - Yellow, 54</td><td>1003.91</td></tr>",
                            "<tr><td>HL Touring Frame - Yellow, 60</td><td>1003.91</td></tr>",
                            "<tr><td>Road-650 Black, 44</td><td>782.99</td></tr>",
                            "<tr><td>Road-650 Black, 48</td><td>782.99</td></tr>",
                            "<tr><td>Road-650 Black, 52</td><td>782.99</td></tr>",
                            "<tr><td>Road-650 Black, 58</td><td>782.99</td></tr>",
                            "<tr><td>Road-650 Black, 60</td><td>782.99</td></tr>",
                            "<tr><td>Road-650 Black, 62</td><td>782.99</td></tr>",
                            "<tr><td>Road-650 Red, 44</td><td>782.99</td></tr>",
                            "<tr><td>Road-650 Red, 48</td><td>782.99</td></tr>",
                            "<tr><td>Road-650 Red, 52</td><td>782.99</td></tr>",
                            "<tr><td>Road-650 Red, 58</td><td>782.99</td></tr>",
                            "<tr><td>Road-650 Red, 60</td><td>782.99</td></tr>",
                            "<tr><td>Road-650 Red, 62</td><td>782.99</td></tr>",
                            "<tr><td>Mountain-400-W Silver, 38</td><td>769.49</td></tr>",
                            "<tr><td>Mountain-400-W Silver, 40</td><td>769.49</td></tr>",
                            "<tr><td>Mountain-400-W Silver, 42</td><td>769.49</td></tr>",
                            "<tr><td>Mountain-400-W Silver, 46</td><td>769.49</td></tr>",
                            "<tr><td>Touring-3000 Blue, 44</td><td>742.35</td></tr>",
                            "<tr><td>Touring-3000 Blue, 50</td><td>742.35</td></tr>",
                            "<tr><td>Touring-3000 Blue, 54</td><td>742.35</td></tr>",
                            "<tr><td>Touring-3000 Blue, 58</td><td>742.35</td></tr>",
                            "<tr><td>Touring-3000 Blue, 62</td><td>742.35</td></tr>",
                            "<tr><td>Touring-3000 Yellow, 44</td><td>742.35</td></tr>",
                            "<tr><td>Touring-3000 Yellow, 50</td><td>742.35</td></tr>",
                            "<tr><td>Touring-3000 Yellow, 54</td><td>742.35</td></tr>",
                            "<tr><td>Touring-3000 Yellow, 58</td><td>742.35</td></tr>",
                            "<tr><td>Touring-3000 Yellow, 62</td><td>742.35</td></tr>",
                            "<tr><td>ML Road Frame - Red, 44</td><td>594.83</td></tr>",
                            "<tr><td>ML Road Frame - Red, 48</td><td>594.83</td></tr>",
                            "<tr><td>ML Road Frame - Red, 52</td><td>594.83</td></tr>",
                            "<tr><td>ML Road Frame - Red, 58</td><td>594.83</td></tr>",
                            "<tr><td>ML Road Frame - Red, 60</td><td>594.83</td></tr>",
                            "<tr><td>ML Road Frame-W - Yellow, 38</td><td>594.83</td></tr>",
                            "<tr><td>ML Road Frame-W - Yellow, 40</td><td>594.83</td></tr>",
                            "<tr><td>ML Road Frame-W - Yellow, 42</td><td>594.83</td></tr>",
                            "<tr><td>ML Road Frame-W - Yellow, 44</td><td>594.83</td></tr>",
                            "<tr><td>ML Road Frame-W - Yellow, 48</td><td>594.83</td></tr>",
                            "<tr><td>Mountain-500 Silver, 40</td><td>564.99</td></tr>",
                            "<tr><td>Mountain-500 Silver, 42</td><td>564.99</td></tr>",
                            "<tr><td>Mountain-500 Silver, 44</td><td>564.99</td></tr>",
                            "<tr><td>Mountain-500 Silver, 48</td><td>564.99</td></tr>",
                            "<tr><td>Mountain-500 Silver, 52</td><td>564.99</td></tr>",
                            "<tr><td>Mountain-500 Black, 40</td><td>539.99</td></tr>",
                            "<tr><td>Mountain-500 Black, 42</td><td>539.99</td></tr>",
                            "<tr><td>Mountain-500 Black, 44</td><td>539.99</td></tr>",
                            "<tr><td>Mountain-500 Black, 48</td><td>539.99</td></tr>",
                            "<tr><td>Mountain-500 Black, 52</td><td>539.99</td></tr>",
                            "<tr><td>Road-750 Black, 44</td><td>539.99</td></tr>",
                            "<tr><td>Road-750 Black, 48</td><td>539.99</td></tr>",
                            "<tr><td>Road-750 Black, 52</td><td>539.99</td></tr>",
                            "<tr><td>Road-750 Black, 58</td><td>539.99</td></tr>",
                            "<tr><td>HL Crankset</td><td>404.99</td></tr>",
                            "<tr><td>ML Mountain Frame-W - Silver, 38</td><td>364.09</td></tr>",
                            "<tr><td>ML Mountain Frame-W - Silver, 40</td><td>364.09</td></tr>",
                            "<tr><td>ML Mountain Frame-W - Silver, 42</td><td>364.09</td></tr>",
                            "<tr><td>ML Mountain Frame-W - Silver, 46</td><td>364.09</td></tr>",
                            "<tr><td>HL Road Rear Wheel</td><td>357.06</td></tr>",
                            "<tr><td>ML Mountain Frame - Black, 38</td><td>348.76</td></tr>",
                            "<tr><td>ML Mountain Frame - Black, 40</td><td>348.76</td></tr>",
                            "<tr><td>ML Mountain Frame - Black, 44</td><td>348.76</td></tr>",
                            "<tr><td>ML Mountain Frame - Black, 48</td><td>348.76</td></tr>",
                            "<tr><td>LL Road Frame - Black, 44</td><td>337.22</td></tr>",
                            "<tr><td>LL Road Frame - Black, 48</td><td>337.22</td></tr>",
                            "<tr><td>LL Road Frame - Black, 52</td><td>337.22</td></tr>",
                            "<tr><td>LL Road Frame - Black, 58</td><td>337.22</td></tr>",
                            "<tr><td>LL Road Frame - Black, 60</td><td>337.22</td></tr>",
                            "<tr><td>LL Road Frame - Black, 62</td><td>337.22</td></tr>",
                            "<tr><td>LL Road Frame - Red, 44</td><td>337.22</td></tr>",
                            "<tr><td>LL Road Frame - Red, 48</td><td>337.22</td></tr>",
                            "<tr><td>LL Road Frame - Red, 52</td><td>337.22</td></tr>",
                            "<tr><td>LL Road Frame - Red, 58</td><td>337.22</td></tr>",
                            "<tr><td>LL Road Frame - Red, 60</td><td>337.22</td></tr>",
                            "<tr><td>LL Road Frame - Red, 62</td><td>337.22</td></tr>",
                            "<tr><td>LL Touring Frame - Blue, 44</td><td>333.42</td></tr>",
                            "<tr><td>LL Touring Frame - Blue, 50</td><td>333.42</td></tr>",
                            "<tr><td>LL Touring Frame - Blue, 54</td><td>333.42</td></tr>",
                            "<tr><td>LL Touring Frame - Blue, 58</td><td>333.42</td></tr>",
                            "<tr><td>LL Touring Frame - Blue, 62</td><td>333.42</td></tr>",
                            "<tr><td>LL Touring Frame - Yellow, 44</td><td>333.42</td></tr>",
                            "<tr><td>LL Touring Frame - Yellow, 50</td><td>333.42</td></tr>",
                            "<tr><td>LL Touring Frame - Yellow, 54</td><td>333.42</td></tr>",
                            "<tr><td>LL Touring Frame - Yellow, 58</td><td>333.42</td></tr>",
                            "<tr><td>LL Touring Frame - Yellow, 62</td><td>333.42</td></tr>",
                            "<tr><td>HL Road Front Wheel</td><td>330.06</td></tr>",
                            "<tr><td>HL Mountain Rear Wheel</td><td>327.215</td></tr>",
                            "<tr><td>HL Mountain Front Wheel</td><td>300.215</td></tr>",
                            "<tr><td>ML Road Rear Wheel</td><td>275.385</td></tr>",
                            "<tr><td>LL Mountain Frame - Silver, 40</td><td>264.05</td></tr>",
                            "<tr><td>LL Mountain Frame - Silver, 42</td><td>264.05</td></tr>",
                            "<tr><td>LL Mountain Frame - Silver, 44</td><td>264.05</td></tr>",
                            "<tr><td>LL Mountain Frame - Silver, 48</td><td>264.05</td></tr>",
                            "<tr><td>LL Mountain Frame - Silver, 52</td><td>264.05</td></tr>",
                            "<tr><td>ML Crankset</td><td>256.49</td></tr>",
                            "<tr><td>LL Mountain Frame - Black, 40</td><td>249.79</td></tr>",
                            "<tr><td>LL Mountain Frame - Black, 42</td><td>249.79</td></tr>",
                            "<tr><td>LL Mountain Frame - Black, 44</td><td>249.79</td></tr>",
                            "<tr><td>LL Mountain Frame - Black, 48</td><td>249.79</td></tr>",
                            "<tr><td>LL Mountain Frame - Black, 52</td><td>249.79</td></tr>",
                            "<tr><td>ML Road Front Wheel</td><td>248.385</td></tr>",
                            "<tr><td>Touring Rear Wheel</td><td>245.01</td></tr>",
                            "<tr><td>ML Mountain Rear Wheel</td><td>236.025</td></tr>",
                            "<tr><td>HL Fork</td><td>229.49</td></tr>",
                            "<tr><td>Touring Front Wheel</td><td>218.01</td></tr>",
                            "<tr><td>ML Mountain Front Wheel</td><td>209.025</td></tr>",
                            "<tr><td>LL Crankset</td><td>175.49</td></tr>",
                            "<tr><td>ML Fork</td><td>175.49</td></tr>",
                            "<tr><td>All-Purpose Bike Stand</td><td>159.00</td></tr>",
                            "<tr><td>LL Fork</td><td>148.22</td></tr>",
                            "<tr><td>Touring-Panniers, Large</td><td>125.00</td></tr>",
                            "<tr><td>HL Headset</td><td>124.73</td></tr>",
                            "<tr><td>HL Bottom Bracket</td><td>121.49</td></tr>",
                            "<tr><td>Rear Derailleur</td><td>121.46</td></tr>",
                            "<tr><td>HL Mountain Handlebars</td><td>120.27</td></tr>",
                            "<tr><td>HL Road Handlebars</td><td>120.27</td></tr>",
                            "<tr><td>Hitch Rack - 4-Bike</td><td>120.00</td></tr>",
                            "<tr><td>LL Road Rear Wheel</td><td>112.565</td></tr>",
                            "<tr><td>Front Brakes</td><td>106.50</td></tr>",
                            "<tr><td>Rear Brakes</td><td>106.50</td></tr>",
                            "<tr><td>ML Headset</td><td>102.29</td></tr>",
                            "<tr><td>ML Bottom Bracket</td><td>101.24</td></tr>",
                            "<tr><td>HL Touring Handlebars</td><td>91.57</td></tr>",
                            "<tr><td>Front Derailleur</td><td>91.49</td></tr>",
                            "<tr><td>Men&#39;s Bib-Shorts, L</td><td>89.99</td></tr>",
                            "<tr><td>Men&#39;s Bib-Shorts, M</td><td>89.99</td></tr>",
                            "<tr><td>Men&#39;s Bib-Shorts, S</td><td>89.99</td></tr>",
                            "<tr><td>LL Mountain Rear Wheel</td><td>87.745</td></tr>",
                            "<tr><td>LL Road Front Wheel</td><td>85.565</td></tr>",
                            "<tr><td>HL Mountain Pedal</td><td>80.99</td></tr>",
                            "<tr><td>HL Road Pedal</td><td>80.99</td></tr>",
                            "<tr><td>Touring Pedal</td><td>80.99</td></tr>",
                            "<tr><td>Women&#39;s Tights, L</td><td>74.99</td></tr>",
                            "<tr><td>Women&#39;s Tights, M</td><td>74.99</td></tr>",
                            "<tr><td>Women&#39;s Tights, S</td><td>74.99</td></tr>",
                            "<tr><td>Women&#39;s Mountain Shorts, L</td><td>69.99</td></tr>",
                            "<tr><td>Women&#39;s Mountain Shorts, M</td><td>69.99</td></tr>",
                            "<tr><td>Women&#39;s Mountain Shorts, S</td><td>69.99</td></tr>",
                            "<tr><td>Classic Vest, L</td><td>63.50</td></tr>",
                            "<tr><td>Classic Vest, M</td><td>63.50</td></tr>",
                            "<tr><td>Classic Vest, S</td><td>63.50</td></tr>",
                            "<tr><td>ML Mountain Pedal</td><td>62.09</td></tr>",
                            "<tr><td>ML Road Pedal</td><td>62.09</td></tr>",
                            "<tr><td>ML Mountain Handlebars</td><td>61.92</td></tr>",
                            "<tr><td>ML Road Handlebars</td><td>61.92</td></tr>",
                            "<tr><td>LL Mountain Front Wheel</td><td>60.745</td></tr>",
                            "<tr><td>Men&#39;s Sports Shorts, L</td><td>59.99</td></tr>",
                            "<tr><td>Men&#39;s Sports Shorts, M</td><td>59.99</td></tr>",
                            "<tr><td>Men&#39;s Sports Shorts, S</td><td>59.99</td></tr>",
                            "<tr><td>Men&#39;s Sports Shorts, XL</td><td>59.99</td></tr>",
                            "<tr><td>Hydration Pack - 70 oz.</td><td>54.99</td></tr>",
                            "<tr><td>LL Bottom Bracket</td><td>53.99</td></tr>",
                            "<tr><td>Short-Sleeve Classic Jersey, L</td><td>53.99</td></tr>",
                            "<tr><td>Short-Sleeve Classic Jersey, M</td><td>53.99</td></tr>",
                            "<tr><td>Short-Sleeve Classic Jersey, S</td><td>53.99</td></tr>",
                            "<tr><td>Short-Sleeve Classic Jersey, XL</td><td>53.99</td></tr>",
                            "<tr><td>HL Mountain Seat/Saddle</td><td>52.64</td></tr>",
                            "<tr><td>HL Road Seat/Saddle</td><td>52.64</td></tr>",
                            "<tr><td>HL Touring Seat/Saddle</td><td>52.64</td></tr>",
                            "<tr><td>Long-Sleeve Logo Jersey, L</td><td>49.99</td></tr>",
                            "<tr><td>Long-Sleeve Logo Jersey, M</td><td>49.99</td></tr>",
                            "<tr><td>Long-Sleeve Logo Jersey, S</td><td>49.99</td></tr>",
                            "<tr><td>Long-Sleeve Logo Jersey, XL</td><td>49.99</td></tr>",
                            "<tr><td>LL Touring Handlebars</td><td>46.09</td></tr>",
                            "<tr><td>Headlights - Weatherproof</td><td>44.99</td></tr>",
                            "<tr><td>LL Mountain Handlebars</td><td>44.54</td></tr>",
                            "<tr><td>LL Road Handlebars</td><td>44.54</td></tr>",
                            "<tr><td>LL Mountain Pedal</td><td>40.49</td></tr>",
                            "<tr><td>LL Road Pedal</td><td>40.49</td></tr>",
                            "<tr><td>ML Mountain Seat/Saddle</td><td>39.14</td></tr>",
                            "<tr><td>ML Road Seat/Saddle</td><td>39.14</td></tr>",
                            "<tr><td>ML Touring Seat/Saddle</td><td>39.14</td></tr>",
                            "<tr><td>Full-Finger Gloves, L</td><td>37.99</td></tr>",
                            "<tr><td>Full-Finger Gloves, M</td><td>37.99</td></tr>",
                            "<tr><td>Full-Finger Gloves, S</td><td>37.99</td></tr>",
                            "<tr><td>HL Mountain Tire</td><td>35.00</td></tr>",
                            "<tr><td>Headlights - Dual-Beam</td><td>34.99</td></tr>",
                            "<tr><td>Sport-100 Helmet, Black</td><td>34.99</td></tr>",
                            "<tr><td>Sport-100 Helmet, Blue</td><td>34.99</td></tr>",
                            "<tr><td>Sport-100 Helmet, Red</td><td>34.99</td></tr>",
                            "<tr><td>LL Headset</td><td>34.20</td></tr>",
                            "<tr><td>HL Road Tire</td><td>32.60</td></tr>",
                            "<tr><td>ML Mountain Tire</td><td>29.99</td></tr>",
                            "<tr><td>Touring Tire</td><td>28.99</td></tr>",
                            "<tr><td>LL Mountain Seat/Saddle</td><td>27.12</td></tr>",
                            "<tr><td>LL Road Seat/Saddle</td><td>27.12</td></tr>",
                            "<tr><td>LL Touring Seat/Saddle</td><td>27.12</td></tr>",
                            "<tr><td>Cable Lock</td><td>25.00</td></tr>",
                            "<tr><td>LL Mountain Tire</td><td>24.99</td></tr>",
                            "<tr><td>ML Road Tire</td><td>24.99</td></tr>",
                            "<tr><td>Mountain Pump</td><td>24.99</td></tr>",
                            "<tr><td>Half-Finger Gloves, L</td><td>24.49</td></tr>",
                            "<tr><td>Half-Finger Gloves, M</td><td>24.49</td></tr>",
                            "<tr><td>Half-Finger Gloves, S</td><td>24.49</td></tr>",
                            "<tr><td>Fender Set - Mountain</td><td>21.98</td></tr>",
                            "<tr><td>LL Road Tire</td><td>21.49</td></tr>",
                            "<tr><td>Chain</td><td>20.24</td></tr>",
                            "<tr><td>Minipump</td><td>19.99</td></tr>",
                            "<tr><td>Taillights - Battery-Powered</td><td>13.99</td></tr>",
                            "<tr><td>Mountain Bottle Cage</td><td>9.99</td></tr>",
                            "<tr><td>Mountain Bike Socks, L</td><td>9.50</td></tr>",
                            "<tr><td>Mountain Bike Socks, M</td><td>9.50</td></tr>",
                            "<tr><td>AWC Logo Cap</td><td>8.99</td></tr>",
                            "<tr><td>Racing Socks, L</td><td>8.99</td></tr>",
                            "<tr><td>Racing Socks, M</td><td>8.99</td></tr>",
                            "<tr><td>Road Bottle Cage</td><td>8.99</td></tr>",
                            "<tr><td>Bike Wash - Dissolver</td><td>7.95</td></tr>",
                            "<tr><td>Mountain Tire Tube</td><td>4.99</td></tr>",
                            "<tr><td>Touring Tire Tube</td><td>4.99</td></tr>",
                            "<tr><td>Water Bottle - 30 oz.</td><td>4.99</td></tr>",
                            "<tr><td>Road Tire Tube</td><td>3.99</td></tr>",
                            "<tr><td>Patch Kit/8 Patches</td><td>2.29</td></tr>",
                            "</table>"
                        ]
                    }
                }
            ],
            "execution_count": 6
        },
        {
            "cell_type": "markdown",
            "source": [
                "## Restrict results using TOP\n",
                "\n",
                "[](https://github.com/MSSA-PCAD12/dp-080-Transact-SQL/blob/master/Instructions/Labs/02-filter-sort.md#restrict-results-using-top)\n",
                "\n",
                "Sometimes you only want to return a specific number of rows. For example, you might want to find the twenty most expensive products."
            ],
            "metadata": {
                "language": "sql",
                "azdata_cell_guid": "7f04fcf3-f5f2-4547-ae69-17610332a360"
            },
            "attachments": {}
        },
        {
            "cell_type": "code",
            "source": [
                "SELECT TOP (20) Name, ListPrice\r\n",
                "FROM SalesLT.Product\r\n",
                "ORDER BY ListPrice DESC;"
            ],
            "metadata": {
                "language": "sql",
                "azdata_cell_guid": "3eae5326-7870-4cc8-894c-1e151f5c014d"
            },
            "outputs": [],
            "execution_count": null
        },
        {
            "cell_type": "code",
            "source": [
                "SELECT TOP (20) WITH TIES Name, ListPrice\r\n",
                "FROM SalesLT.Product\r\n",
                "ORDER BY ListPrice DESC;"
            ],
            "metadata": {
                "language": "sql",
                "azdata_cell_guid": "9edc4fe9-54c5-4cc4-92cf-58cc622ded5e"
            },
            "outputs": [],
            "execution_count": null
        },
        {
            "cell_type": "code",
            "source": [
                "SELECT TOP (20) PERCENT WITH TIES Name, ListPrice\r\n",
                "FROM SalesLT.Product\r\n",
                "ORDER BY ListPrice DESC;"
            ],
            "metadata": {
                "language": "sql",
                "azdata_cell_guid": "5655b172-6b7d-42fa-9dea-d9bea25cff7d"
            },
            "outputs": [],
            "execution_count": null
        },
        {
            "cell_type": "markdown",
            "source": [
                "## Retrieve pages of results with OFFSET and FETCH\n",
                "\n",
                "[](https://github.com/MSSA-PCAD12/dp-080-Transact-SQL/blob/master/Instructions/Labs/02-filter-sort.md#retrieve-pages-of-results-with-offset-and-fetch)\n",
                "\n",
                "User interfaces and reports often present large volumes of data as pages, you make them easier to navigate on a screen."
            ],
            "metadata": {
                "language": "sql",
                "azdata_cell_guid": "345db614-707c-4916-997a-cb4ff7fe853a"
            },
            "attachments": {}
        },
        {
            "cell_type": "code",
            "source": [
                "SELECT Name, ListPrice\r\n",
                "FROM SalesLT.Product\r\n",
                "ORDER BY Name \r\n",
                "OFFSET 10 ROWS\r\n",
                " FETCH NEXT 10 ROWS ONLY;"
            ],
            "metadata": {
                "language": "sql",
                "azdata_cell_guid": "5dfb4903-520e-489b-ace6-62c5f7c4375a"
            },
            "outputs": [],
            "execution_count": null
        },
        {
            "cell_type": "markdown",
            "source": [
                "## Use the ALL and DISTINCT options\n",
                "\n",
                "[](https://github.com/MSSA-PCAD12/dp-080-Transact-SQL/blob/master/Instructions/Labs/02-filter-sort.md#use-the-all-and-distinct-options)\n",
                "\n",
                "Often, multiple rows in a table may contain the same values for a given subset of fields. For example, a table of products might contain a **Color** field that identifies the color of a given product. It's not unreasonable to assume that there may be multiple products of the same color. Similarly, the table might contain a **Size** field; and again it's not unreasonable to assume that there may be multiple products of the same size; or even multiple products with the same combination of size and color."
            ],
            "metadata": {
                "language": "sql",
                "azdata_cell_guid": "fb94eb4d-a24d-4385-b8e1-a0ff6c97dc95"
            },
            "attachments": {}
        },
        {
            "cell_type": "code",
            "source": [
                "SELECT ALL Color\r\n",
                "FROM SalesLT.Product;"
            ],
            "metadata": {
                "language": "sql",
                "azdata_cell_guid": "fe9321cf-ada2-4725-88ce-1d68e881f6c6"
            },
            "outputs": [],
            "execution_count": null
        },
        {
            "cell_type": "code",
            "source": [
                "SELECT DISTINCT Color\r\n",
                "FROM SalesLT.Product;\r\n",
                "SELECT DISTINCT Color, Size\r\n",
                "FROM SalesLT.Product;"
            ],
            "metadata": {
                "language": "sql",
                "azdata_cell_guid": "ac98345c-ba17-44ae-95ef-0ecf3a5caf0c"
            },
            "outputs": [],
            "execution_count": null
        },
        {
            "cell_type": "markdown",
            "source": [
                "## Filter results with the WHERE clause\n",
                "\n",
                "[](https://github.com/MSSA-PCAD12/dp-080-Transact-SQL/blob/master/Instructions/Labs/02-filter-sort.md#filter-results-with-the-where-clause)\n",
                "\n",
                "Most queries for application development or reporting involve filtering the data to match specified criteria. You typically apply filtering criteria as a predicate in a **WHERE** clause of a query."
            ],
            "metadata": {
                "language": "sql",
                "azdata_cell_guid": "bad5e806-3814-4258-aa79-f55282be03ee"
            },
            "attachments": {}
        },
        {
            "cell_type": "code",
            "source": [
                "SELECT Name, Color, Size\r\n",
                "FROM SalesLT.Product\r\n",
                "WHERE ProductModelID = 6\r\n",
                "ORDER BY Name;"
            ],
            "metadata": {
                "language": "sql",
                "azdata_cell_guid": "bb75d4a1-a2b2-4588-acff-d594e888dbcd"
            },
            "outputs": [],
            "execution_count": null
        },
        {
            "cell_type": "markdown",
            "source": [
                "Replace the query with the following code, which uses the _not equal_ (\\<\\>) operator, and run it."
            ],
            "metadata": {
                "language": "sql",
                "azdata_cell_guid": "02118a31-a91f-46a4-86ff-761116d427be"
            },
            "attachments": {}
        },
        {
            "cell_type": "code",
            "source": [
                "SELECT Name, Color, Size\r\n",
                "FROM SalesLT.Product\r\n",
                "WHERE ProductModelID <> 6\r\n",
                "ORDER BY Name;"
            ],
            "metadata": {
                "language": "sql",
                "azdata_cell_guid": "4778b4b3-035d-4601-b0e4-1cf5b9112da1"
            },
            "outputs": [],
            "execution_count": null
        },
        {
            "cell_type": "code",
            "source": [
                "SELECT Name, ListPrice\r\n",
                "FROM SalesLT.Product\r\n",
                "WHERE ListPrice > 1000.00\r\n",
                "ORDER BY ListPrice;"
            ],
            "metadata": {
                "language": "sql",
                "azdata_cell_guid": "c4a7ac1c-61eb-420d-83b7-87dc119e62d9"
            },
            "outputs": [],
            "execution_count": null
        },
        {
            "cell_type": "code",
            "source": [
                "SELECT Name, ListPrice\r\n",
                "FROM SalesLT.Product\r\n",
                "WHERE Name LIKE 'HL Road Frame %';"
            ],
            "metadata": {
                "language": "sql",
                "azdata_cell_guid": "7dea7eae-937d-4e28-9a2c-28cf559f9282",
                "tags": []
            },
            "outputs": [],
            "execution_count": null
        },
        {
            "cell_type": "markdown",
            "source": [
                "Review the results. This time the results include products with a **ProductNumber** that matches patterns similar to FR-_xNNx_\\-_NN_ (in which _x_ is a letter and _N_ is a numeral).\n",
                "    \n",
                "**Tip**: To learn more about pattern-matching with the **LIKE** operator, see the [Transact-SQL documentation](https://docs.microsoft.com/sql/t-sql/language-elements/like-transact-sql)."
            ],
            "metadata": {
                "language": "sql",
                "azdata_cell_guid": "bec4a681-2fc3-40b7-86a5-8ba9e103e5a5"
            },
            "attachments": {}
        },
        {
            "cell_type": "code",
            "source": [
                "SELECT Name, ListPrice,ProductNumber\r\n",
                "FROM SalesLT.Product\r\n",
                "WHERE ProductNumber LIKE 'FR-_[0-9][0-9]_-[0-9][0-9]';"
            ],
            "metadata": {
                "language": "sql",
                "azdata_cell_guid": "6f769f89-85ff-4124-a9f5-63c60986344e",
                "tags": []
            },
            "outputs": [],
            "execution_count": null
        },
        {
            "cell_type": "markdown",
            "source": [
                "uses the **BETWEEN** operator to define a filter based on values within a defined range."
            ],
            "metadata": {
                "language": "sql",
                "azdata_cell_guid": "bc374f71-01b6-4d5d-8cd9-c937b9a2d4b7"
            },
            "attachments": {}
        },
        {
            "cell_type": "code",
            "source": [
                "SELECT Name,SellEndDate\r\n",
                "FROM SalesLT.Product\r\n",
                "WHERE SellEndDate BETWEEN '2006/1/1' AND '2006/12/31';"
            ],
            "metadata": {
                "language": "sql",
                "azdata_cell_guid": "a1b9e7cf-5d83-4345-8668-11bc3c3ac006"
            },
            "outputs": [],
            "execution_count": null
        },
        {
            "cell_type": "code",
            "source": [
                "SELECT ProductCategoryID, Name, ListPrice\r\n",
                "FROM SalesLT.Product\r\n",
                "WHERE ProductCategoryID IN (5,6,7);"
            ],
            "metadata": {
                "language": "sql",
                "azdata_cell_guid": "d1ba4739-86c0-4086-9adb-af7b1cb899cb"
            },
            "outputs": [],
            "execution_count": null
        },
        {
            "cell_type": "code",
            "source": [
                "SELECT ProductCategoryID, Name, ListPrice, SellEndDate\r\n",
                "FROM SalesLT.Product\r\n",
                "WHERE ProductCategoryID IN (5,6,7) AND SellEndDate IS NULL;"
            ],
            "metadata": {
                "language": "sql",
                "azdata_cell_guid": "4aba216e-667f-4933-bd3f-d197e7eed000"
            },
            "outputs": [],
            "execution_count": null
        },
        {
            "cell_type": "code",
            "source": [
                "SELECT Name, ProductCategoryID, ProductNumber\r\n",
                "FROM SalesLT.Product\r\n",
                "WHERE ProductNumber LIKE 'FR%' OR ProductCategoryID IN (5,6,7);"
            ],
            "metadata": {
                "language": "sql",
                "azdata_cell_guid": "862ddc4a-28b6-43f2-aca0-6f40723b0b49"
            },
            "outputs": [],
            "execution_count": null
        }
    ]
}