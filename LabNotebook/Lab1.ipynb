{
    "metadata": {
        "kernelspec": {
            "name": "SQL",
            "display_name": "SQL",
            "language": "sql"
        },
        "language_info": {
            "name": "sql",
            "version": ""
        }
    },
    "nbformat_minor": 2,
    "nbformat": 4,
    "cells": [
        {
            "cell_type": "code",
            "source": [
                "Select *\r\n",
                "From SalesLT.Product;"
            ],
            "metadata": {
                "azdata_cell_guid": "210e4105-7d5f-4825-a780-74abefe244d0",
                "language": "sql",
                "tags": []
            },
            "outputs": [],
            "execution_count": null
        },
        {
            "cell_type": "code",
            "source": [
                "Select Name,StandardCost,ListPrice\r\n",
                "From SalesLT.Product;"
            ],
            "metadata": {
                "language": "sql",
                "azdata_cell_guid": "ebe4c04d-44db-4f89-ab2a-423a8236aff3"
            },
            "outputs": [],
            "execution_count": null
        },
        {
            "cell_type": "code",
            "source": [
                "Select Name, ListPrice-StandardCost AS Markup\r\n",
                "From SalesLT.Product;"
            ],
            "metadata": {
                "language": "sql",
                "azdata_cell_guid": "4ee3c798-4bf3-4e06-8bd0-911919dc88c9"
            },
            "outputs": [],
            "execution_count": null
        },
        {
            "cell_type": "code",
            "source": [
                "Select ProductNumber, Color,Size\r\n",
                ", Color + ',' +Size as ProductDetail\r\n",
                "From SalesLT.Product"
            ],
            "metadata": {
                "language": "sql",
                "azdata_cell_guid": "53909f34-7643-4b03-8ce6-47f211d1785f",
                "tags": []
            },
            "outputs": [],
            "execution_count": null
        },
        {
            "cell_type": "code",
            "source": [
                "SELECT ProductID + ': ' + Name AS ProductName\r\n",
                "FROM SalesLT.Product; "
            ],
            "metadata": {
                "azdata_cell_guid": "9998fc44-99d3-44ab-9522-664cc8a8f46f",
                "language": "sql"
            },
            "outputs": [],
            "execution_count": null
        },
        {
            "cell_type": "code",
            "source": [
                "SELECT CAST(ProductID AS varchar(5)) + ': ' + Name AS ProductName\r\n",
                "FROM SalesLT.Product; "
            ],
            "metadata": {
                "language": "sql",
                "azdata_cell_guid": "c026c5c0-1ae7-4fcd-a341-371026faed4c"
            },
            "outputs": [],
            "execution_count": null
        },
        {
            "cell_type": "code",
            "source": [
                "SELECT CONVERT(varchar(5), ProductID) + ': ' + Name AS ProductName\r\n",
                "FROM SalesLT.Product; "
            ],
            "metadata": {
                "language": "sql",
                "azdata_cell_guid": "0c9e9a55-47bc-4d3a-845d-63ff40e49c6a"
            },
            "outputs": [],
            "execution_count": null
        },
        {
            "cell_type": "code",
            "source": [
                "SELECT SellStartDate,\r\n",
                "   CONVERT(nvarchar(30), SellStartDate) AS ConvertedDate,\r\n",
                "    CONVERT(nvarchar(30), SellStartDate, 126) AS ISO8601FormatDate\r\n",
                "FROM SalesLT.Product; "
            ],
            "metadata": {
                "language": "sql",
                "azdata_cell_guid": "af746c9d-0eb6-4150-a7cb-5b32f230953e"
            },
            "outputs": [],
            "execution_count": null
        },
        {
            "cell_type": "code",
            "source": [
                "SELECT Name, CAST(Size AS Integer) AS NumericSize\r\n",
                "FROM SalesLT.Product; "
            ],
            "metadata": {
                "language": "sql",
                "azdata_cell_guid": "3ca86c4e-3d59-468f-a0e7-e769cdf80bf1"
            },
            "outputs": [],
            "execution_count": null
        },
        {
            "cell_type": "code",
            "source": [
                "SELECT Name, TRY_CAST(Size AS Integer) AS NumericSize\r\n",
                "FROM SalesLT.Product; "
            ],
            "metadata": {
                "language": "sql",
                "azdata_cell_guid": "7336162d-7717-4487-868e-d6aa8f64c77a",
                "tags": [
                    "hide_input"
                ]
            },
            "outputs": [],
            "execution_count": null
        },
        {
            "cell_type": "code",
            "source": [
                "SELECT Name, ISNULL(TRY_CAST(Size AS Integer),0) AS NumericSize\r\n",
                "FROM SalesLT.Product;"
            ],
            "metadata": {
                "language": "sql",
                "azdata_cell_guid": "ba4fe82c-ced3-44de-9b99-fe5c37627891"
            },
            "outputs": [],
            "execution_count": null
        },
        {
            "cell_type": "code",
            "source": [
                "SELECT Name, NULLIF(Color, 'Multi') AS SingleColor\r\n",
                "FROM SalesLT.Product;"
            ],
            "metadata": {
                "language": "sql",
                "azdata_cell_guid": "93d3dfaf-74a2-4c36-9342-e851fed5d0bc"
            },
            "outputs": [],
            "execution_count": null
        },
        {
            "cell_type": "code",
            "source": [
                "SELECT Name, COALESCE(SellEndDate, SellStartDate) AS StatusLastUpdated\r\n",
                "FROM SalesLT.Product;"
            ],
            "metadata": {
                "language": "sql",
                "azdata_cell_guid": "42597647-6bad-47c2-a289-4fd2427de641"
            },
            "outputs": [],
            "execution_count": null
        },
        {
            "cell_type": "code",
            "source": [
                "SELECT Name,\r\n",
                "    CASE\r\n",
                "        WHEN SellEndDate IS NULL THEN 'Currently for sale'\r\n",
                "        ELSE 'No longer available'\r\n",
                "    END AS SalesStatus\r\n",
                "FROM SalesLT.Product;"
            ],
            "metadata": {
                "language": "sql",
                "azdata_cell_guid": "31ecc5f8-c1d4-4efc-bb08-99b5339cb085"
            },
            "outputs": [],
            "execution_count": null
        },
        {
            "cell_type": "code",
            "source": [
                "SELECT Name,\r\n",
                "    CASE Size\r\n",
                "        WHEN 'S' THEN 'Small'\r\n",
                "        WHEN 'M' THEN 'Medium'\r\n",
                "        WHEN 'L' THEN 'Large'\r\n",
                "        WHEN 'XL' THEN 'Extra-Large'\r\n",
                "        ELSE ISNULL(Size, 'n/a')\r\n",
                "    END AS ProductSize\r\n",
                "FROM SalesLT.Product;"
            ],
            "metadata": {
                "language": "sql",
                "azdata_cell_guid": "bdfd3bb5-7af8-45d4-9cd9-5bbe9b857f09"
            },
            "outputs": [],
            "execution_count": null
        },
        {
            "cell_type": "markdown",
            "source": [
                "Challenges"
            ],
            "metadata": {
                "language": "sql",
                "azdata_cell_guid": "96090857-4179-45d2-afaf-69471ac8b545"
            },
            "attachments": {}
        },
        {
            "cell_type": "code",
            "source": [
                "Select * from SalesLT.Customer;"
            ],
            "metadata": {
                "language": "sql",
                "azdata_cell_guid": "51d02e7e-5d8e-4cf5-a377-9efb8c5f3675"
            },
            "outputs": [],
            "execution_count": null
        },
        {
            "cell_type": "code",
            "source": [
                "Select Title + ' ' + FirstName + ' ' + IsNull(MiddleName + ' ','') + LastName + ' ' + IsNull(Suffix,'') as 'Customer Contact'\r\n",
                "from SalesLT.Customer;"
            ],
            "metadata": {
                "language": "sql",
                "azdata_cell_guid": "3515391d-b9b7-43e9-85fa-d1e2d32d8fa4"
            },
            "outputs": [],
            "execution_count": null
        },
        {
            "cell_type": "code",
            "source": [
                "Select Substring(SalesPerson,CharIndex('\\',SalesPerson)+1,100) as SalesPersonName, Title + ' ' + FirstName + ' ' + IsNull(MiddleName + ' ','') + LastName + ' ' + IsNull(Suffix,'') as 'Customer Contact', Phone\r\n",
                "from SalesLT.Customer Order by 1;"
            ],
            "metadata": {
                "language": "sql",
                "azdata_cell_guid": "32179a28-935d-4453-8d38-4b9b55f61242",
                "tags": [
                    "hide_input"
                ]
            },
            "outputs": [],
            "execution_count": null
        },
        {
            "cell_type": "code",
            "source": [
                "SELECT Convert(nvarchar,CustomerID) + ':'+ CompanyName as 'Customer' From SalesLT.Customer;"
            ],
            "metadata": {
                "language": "sql",
                "azdata_cell_guid": "936b04ba-fa24-4d5e-8fc6-6ed6e597c2ca"
            },
            "outputs": [],
            "execution_count": null
        },
        {
            "cell_type": "code",
            "source": [
                "Select 'SO'+Convert(nvarchar,SalesOrderID) + ' (' + Convert(nvarchar,RevisionNumber) + ')' as 'Order'\r\n",
                ",Convert(varchar, OrderDate ,102) as OrderDate\r\n",
                " From SalesLT.SalesOrderHeader"
            ],
            "metadata": {
                "language": "sql",
                "azdata_cell_guid": "13dc8c60-2609-4207-a807-fde2755d6df4"
            },
            "outputs": [],
            "execution_count": null
        },
        {
            "cell_type": "code",
            "source": [
                "SELECT CustomerID, COALESCE(EmailAddress, Phone) AS PrimaryContact\r\n",
                "FROM SalesLT.Customer;"
            ],
            "metadata": {
                "language": "sql",
                "azdata_cell_guid": "4c8c3d6e-c322-4f1e-806c-b0acbb2ba084"
            },
            "outputs": [],
            "execution_count": null
        },
        {
            "cell_type": "code",
            "source": [
                "UPDATE SalesLT.Customer\r\n",
                "SET EmailAddress = NULL\r\n",
                "WHERE CustomerID % 7 = 1;"
            ],
            "metadata": {
                "language": "sql",
                "azdata_cell_guid": "f8fc45c3-6256-4a73-813b-5777520e647e"
            },
            "outputs": [
                {
                    "output_type": "display_data",
                    "data": {
                        "text/html": "(124 rows affected)"
                    },
                    "metadata": {}
                },
                {
                    "output_type": "display_data",
                    "data": {
                        "text/html": "Total execution time: 00:00:00.012"
                    },
                    "metadata": {}
                }
            ],
            "execution_count": 57
        },
        {
            "cell_type": "code",
            "source": [
                "UPDATE SalesLT.SalesOrderHeader\r\n",
                "SET ShipDate = NULL\r\n",
                "WHERE SalesOrderID > 71899;"
            ],
            "metadata": {
                "language": "sql",
                "azdata_cell_guid": "e943dbd1-12ca-47d9-b91f-4acbecd4c57f"
            },
            "outputs": [
                {
                    "output_type": "display_data",
                    "data": {
                        "text/html": "(9 rows affected)"
                    },
                    "metadata": {}
                },
                {
                    "output_type": "display_data",
                    "data": {
                        "text/html": "Total execution time: 00:00:00.006"
                    },
                    "metadata": {}
                }
            ],
            "execution_count": 59
        },
        {
            "cell_type": "code",
            "source": [
                "SELECT SalesOrderID, OrderDate,\r\n",
                "    CASE\r\n",
                "        WHEN ShipDate IS NULL THEN 'Awaiting Shipment'\r\n",
                "        ELSE 'Shipped'\r\n",
                "    END AS ShippingStatus\r\n",
                "FROM SalesLT.SalesOrderHeader;"
            ],
            "metadata": {
                "language": "sql",
                "azdata_cell_guid": "af4f558b-4698-4e4a-9c56-7ed784269d87"
            },
            "outputs": [
                {
                    "output_type": "display_data",
                    "data": {
                        "text/html": "(32 rows affected)"
                    },
                    "metadata": {}
                },
                {
                    "output_type": "display_data",
                    "data": {
                        "text/html": "Total execution time: 00:00:00.010"
                    },
                    "metadata": {}
                },
                {
                    "output_type": "execute_result",
                    "metadata": {},
                    "execution_count": 60,
                    "data": {
                        "application/vnd.dataresource+json": {
                            "schema": {
                                "fields": [
                                    {
                                        "name": "SalesOrderID"
                                    },
                                    {
                                        "name": "OrderDate"
                                    },
                                    {
                                        "name": "ShippingStatus"
                                    }
                                ]
                            },
                            "data": [
                                {
                                    "SalesOrderID": "71774",
                                    "OrderDate": "2008-06-01 00:00:00.000",
                                    "ShippingStatus": "Shipped"
                                },
                                {
                                    "SalesOrderID": "71776",
                                    "OrderDate": "2008-06-01 00:00:00.000",
                                    "ShippingStatus": "Shipped"
                                },
                                {
                                    "SalesOrderID": "71780",
                                    "OrderDate": "2008-06-01 00:00:00.000",
                                    "ShippingStatus": "Shipped"
                                },
                                {
                                    "SalesOrderID": "71782",
                                    "OrderDate": "2008-06-01 00:00:00.000",
                                    "ShippingStatus": "Shipped"
                                },
                                {
                                    "SalesOrderID": "71783",
                                    "OrderDate": "2008-06-01 00:00:00.000",
                                    "ShippingStatus": "Shipped"
                                },
                                {
                                    "SalesOrderID": "71784",
                                    "OrderDate": "2008-06-01 00:00:00.000",
                                    "ShippingStatus": "Shipped"
                                },
                                {
                                    "SalesOrderID": "71796",
                                    "OrderDate": "2008-06-01 00:00:00.000",
                                    "ShippingStatus": "Shipped"
                                },
                                {
                                    "SalesOrderID": "71797",
                                    "OrderDate": "2008-06-01 00:00:00.000",
                                    "ShippingStatus": "Shipped"
                                },
                                {
                                    "SalesOrderID": "71815",
                                    "OrderDate": "2008-06-01 00:00:00.000",
                                    "ShippingStatus": "Shipped"
                                },
                                {
                                    "SalesOrderID": "71816",
                                    "OrderDate": "2008-06-01 00:00:00.000",
                                    "ShippingStatus": "Shipped"
                                },
                                {
                                    "SalesOrderID": "71831",
                                    "OrderDate": "2008-06-01 00:00:00.000",
                                    "ShippingStatus": "Shipped"
                                },
                                {
                                    "SalesOrderID": "71832",
                                    "OrderDate": "2008-06-01 00:00:00.000",
                                    "ShippingStatus": "Shipped"
                                },
                                {
                                    "SalesOrderID": "71845",
                                    "OrderDate": "2008-06-01 00:00:00.000",
                                    "ShippingStatus": "Shipped"
                                },
                                {
                                    "SalesOrderID": "71846",
                                    "OrderDate": "2008-06-01 00:00:00.000",
                                    "ShippingStatus": "Shipped"
                                },
                                {
                                    "SalesOrderID": "71856",
                                    "OrderDate": "2008-06-01 00:00:00.000",
                                    "ShippingStatus": "Shipped"
                                },
                                {
                                    "SalesOrderID": "71858",
                                    "OrderDate": "2008-06-01 00:00:00.000",
                                    "ShippingStatus": "Shipped"
                                },
                                {
                                    "SalesOrderID": "71863",
                                    "OrderDate": "2008-06-01 00:00:00.000",
                                    "ShippingStatus": "Shipped"
                                },
                                {
                                    "SalesOrderID": "71867",
                                    "OrderDate": "2008-06-01 00:00:00.000",
                                    "ShippingStatus": "Shipped"
                                },
                                {
                                    "SalesOrderID": "71885",
                                    "OrderDate": "2008-06-01 00:00:00.000",
                                    "ShippingStatus": "Shipped"
                                },
                                {
                                    "SalesOrderID": "71895",
                                    "OrderDate": "2008-06-01 00:00:00.000",
                                    "ShippingStatus": "Shipped"
                                },
                                {
                                    "SalesOrderID": "71897",
                                    "OrderDate": "2008-06-01 00:00:00.000",
                                    "ShippingStatus": "Shipped"
                                },
                                {
                                    "SalesOrderID": "71898",
                                    "OrderDate": "2008-06-01 00:00:00.000",
                                    "ShippingStatus": "Shipped"
                                },
                                {
                                    "SalesOrderID": "71899",
                                    "OrderDate": "2008-06-01 00:00:00.000",
                                    "ShippingStatus": "Shipped"
                                },
                                {
                                    "SalesOrderID": "71902",
                                    "OrderDate": "2008-06-01 00:00:00.000",
                                    "ShippingStatus": "Awaiting Shipment"
                                },
                                {
                                    "SalesOrderID": "71915",
                                    "OrderDate": "2008-06-01 00:00:00.000",
                                    "ShippingStatus": "Awaiting Shipment"
                                },
                                {
                                    "SalesOrderID": "71917",
                                    "OrderDate": "2008-06-01 00:00:00.000",
                                    "ShippingStatus": "Awaiting Shipment"
                                },
                                {
                                    "SalesOrderID": "71920",
                                    "OrderDate": "2008-06-01 00:00:00.000",
                                    "ShippingStatus": "Awaiting Shipment"
                                },
                                {
                                    "SalesOrderID": "71923",
                                    "OrderDate": "2008-06-01 00:00:00.000",
                                    "ShippingStatus": "Awaiting Shipment"
                                },
                                {
                                    "SalesOrderID": "71935",
                                    "OrderDate": "2008-06-01 00:00:00.000",
                                    "ShippingStatus": "Awaiting Shipment"
                                },
                                {
                                    "SalesOrderID": "71936",
                                    "OrderDate": "2008-06-01 00:00:00.000",
                                    "ShippingStatus": "Awaiting Shipment"
                                },
                                {
                                    "SalesOrderID": "71938",
                                    "OrderDate": "2008-06-01 00:00:00.000",
                                    "ShippingStatus": "Awaiting Shipment"
                                },
                                {
                                    "SalesOrderID": "71946",
                                    "OrderDate": "2008-06-01 00:00:00.000",
                                    "ShippingStatus": "Awaiting Shipment"
                                }
                            ]
                        },
                        "text/html": [
                            "<table>",
                            "<tr><th>SalesOrderID</th><th>OrderDate</th><th>ShippingStatus</th></tr>",
                            "<tr><td>71774</td><td>2008-06-01 00:00:00.000</td><td>Shipped</td></tr>",
                            "<tr><td>71776</td><td>2008-06-01 00:00:00.000</td><td>Shipped</td></tr>",
                            "<tr><td>71780</td><td>2008-06-01 00:00:00.000</td><td>Shipped</td></tr>",
                            "<tr><td>71782</td><td>2008-06-01 00:00:00.000</td><td>Shipped</td></tr>",
                            "<tr><td>71783</td><td>2008-06-01 00:00:00.000</td><td>Shipped</td></tr>",
                            "<tr><td>71784</td><td>2008-06-01 00:00:00.000</td><td>Shipped</td></tr>",
                            "<tr><td>71796</td><td>2008-06-01 00:00:00.000</td><td>Shipped</td></tr>",
                            "<tr><td>71797</td><td>2008-06-01 00:00:00.000</td><td>Shipped</td></tr>",
                            "<tr><td>71815</td><td>2008-06-01 00:00:00.000</td><td>Shipped</td></tr>",
                            "<tr><td>71816</td><td>2008-06-01 00:00:00.000</td><td>Shipped</td></tr>",
                            "<tr><td>71831</td><td>2008-06-01 00:00:00.000</td><td>Shipped</td></tr>",
                            "<tr><td>71832</td><td>2008-06-01 00:00:00.000</td><td>Shipped</td></tr>",
                            "<tr><td>71845</td><td>2008-06-01 00:00:00.000</td><td>Shipped</td></tr>",
                            "<tr><td>71846</td><td>2008-06-01 00:00:00.000</td><td>Shipped</td></tr>",
                            "<tr><td>71856</td><td>2008-06-01 00:00:00.000</td><td>Shipped</td></tr>",
                            "<tr><td>71858</td><td>2008-06-01 00:00:00.000</td><td>Shipped</td></tr>",
                            "<tr><td>71863</td><td>2008-06-01 00:00:00.000</td><td>Shipped</td></tr>",
                            "<tr><td>71867</td><td>2008-06-01 00:00:00.000</td><td>Shipped</td></tr>",
                            "<tr><td>71885</td><td>2008-06-01 00:00:00.000</td><td>Shipped</td></tr>",
                            "<tr><td>71895</td><td>2008-06-01 00:00:00.000</td><td>Shipped</td></tr>",
                            "<tr><td>71897</td><td>2008-06-01 00:00:00.000</td><td>Shipped</td></tr>",
                            "<tr><td>71898</td><td>2008-06-01 00:00:00.000</td><td>Shipped</td></tr>",
                            "<tr><td>71899</td><td>2008-06-01 00:00:00.000</td><td>Shipped</td></tr>",
                            "<tr><td>71902</td><td>2008-06-01 00:00:00.000</td><td>Awaiting Shipment</td></tr>",
                            "<tr><td>71915</td><td>2008-06-01 00:00:00.000</td><td>Awaiting Shipment</td></tr>",
                            "<tr><td>71917</td><td>2008-06-01 00:00:00.000</td><td>Awaiting Shipment</td></tr>",
                            "<tr><td>71920</td><td>2008-06-01 00:00:00.000</td><td>Awaiting Shipment</td></tr>",
                            "<tr><td>71923</td><td>2008-06-01 00:00:00.000</td><td>Awaiting Shipment</td></tr>",
                            "<tr><td>71935</td><td>2008-06-01 00:00:00.000</td><td>Awaiting Shipment</td></tr>",
                            "<tr><td>71936</td><td>2008-06-01 00:00:00.000</td><td>Awaiting Shipment</td></tr>",
                            "<tr><td>71938</td><td>2008-06-01 00:00:00.000</td><td>Awaiting Shipment</td></tr>",
                            "<tr><td>71946</td><td>2008-06-01 00:00:00.000</td><td>Awaiting Shipment</td></tr>",
                            "</table>"
                        ]
                    }
                }
            ],
            "execution_count": 60
        }
    ]
}