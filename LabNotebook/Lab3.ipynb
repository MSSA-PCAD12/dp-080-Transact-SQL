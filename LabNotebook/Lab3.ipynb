{
    "metadata": {
        "kernelspec": {
            "name": "SQL",
            "display_name": "SQL",
            "language": "sql"
        },
        "language_info": {
            "name": "sql",
            "version": ""
        }
    },
    "nbformat_minor": 2,
    "nbformat": 4,
    "cells": [
        {
            "cell_type": "code",
            "source": [
                "SELECT SalesLT.Product.Name AS ProductName, SalesLT.ProductCategory.Name AS Category\r\n",
                "FROM SalesLT.Product\r\n",
                "Right JOIN SalesLT.ProductCategory\r\n",
                "ON SalesLT.Product.ProductCategoryID = SalesLT.ProductCategory.ProductCategoryID;"
            ],
            "metadata": {
                "azdata_cell_guid": "29794c51-052c-4666-bb73-06130372f5c2",
                "language": "sql",
                "tags": [
                    "hide_input"
                ]
            },
            "outputs": [],
            "execution_count": null
        },
        {
            "cell_type": "code",
            "source": [
                "SELECT c.CustomerID, c.CompanyName,IsNull(SUM(oh.TotalDue),0) as SalesTotal\r\n",
                "FROM SalesLT.Customer c Left JOIN SalesLT.SalesOrderHeader oh\r\n",
                "ON c.CustomerID = oh.CustomerID\r\n",
                "Group By c.CustomerID,c.CompanyName"
            ],
            "metadata": {
                "language": "sql",
                "azdata_cell_guid": "84ae5921-6600-4317-a86a-c4bd23e33398",
                "tags": [
                    "hide_input"
                ]
            },
            "outputs": [],
            "execution_count": null
        },
        {
            "cell_type": "code",
            "source": [
                "SELECT top 5 p.Name, Sum(od.OrderQty) \"QTY Sold\"\r\n",
                "From SalesLT.Product p join SalesLT.SalesOrderDetail od ON p.ProductID=od.ProductID\r\n",
                "Group by p.ProductID,p.Name\r\n",
                "Order By \"QTY Sold\" desc\r\n",
                ""
            ],
            "metadata": {
                "language": "sql",
                "azdata_cell_guid": "f423a799-d181-4bbd-86e3-f813858623a9"
            },
            "outputs": [
                {
                    "output_type": "display_data",
                    "data": {
                        "text/html": "(5 rows affected)"
                    },
                    "metadata": {}
                },
                {
                    "output_type": "display_data",
                    "data": {
                        "text/html": "Total execution time: 00:00:00.006"
                    },
                    "metadata": {}
                },
                {
                    "output_type": "execute_result",
                    "execution_count": 27,
                    "data": {
                        "application/vnd.dataresource+json": {
                            "schema": {
                                "fields": [
                                    {
                                        "name": "Name"
                                    },
                                    {
                                        "name": "QTY Sold"
                                    }
                                ]
                            },
                            "data": [
                                {
                                    "Name": "Classic Vest, S",
                                    "QTY Sold": "87"
                                },
                                {
                                    "Name": "Short-Sleeve Classic Jersey, XL",
                                    "QTY Sold": "57"
                                },
                                {
                                    "Name": "Bike Wash - Dissolver",
                                    "QTY Sold": "55"
                                },
                                {
                                    "Name": "Water Bottle - 30 oz.",
                                    "QTY Sold": "54"
                                },
                                {
                                    "Name": "AWC Logo Cap",
                                    "QTY Sold": "52"
                                }
                            ]
                        },
                        "text/html": "<table><tr><th>Name</th><th>QTY Sold</th></tr><tr><td>Classic Vest, S</td><td>87</td></tr><tr><td>Short-Sleeve Classic Jersey, XL</td><td>57</td></tr><tr><td>Bike Wash - Dissolver</td><td>55</td></tr><tr><td>Water Bottle - 30 oz.</td><td>54</td></tr><tr><td>AWC Logo Cap</td><td>52</td></tr></table>"
                    },
                    "metadata": {}
                }
            ],
            "execution_count": 27
        },
        {
            "cell_type": "code",
            "source": [
                "Select name from SalesLT.Product;\r\n",
                "Select CompanyName from SalesLT.Customer;"
            ],
            "metadata": {
                "language": "sql",
                "azdata_cell_guid": "3b080fc4-2346-44a1-bd5b-7b5f1da64bc4"
            },
            "outputs": [
                {
                    "output_type": "display_data",
                    "data": {
                        "text/html": "(295 rows affected)"
                    },
                    "metadata": {}
                },
                {
                    "output_type": "display_data",
                    "data": {
                        "text/html": "(847 rows affected)"
                    },
                    "metadata": {}
                },
                {
                    "output_type": "display_data",
                    "data": {
                        "text/html": "(249865 rows affected)"
                    },
                    "metadata": {}
                },
                {
                    "output_type": "display_data",
                    "data": {
                        "text/html": "Total execution time: 00:00:00.179"
                    },
                    "metadata": {}
                },
                {
                    "output_type": "execute_result",
                    "execution_count": 25,
                    "data": {
                        "application/vnd.dataresource+json": {
                            "schema": {
                                "fields": [
                                    {
                                        "name": "name"
                                    }
                                ]
                            },
                            "data": [
                                {
                                    "name": "All-Purpose Bike Stand"
                                },
                                {
                                    "name": "AWC Logo Cap"
                                },
                                {
                                    "name": "Bike Wash - Dissolver"
                                },
                                {
                                    "name": "Cable Lock"
                                },
                                {
                                    "name": "Chain"
                                },
                                {
                                    "name": "Classic Vest, L"
                                },
                                {
                                    "name": "Classic Vest, M"
                                },
                                {
                                    "name": "Classic Vest, S"
                                },
                                {
                                    "name": "Fender Set - Mountain"
                                },
                                {
                                    "name": "Front Brakes"
                                },
                                {
                                    "name": "Front Derailleur"
                                },
                                {
                                    "name": "Full-Finger Gloves, L"
                                },
                                {
                                    "name": "Full-Finger Gloves, M"
                                },
                                {
                                    "name": "Full-Finger Gloves, S"
                                },
                                {
                                    "name": "Half-Finger Gloves, L"
                                },
                                {
                                    "name": "Half-Finger Gloves, M"
                                },
                                {
                                    "name": "Half-Finger Gloves, S"
                                },
                                {
                                    "name": "Headlights - Dual-Beam"
                                },
                                {
                                    "name": "Headlights - Weatherproof"
                                },
                                {
                                    "name": "Hitch Rack - 4-Bike"
                                },
                                {
                                    "name": "HL Bottom Bracket"
                                },
                                {
                                    "name": "HL Crankset"
                                },
                                {
                                    "name": "HL Fork"
                                },
                                {
                                    "name": "HL Headset"
                                },
                                {
                                    "name": "HL Mountain Frame - Black, 38"
                                },
                                {
                                    "name": "HL Mountain Frame - Black, 42"
                                },
                                {
                                    "name": "HL Mountain Frame - Black, 44"
                                },
                                {
                                    "name": "HL Mountain Frame - Black, 46"
                                },
                                {
                                    "name": "HL Mountain Frame - Black, 48"
                                },
                                {
                                    "name": "HL Mountain Frame - Silver, 38"
                                },
                                {
                                    "name": "HL Mountain Frame - Silver, 42"
                                },
                                {
                                    "name": "HL Mountain Frame - Silver, 44"
                                },
                                {
                                    "name": "HL Mountain Frame - Silver, 46"
                                },
                                {
                                    "name": "HL Mountain Frame - Silver, 48"
                                },
                                {
                                    "name": "HL Mountain Front Wheel"
                                },
                                {
                                    "name": "HL Mountain Handlebars"
                                },
                                {
                                    "name": "HL Mountain Pedal"
                                },
                                {
                                    "name": "HL Mountain Rear Wheel"
                                },
                                {
                                    "name": "HL Mountain Seat/Saddle"
                                },
                                {
                                    "name": "HL Mountain Tire"
                                },
                                {
                                    "name": "HL Road Frame - Black, 44"
                                },
                                {
                                    "name": "HL Road Frame - Black, 48"
                                },
                                {
                                    "name": "HL Road Frame - Black, 52"
                                },
                                {
                                    "name": "HL Road Frame - Black, 58"
                                },
                                {
                                    "name": "HL Road Frame - Black, 62"
                                },
                                {
                                    "name": "HL Road Frame - Red, 44"
                                },
                                {
                                    "name": "HL Road Frame - Red, 48"
                                },
                                {
                                    "name": "HL Road Frame - Red, 52"
                                },
                                {
                                    "name": "HL Road Frame - Red, 56"
                                },
                                {
                                    "name": "HL Road Frame - Red, 58"
                                },
                                {
                                    "name": "HL Road Frame - Red, 62"
                                },
                                {
                                    "name": "HL Road Front Wheel"
                                },
                                {
                                    "name": "HL Road Handlebars"
                                },
                                {
                                    "name": "HL Road Pedal"
                                },
                                {
                                    "name": "HL Road Rear Wheel"
                                },
                                {
                                    "name": "HL Road Seat/Saddle"
                                },
                                {
                                    "name": "HL Road Tire"
                                },
                                {
                                    "name": "HL Touring Frame - Blue, 46"
                                },
                                {
                                    "name": "HL Touring Frame - Blue, 50"
                                },
                                {
                                    "name": "HL Touring Frame - Blue, 54"
                                },
                                {
                                    "name": "HL Touring Frame - Blue, 60"
                                },
                                {
                                    "name": "HL Touring Frame - Yellow, 46"
                                },
                                {
                                    "name": "HL Touring Frame - Yellow, 50"
                                },
                                {
                                    "name": "HL Touring Frame - Yellow, 54"
                                },
                                {
                                    "name": "HL Touring Frame - Yellow, 60"
                                },
                                {
                                    "name": "HL Touring Handlebars"
                                },
                                {
                                    "name": "HL Touring Seat/Saddle"
                                },
                                {
                                    "name": "Hydration Pack - 70 oz."
                                },
                                {
                                    "name": "LL Bottom Bracket"
                                },
                                {
                                    "name": "LL Crankset"
                                },
                                {
                                    "name": "LL Fork"
                                },
                                {
                                    "name": "LL Headset"
                                },
                                {
                                    "name": "LL Mountain Frame - Black, 40"
                                },
                                {
                                    "name": "LL Mountain Frame - Black, 42"
                                },
                                {
                                    "name": "LL Mountain Frame - Black, 44"
                                },
                                {
                                    "name": "LL Mountain Frame - Black, 48"
                                },
                                {
                                    "name": "LL Mountain Frame - Black, 52"
                                },
                                {
                                    "name": "LL Mountain Frame - Silver, 40"
                                },
                                {
                                    "name": "LL Mountain Frame - Silver, 42"
                                },
                                {
                                    "name": "LL Mountain Frame - Silver, 44"
                                },
                                {
                                    "name": "LL Mountain Frame - Silver, 48"
                                },
                                {
                                    "name": "LL Mountain Frame - Silver, 52"
                                },
                                {
                                    "name": "LL Mountain Front Wheel"
                                },
                                {
                                    "name": "LL Mountain Handlebars"
                                },
                                {
                                    "name": "LL Mountain Pedal"
                                },
                                {
                                    "name": "LL Mountain Rear Wheel"
                                },
                                {
                                    "name": "LL Mountain Seat/Saddle"
                                },
                                {
                                    "name": "LL Mountain Tire"
                                },
                                {
                                    "name": "LL Road Frame - Black, 44"
                                },
                                {
                                    "name": "LL Road Frame - Black, 48"
                                },
                                {
                                    "name": "LL Road Frame - Black, 52"
                                },
                                {
                                    "name": "LL Road Frame - Black, 58"
                                },
                                {
                                    "name": "LL Road Frame - Black, 60"
                                },
                                {
                                    "name": "LL Road Frame - Black, 62"
                                },
                                {
                                    "name": "LL Road Frame - Red, 44"
                                },
                                {
                                    "name": "LL Road Frame - Red, 48"
                                },
                                {
                                    "name": "LL Road Frame - Red, 52"
                                },
                                {
                                    "name": "LL Road Frame - Red, 58"
                                },
                                {
                                    "name": "LL Road Frame - Red, 60"
                                },
                                {
                                    "name": "LL Road Frame - Red, 62"
                                },
                                {
                                    "name": "LL Road Front Wheel"
                                },
                                {
                                    "name": "LL Road Handlebars"
                                },
                                {
                                    "name": "LL Road Pedal"
                                },
                                {
                                    "name": "LL Road Rear Wheel"
                                },
                                {
                                    "name": "LL Road Seat/Saddle"
                                },
                                {
                                    "name": "LL Road Tire"
                                },
                                {
                                    "name": "LL Touring Frame - Blue, 44"
                                },
                                {
                                    "name": "LL Touring Frame - Blue, 50"
                                },
                                {
                                    "name": "LL Touring Frame - Blue, 54"
                                },
                                {
                                    "name": "LL Touring Frame - Blue, 58"
                                },
                                {
                                    "name": "LL Touring Frame - Blue, 62"
                                },
                                {
                                    "name": "LL Touring Frame - Yellow, 44"
                                },
                                {
                                    "name": "LL Touring Frame - Yellow, 50"
                                },
                                {
                                    "name": "LL Touring Frame - Yellow, 54"
                                },
                                {
                                    "name": "LL Touring Frame - Yellow, 58"
                                },
                                {
                                    "name": "LL Touring Frame - Yellow, 62"
                                },
                                {
                                    "name": "LL Touring Handlebars"
                                },
                                {
                                    "name": "LL Touring Seat/Saddle"
                                },
                                {
                                    "name": "Long-Sleeve Logo Jersey, L"
                                },
                                {
                                    "name": "Long-Sleeve Logo Jersey, M"
                                },
                                {
                                    "name": "Long-Sleeve Logo Jersey, S"
                                },
                                {
                                    "name": "Long-Sleeve Logo Jersey, XL"
                                },
                                {
                                    "name": "Men's Bib-Shorts, L"
                                },
                                {
                                    "name": "Men's Bib-Shorts, M"
                                },
                                {
                                    "name": "Men's Bib-Shorts, S"
                                },
                                {
                                    "name": "Men's Sports Shorts, L"
                                },
                                {
                                    "name": "Men's Sports Shorts, M"
                                },
                                {
                                    "name": "Men's Sports Shorts, S"
                                },
                                {
                                    "name": "Men's Sports Shorts, XL"
                                },
                                {
                                    "name": "Minipump"
                                },
                                {
                                    "name": "ML Bottom Bracket"
                                },
                                {
                                    "name": "ML Crankset"
                                },
                                {
                                    "name": "ML Fork"
                                },
                                {
                                    "name": "ML Headset"
                                },
                                {
                                    "name": "ML Mountain Frame - Black, 38"
                                },
                                {
                                    "name": "ML Mountain Frame - Black, 40"
                                },
                                {
                                    "name": "ML Mountain Frame - Black, 44"
                                },
                                {
                                    "name": "ML Mountain Frame - Black, 48"
                                },
                                {
                                    "name": "ML Mountain Frame-W - Silver, 38"
                                },
                                {
                                    "name": "ML Mountain Frame-W - Silver, 40"
                                },
                                {
                                    "name": "ML Mountain Frame-W - Silver, 42"
                                },
                                {
                                    "name": "ML Mountain Frame-W - Silver, 46"
                                },
                                {
                                    "name": "ML Mountain Front Wheel"
                                },
                                {
                                    "name": "ML Mountain Handlebars"
                                },
                                {
                                    "name": "ML Mountain Pedal"
                                },
                                {
                                    "name": "ML Mountain Rear Wheel"
                                },
                                {
                                    "name": "ML Mountain Seat/Saddle"
                                },
                                {
                                    "name": "ML Mountain Tire"
                                },
                                {
                                    "name": "ML Road Frame - Red, 44"
                                },
                                {
                                    "name": "ML Road Frame - Red, 48"
                                },
                                {
                                    "name": "ML Road Frame - Red, 52"
                                },
                                {
                                    "name": "ML Road Frame - Red, 58"
                                },
                                {
                                    "name": "ML Road Frame - Red, 60"
                                },
                                {
                                    "name": "ML Road Frame-W - Yellow, 38"
                                },
                                {
                                    "name": "ML Road Frame-W - Yellow, 40"
                                },
                                {
                                    "name": "ML Road Frame-W - Yellow, 42"
                                },
                                {
                                    "name": "ML Road Frame-W - Yellow, 44"
                                },
                                {
                                    "name": "ML Road Frame-W - Yellow, 48"
                                },
                                {
                                    "name": "ML Road Front Wheel"
                                },
                                {
                                    "name": "ML Road Handlebars"
                                },
                                {
                                    "name": "ML Road Pedal"
                                },
                                {
                                    "name": "ML Road Rear Wheel"
                                },
                                {
                                    "name": "ML Road Seat/Saddle"
                                },
                                {
                                    "name": "ML Road Tire"
                                },
                                {
                                    "name": "ML Touring Seat/Saddle"
                                },
                                {
                                    "name": "Mountain Bike Socks, L"
                                },
                                {
                                    "name": "Mountain Bike Socks, M"
                                },
                                {
                                    "name": "Mountain Bottle Cage"
                                },
                                {
                                    "name": "Mountain Pump"
                                },
                                {
                                    "name": "Mountain Tire Tube"
                                },
                                {
                                    "name": "Mountain-100 Black, 38"
                                },
                                {
                                    "name": "Mountain-100 Black, 42"
                                },
                                {
                                    "name": "Mountain-100 Black, 44"
                                },
                                {
                                    "name": "Mountain-100 Black, 48"
                                },
                                {
                                    "name": "Mountain-100 Silver, 38"
                                },
                                {
                                    "name": "Mountain-100 Silver, 42"
                                },
                                {
                                    "name": "Mountain-100 Silver, 44"
                                },
                                {
                                    "name": "Mountain-100 Silver, 48"
                                },
                                {
                                    "name": "Mountain-200 Black, 38"
                                },
                                {
                                    "name": "Mountain-200 Black, 42"
                                },
                                {
                                    "name": "Mountain-200 Black, 46"
                                },
                                {
                                    "name": "Mountain-200 Silver, 38"
                                },
                                {
                                    "name": "Mountain-200 Silver, 42"
                                },
                                {
                                    "name": "Mountain-200 Silver, 46"
                                },
                                {
                                    "name": "Mountain-300 Black, 38"
                                },
                                {
                                    "name": "Mountain-300 Black, 40"
                                },
                                {
                                    "name": "Mountain-300 Black, 44"
                                },
                                {
                                    "name": "Mountain-300 Black, 48"
                                },
                                {
                                    "name": "Mountain-400-W Silver, 38"
                                },
                                {
                                    "name": "Mountain-400-W Silver, 40"
                                },
                                {
                                    "name": "Mountain-400-W Silver, 42"
                                },
                                {
                                    "name": "Mountain-400-W Silver, 46"
                                },
                                {
                                    "name": "Mountain-500 Black, 40"
                                },
                                {
                                    "name": "Mountain-500 Black, 42"
                                },
                                {
                                    "name": "Mountain-500 Black, 44"
                                },
                                {
                                    "name": "Mountain-500 Black, 48"
                                },
                                {
                                    "name": "Mountain-500 Black, 52"
                                },
                                {
                                    "name": "Mountain-500 Silver, 40"
                                },
                                {
                                    "name": "Mountain-500 Silver, 42"
                                },
                                {
                                    "name": "Mountain-500 Silver, 44"
                                },
                                {
                                    "name": "Mountain-500 Silver, 48"
                                },
                                {
                                    "name": "Mountain-500 Silver, 52"
                                },
                                {
                                    "name": "Patch Kit/8 Patches"
                                },
                                {
                                    "name": "Racing Socks, L"
                                },
                                {
                                    "name": "Racing Socks, M"
                                },
                                {
                                    "name": "Rear Brakes"
                                },
                                {
                                    "name": "Rear Derailleur"
                                },
                                {
                                    "name": "Road Bottle Cage"
                                },
                                {
                                    "name": "Road Tire Tube"
                                },
                                {
                                    "name": "Road-150 Red, 44"
                                },
                                {
                                    "name": "Road-150 Red, 48"
                                },
                                {
                                    "name": "Road-150 Red, 52"
                                },
                                {
                                    "name": "Road-150 Red, 56"
                                },
                                {
                                    "name": "Road-150 Red, 62"
                                },
                                {
                                    "name": "Road-250 Black, 44"
                                },
                                {
                                    "name": "Road-250 Black, 48"
                                },
                                {
                                    "name": "Road-250 Black, 52"
                                },
                                {
                                    "name": "Road-250 Black, 58"
                                },
                                {
                                    "name": "Road-250 Red, 44"
                                },
                                {
                                    "name": "Road-250 Red, 48"
                                },
                                {
                                    "name": "Road-250 Red, 52"
                                },
                                {
                                    "name": "Road-250 Red, 58"
                                },
                                {
                                    "name": "Road-350-W Yellow, 40"
                                },
                                {
                                    "name": "Road-350-W Yellow, 42"
                                },
                                {
                                    "name": "Road-350-W Yellow, 44"
                                },
                                {
                                    "name": "Road-350-W Yellow, 48"
                                },
                                {
                                    "name": "Road-450 Red, 44"
                                },
                                {
                                    "name": "Road-450 Red, 48"
                                },
                                {
                                    "name": "Road-450 Red, 52"
                                },
                                {
                                    "name": "Road-450 Red, 58"
                                },
                                {
                                    "name": "Road-450 Red, 60"
                                },
                                {
                                    "name": "Road-550-W Yellow, 38"
                                },
                                {
                                    "name": "Road-550-W Yellow, 40"
                                },
                                {
                                    "name": "Road-550-W Yellow, 42"
                                },
                                {
                                    "name": "Road-550-W Yellow, 44"
                                },
                                {
                                    "name": "Road-550-W Yellow, 48"
                                },
                                {
                                    "name": "Road-650 Black, 44"
                                },
                                {
                                    "name": "Road-650 Black, 48"
                                },
                                {
                                    "name": "Road-650 Black, 52"
                                },
                                {
                                    "name": "Road-650 Black, 58"
                                },
                                {
                                    "name": "Road-650 Black, 60"
                                },
                                {
                                    "name": "Road-650 Black, 62"
                                },
                                {
                                    "name": "Road-650 Red, 44"
                                },
                                {
                                    "name": "Road-650 Red, 48"
                                },
                                {
                                    "name": "Road-650 Red, 52"
                                },
                                {
                                    "name": "Road-650 Red, 58"
                                },
                                {
                                    "name": "Road-650 Red, 60"
                                },
                                {
                                    "name": "Road-650 Red, 62"
                                },
                                {
                                    "name": "Road-750 Black, 44"
                                },
                                {
                                    "name": "Road-750 Black, 48"
                                },
                                {
                                    "name": "Road-750 Black, 52"
                                },
                                {
                                    "name": "Road-750 Black, 58"
                                },
                                {
                                    "name": "Short-Sleeve Classic Jersey, L"
                                },
                                {
                                    "name": "Short-Sleeve Classic Jersey, M"
                                },
                                {
                                    "name": "Short-Sleeve Classic Jersey, S"
                                },
                                {
                                    "name": "Short-Sleeve Classic Jersey, XL"
                                },
                                {
                                    "name": "Sport-100 Helmet, Black"
                                },
                                {
                                    "name": "Sport-100 Helmet, Blue"
                                },
                                {
                                    "name": "Sport-100 Helmet, Red"
                                },
                                {
                                    "name": "Taillights - Battery-Powered"
                                },
                                {
                                    "name": "Touring Front Wheel"
                                },
                                {
                                    "name": "Touring Pedal"
                                },
                                {
                                    "name": "Touring Rear Wheel"
                                },
                                {
                                    "name": "Touring Tire"
                                },
                                {
                                    "name": "Touring Tire Tube"
                                },
                                {
                                    "name": "Touring-1000 Blue, 46"
                                },
                                {
                                    "name": "Touring-1000 Blue, 50"
                                },
                                {
                                    "name": "Touring-1000 Blue, 54"
                                },
                                {
                                    "name": "Touring-1000 Blue, 60"
                                },
                                {
                                    "name": "Touring-1000 Yellow, 46"
                                },
                                {
                                    "name": "Touring-1000 Yellow, 50"
                                },
                                {
                                    "name": "Touring-1000 Yellow, 54"
                                },
                                {
                                    "name": "Touring-1000 Yellow, 60"
                                },
                                {
                                    "name": "Touring-2000 Blue, 46"
                                },
                                {
                                    "name": "Touring-2000 Blue, 50"
                                },
                                {
                                    "name": "Touring-2000 Blue, 54"
                                },
                                {
                                    "name": "Touring-2000 Blue, 60"
                                },
                                {
                                    "name": "Touring-3000 Blue, 44"
                                },
                                {
                                    "name": "Touring-3000 Blue, 50"
                                },
                                {
                                    "name": "Touring-3000 Blue, 54"
                                },
                                {
                                    "name": "Touring-3000 Blue, 58"
                                },
                                {
                                    "name": "Touring-3000 Blue, 62"
                                },
                                {
                                    "name": "Touring-3000 Yellow, 44"
                                },
                                {
                                    "name": "Touring-3000 Yellow, 50"
                                },
                                {
                                    "name": "Touring-3000 Yellow, 54"
                                },
                                {
                                    "name": "Touring-3000 Yellow, 58"
                                },
                                {
                                    "name": "Touring-3000 Yellow, 62"
                                },
                                {
                                    "name": "Touring-Panniers, Large"
                                },
                                {
                                    "name": "Water Bottle - 30 oz."
                                },
                                {
                                    "name": "Women's Mountain Shorts, L"
                                },
                                {
                                    "name": "Women's Mountain Shorts, M"
                                },
                                {
                                    "name": "Women's Mountain Shorts, S"
                                },
                                {
                                    "name": "Women's Tights, L"
                                },
                                {
                                    "name": "Women's Tights, M"
                                },
                                {
                                    "name": "Women's Tights, S"
                                }
                            ]
                        },
                        "text/html": "<table><tr><th>name</th></tr><tr><td>All-Purpose Bike Stand</td></tr><tr><td>AWC Logo Cap</td></tr><tr><td>Bike Wash - Dissolver</td></tr><tr><td>Cable Lock</td></tr><tr><td>Chain</td></tr><tr><td>Classic Vest, L</td></tr><tr><td>Classic Vest, M</td></tr><tr><td>Classic Vest, S</td></tr><tr><td>Fender Set - Mountain</td></tr><tr><td>Front Brakes</td></tr><tr><td>Front Derailleur</td></tr><tr><td>Full-Finger Gloves, L</td></tr><tr><td>Full-Finger Gloves, M</td></tr><tr><td>Full-Finger Gloves, S</td></tr><tr><td>Half-Finger Gloves, L</td></tr><tr><td>Half-Finger Gloves, M</td></tr><tr><td>Half-Finger Gloves, S</td></tr><tr><td>Headlights - Dual-Beam</td></tr><tr><td>Headlights - Weatherproof</td></tr><tr><td>Hitch Rack - 4-Bike</td></tr><tr><td>HL Bottom Bracket</td></tr><tr><td>HL Crankset</td></tr><tr><td>HL Fork</td></tr><tr><td>HL Headset</td></tr><tr><td>HL Mountain Frame - Black, 38</td></tr><tr><td>HL Mountain Frame - Black, 42</td></tr><tr><td>HL Mountain Frame - Black, 44</td></tr><tr><td>HL Mountain Frame - Black, 46</td></tr><tr><td>HL Mountain Frame - Black, 48</td></tr><tr><td>HL Mountain Frame - Silver, 38</td></tr><tr><td>HL Mountain Frame - Silver, 42</td></tr><tr><td>HL Mountain Frame - Silver, 44</td></tr><tr><td>HL Mountain Frame - Silver, 46</td></tr><tr><td>HL Mountain Frame - Silver, 48</td></tr><tr><td>HL Mountain Front Wheel</td></tr><tr><td>HL Mountain Handlebars</td></tr><tr><td>HL Mountain Pedal</td></tr><tr><td>HL Mountain Rear Wheel</td></tr><tr><td>HL Mountain Seat/Saddle</td></tr><tr><td>HL Mountain Tire</td></tr><tr><td>HL Road Frame - Black, 44</td></tr><tr><td>HL Road Frame - Black, 48</td></tr><tr><td>HL Road Frame - Black, 52</td></tr><tr><td>HL Road Frame - Black, 58</td></tr><tr><td>HL Road Frame - Black, 62</td></tr><tr><td>HL Road Frame - Red, 44</td></tr><tr><td>HL Road Frame - Red, 48</td></tr><tr><td>HL Road Frame - Red, 52</td></tr><tr><td>HL Road Frame - Red, 56</td></tr><tr><td>HL Road Frame - Red, 58</td></tr><tr><td>HL Road Frame - Red, 62</td></tr><tr><td>HL Road Front Wheel</td></tr><tr><td>HL Road Handlebars</td></tr><tr><td>HL Road Pedal</td></tr><tr><td>HL Road Rear Wheel</td></tr><tr><td>HL Road Seat/Saddle</td></tr><tr><td>HL Road Tire</td></tr><tr><td>HL Touring Frame - Blue, 46</td></tr><tr><td>HL Touring Frame - Blue, 50</td></tr><tr><td>HL Touring Frame - Blue, 54</td></tr><tr><td>HL Touring Frame - Blue, 60</td></tr><tr><td>HL Touring Frame - Yellow, 46</td></tr><tr><td>HL Touring Frame - Yellow, 50</td></tr><tr><td>HL Touring Frame - Yellow, 54</td></tr><tr><td>HL Touring Frame - Yellow, 60</td></tr><tr><td>HL Touring Handlebars</td></tr><tr><td>HL Touring Seat/Saddle</td></tr><tr><td>Hydration Pack - 70 oz.</td></tr><tr><td>LL Bottom Bracket</td></tr><tr><td>LL Crankset</td></tr><tr><td>LL Fork</td></tr><tr><td>LL Headset</td></tr><tr><td>LL Mountain Frame - Black, 40</td></tr><tr><td>LL Mountain Frame - Black, 42</td></tr><tr><td>LL Mountain Frame - Black, 44</td></tr><tr><td>LL Mountain Frame - Black, 48</td></tr><tr><td>LL Mountain Frame - Black, 52</td></tr><tr><td>LL Mountain Frame - Silver, 40</td></tr><tr><td>LL Mountain Frame - Silver, 42</td></tr><tr><td>LL Mountain Frame - Silver, 44</td></tr><tr><td>LL Mountain Frame - Silver, 48</td></tr><tr><td>LL Mountain Frame - Silver, 52</td></tr><tr><td>LL Mountain Front Wheel</td></tr><tr><td>LL Mountain Handlebars</td></tr><tr><td>LL Mountain Pedal</td></tr><tr><td>LL Mountain Rear Wheel</td></tr><tr><td>LL Mountain Seat/Saddle</td></tr><tr><td>LL Mountain Tire</td></tr><tr><td>LL Road Frame - Black, 44</td></tr><tr><td>LL Road Frame - Black, 48</td></tr><tr><td>LL Road Frame - Black, 52</td></tr><tr><td>LL Road Frame - Black, 58</td></tr><tr><td>LL Road Frame - Black, 60</td></tr><tr><td>LL Road Frame - Black, 62</td></tr><tr><td>LL Road Frame - Red, 44</td></tr><tr><td>LL Road Frame - Red, 48</td></tr><tr><td>LL Road Frame - Red, 52</td></tr><tr><td>LL Road Frame - Red, 58</td></tr><tr><td>LL Road Frame - Red, 60</td></tr><tr><td>LL Road Frame - Red, 62</td></tr><tr><td>LL Road Front Wheel</td></tr><tr><td>LL Road Handlebars</td></tr><tr><td>LL Road Pedal</td></tr><tr><td>LL Road Rear Wheel</td></tr><tr><td>LL Road Seat/Saddle</td></tr><tr><td>LL Road Tire</td></tr><tr><td>LL Touring Frame - Blue, 44</td></tr><tr><td>LL Touring Frame - Blue, 50</td></tr><tr><td>LL Touring Frame - Blue, 54</td></tr><tr><td>LL Touring Frame - Blue, 58</td></tr><tr><td>LL Touring Frame - Blue, 62</td></tr><tr><td>LL Touring Frame - Yellow, 44</td></tr><tr><td>LL Touring Frame - Yellow, 50</td></tr><tr><td>LL Touring Frame - Yellow, 54</td></tr><tr><td>LL Touring Frame - Yellow, 58</td></tr><tr><td>LL Touring Frame - Yellow, 62</td></tr><tr><td>LL Touring Handlebars</td></tr><tr><td>LL Touring Seat/Saddle</td></tr><tr><td>Long-Sleeve Logo Jersey, L</td></tr><tr><td>Long-Sleeve Logo Jersey, M</td></tr><tr><td>Long-Sleeve Logo Jersey, S</td></tr><tr><td>Long-Sleeve Logo Jersey, XL</td></tr><tr><td>Men&#39;s Bib-Shorts, L</td></tr><tr><td>Men&#39;s Bib-Shorts, M</td></tr><tr><td>Men&#39;s Bib-Shorts, S</td></tr><tr><td>Men&#39;s Sports Shorts, L</td></tr><tr><td>Men&#39;s Sports Shorts, M</td></tr><tr><td>Men&#39;s Sports Shorts, S</td></tr><tr><td>Men&#39;s Sports Shorts, XL</td></tr><tr><td>Minipump</td></tr><tr><td>ML Bottom Bracket</td></tr><tr><td>ML Crankset</td></tr><tr><td>ML Fork</td></tr><tr><td>ML Headset</td></tr><tr><td>ML Mountain Frame - Black, 38</td></tr><tr><td>ML Mountain Frame - Black, 40</td></tr><tr><td>ML Mountain Frame - Black, 44</td></tr><tr><td>ML Mountain Frame - Black, 48</td></tr><tr><td>ML Mountain Frame-W - Silver, 38</td></tr><tr><td>ML Mountain Frame-W - Silver, 40</td></tr><tr><td>ML Mountain Frame-W - Silver, 42</td></tr><tr><td>ML Mountain Frame-W - Silver, 46</td></tr><tr><td>ML Mountain Front Wheel</td></tr><tr><td>ML Mountain Handlebars</td></tr><tr><td>ML Mountain Pedal</td></tr><tr><td>ML Mountain Rear Wheel</td></tr><tr><td>ML Mountain Seat/Saddle</td></tr><tr><td>ML Mountain Tire</td></tr><tr><td>ML Road Frame - Red, 44</td></tr><tr><td>ML Road Frame - Red, 48</td></tr><tr><td>ML Road Frame - Red, 52</td></tr><tr><td>ML Road Frame - Red, 58</td></tr><tr><td>ML Road Frame - Red, 60</td></tr><tr><td>ML Road Frame-W - Yellow, 38</td></tr><tr><td>ML Road Frame-W - Yellow, 40</td></tr><tr><td>ML Road Frame-W - Yellow, 42</td></tr><tr><td>ML Road Frame-W - Yellow, 44</td></tr><tr><td>ML Road Frame-W - Yellow, 48</td></tr><tr><td>ML Road Front Wheel</td></tr><tr><td>ML Road Handlebars</td></tr><tr><td>ML Road Pedal</td></tr><tr><td>ML Road Rear Wheel</td></tr><tr><td>ML Road Seat/Saddle</td></tr><tr><td>ML Road Tire</td></tr><tr><td>ML Touring Seat/Saddle</td></tr><tr><td>Mountain Bike Socks, L</td></tr><tr><td>Mountain Bike Socks, M</td></tr><tr><td>Mountain Bottle Cage</td></tr><tr><td>Mountain Pump</td></tr><tr><td>Mountain Tire Tube</td></tr><tr><td>Mountain-100 Black, 38</td></tr><tr><td>Mountain-100 Black, 42</td></tr><tr><td>Mountain-100 Black, 44</td></tr><tr><td>Mountain-100 Black, 48</td></tr><tr><td>Mountain-100 Silver, 38</td></tr><tr><td>Mountain-100 Silver, 42</td></tr><tr><td>Mountain-100 Silver, 44</td></tr><tr><td>Mountain-100 Silver, 48</td></tr><tr><td>Mountain-200 Black, 38</td></tr><tr><td>Mountain-200 Black, 42</td></tr><tr><td>Mountain-200 Black, 46</td></tr><tr><td>Mountain-200 Silver, 38</td></tr><tr><td>Mountain-200 Silver, 42</td></tr><tr><td>Mountain-200 Silver, 46</td></tr><tr><td>Mountain-300 Black, 38</td></tr><tr><td>Mountain-300 Black, 40</td></tr><tr><td>Mountain-300 Black, 44</td></tr><tr><td>Mountain-300 Black, 48</td></tr><tr><td>Mountain-400-W Silver, 38</td></tr><tr><td>Mountain-400-W Silver, 40</td></tr><tr><td>Mountain-400-W Silver, 42</td></tr><tr><td>Mountain-400-W Silver, 46</td></tr><tr><td>Mountain-500 Black, 40</td></tr><tr><td>Mountain-500 Black, 42</td></tr><tr><td>Mountain-500 Black, 44</td></tr><tr><td>Mountain-500 Black, 48</td></tr><tr><td>Mountain-500 Black, 52</td></tr><tr><td>Mountain-500 Silver, 40</td></tr><tr><td>Mountain-500 Silver, 42</td></tr><tr><td>Mountain-500 Silver, 44</td></tr><tr><td>Mountain-500 Silver, 48</td></tr><tr><td>Mountain-500 Silver, 52</td></tr><tr><td>Patch Kit/8 Patches</td></tr><tr><td>Racing Socks, L</td></tr><tr><td>Racing Socks, M</td></tr><tr><td>Rear Brakes</td></tr><tr><td>Rear Derailleur</td></tr><tr><td>Road Bottle Cage</td></tr><tr><td>Road Tire Tube</td></tr><tr><td>Road-150 Red, 44</td></tr><tr><td>Road-150 Red, 48</td></tr><tr><td>Road-150 Red, 52</td></tr><tr><td>Road-150 Red, 56</td></tr><tr><td>Road-150 Red, 62</td></tr><tr><td>Road-250 Black, 44</td></tr><tr><td>Road-250 Black, 48</td></tr><tr><td>Road-250 Black, 52</td></tr><tr><td>Road-250 Black, 58</td></tr><tr><td>Road-250 Red, 44</td></tr><tr><td>Road-250 Red, 48</td></tr><tr><td>Road-250 Red, 52</td></tr><tr><td>Road-250 Red, 58</td></tr><tr><td>Road-350-W Yellow, 40</td></tr><tr><td>Road-350-W Yellow, 42</td></tr><tr><td>Road-350-W Yellow, 44</td></tr><tr><td>Road-350-W Yellow, 48</td></tr><tr><td>Road-450 Red, 44</td></tr><tr><td>Road-450 Red, 48</td></tr><tr><td>Road-450 Red, 52</td></tr><tr><td>Road-450 Red, 58</td></tr><tr><td>Road-450 Red, 60</td></tr><tr><td>Road-550-W Yellow, 38</td></tr><tr><td>Road-550-W Yellow, 40</td></tr><tr><td>Road-550-W Yellow, 42</td></tr><tr><td>Road-550-W Yellow, 44</td></tr><tr><td>Road-550-W Yellow, 48</td></tr><tr><td>Road-650 Black, 44</td></tr><tr><td>Road-650 Black, 48</td></tr><tr><td>Road-650 Black, 52</td></tr><tr><td>Road-650 Black, 58</td></tr><tr><td>Road-650 Black, 60</td></tr><tr><td>Road-650 Black, 62</td></tr><tr><td>Road-650 Red, 44</td></tr><tr><td>Road-650 Red, 48</td></tr><tr><td>Road-650 Red, 52</td></tr><tr><td>Road-650 Red, 58</td></tr><tr><td>Road-650 Red, 60</td></tr><tr><td>Road-650 Red, 62</td></tr><tr><td>Road-750 Black, 44</td></tr><tr><td>Road-750 Black, 48</td></tr><tr><td>Road-750 Black, 52</td></tr><tr><td>Road-750 Black, 58</td></tr><tr><td>Short-Sleeve Classic Jersey, L</td></tr><tr><td>Short-Sleeve Classic Jersey, M</td></tr><tr><td>Short-Sleeve Classic Jersey, S</td></tr><tr><td>Short-Sleeve Classic Jersey, XL</td></tr><tr><td>Sport-100 Helmet, Black</td></tr><tr><td>Sport-100 Helmet, Blue</td></tr><tr><td>Sport-100 Helmet, Red</td></tr><tr><td>Taillights - Battery-Powered</td></tr><tr><td>Touring Front Wheel</td></tr><tr><td>Touring Pedal</td></tr><tr><td>Touring Rear Wheel</td></tr><tr><td>Touring Tire</td></tr><tr><td>Touring Tire Tube</td></tr><tr><td>Touring-1000 Blue, 46</td></tr><tr><td>Touring-1000 Blue, 50</td></tr><tr><td>Touring-1000 Blue, 54</td></tr><tr><td>Touring-1000 Blue, 60</td></tr><tr><td>Touring-1000 Yellow, 46</td></tr><tr><td>Touring-1000 Yellow, 50</td></tr><tr><td>Touring-1000 Yellow, 54</td></tr><tr><td>Touring-1000 Yellow, 60</td></tr><tr><td>Touring-2000 Blue, 46</td></tr><tr><td>Touring-2000 Blue, 50</td></tr><tr><td>Touring-2000 Blue, 54</td></tr><tr><td>Touring-2000 Blue, 60</td></tr><tr><td>Touring-3000 Blue, 44</td></tr><tr><td>Touring-3000 Blue, 50</td></tr><tr><td>Touring-3000 Blue, 54</td></tr><tr><td>Touring-3000 Blue, 58</td></tr><tr><td>Touring-3000 Blue, 62</td></tr><tr><td>Touring-3000 Yellow, 44</td></tr><tr><td>Touring-3000 Yellow, 50</td></tr><tr><td>Touring-3000 Yellow, 54</td></tr><tr><td>Touring-3000 Yellow, 58</td></tr><tr><td>Touring-3000 Yellow, 62</td></tr><tr><td>Touring-Panniers, Large</td></tr><tr><td>Water Bottle - 30 oz.</td></tr><tr><td>Women&#39;s Mountain Shorts, L</td></tr><tr><td>Women&#39;s Mountain Shorts, M</td></tr><tr><td>Women&#39;s Mountain Shorts, S</td></tr><tr><td>Women&#39;s Tights, L</td></tr><tr><td>Women&#39;s Tights, M</td></tr><tr><td>Women&#39;s Tights, S</td></tr></table>"
                    },
                    "metadata": {}
                },
                {
                    "output_type": "execute_result",
                    "execution_count": 25,
                    "data": {
                        "application/vnd.dataresource+json": {
                            "schema": {
                                "fields": [
                                    {
                                        "name": "CompanyName"
                                    }
                                ]
                            },
                            "data": [
                                {
                                    "CompanyName": "A Bike Store"
                                },
                                {
                                    "CompanyName": "Progressive Sports"
                                },
                                {
                                    "CompanyName": "Advanced Bike Components"
                                },
                                {
                                    "CompanyName": "Modular Cycle Systems"
                                },
                                {
                                    "CompanyName": "Metropolitan Sports Supply"
                                },
                                {
                                    "CompanyName": "Aerobic Exercise Company"
                                },
                                {
                                    "CompanyName": "Associated Bikes"
                                },
                                {
                                    "CompanyName": "Rural Cycle Emporium"
                                },
                                {
                                    "CompanyName": "Sharp Bikes"
                                },
                                {
                                    "CompanyName": "Bikes and Motorbikes"
                                },
                                {
                                    "CompanyName": "Bulk Discount Store"
                                },
                                {
                                    "CompanyName": "Catalog Store"
                                },
                                {
                                    "CompanyName": "Center Cycle Shop"
                                },
                                {
                                    "CompanyName": "Central Discount Store"
                                },
                                {
                                    "CompanyName": "Chic Department Stores"
                                },
                                {
                                    "CompanyName": "Travel Systems"
                                },
                                {
                                    "CompanyName": "Bike World"
                                },
                                {
                                    "CompanyName": "Eastside Department Store"
                                },
                                {
                                    "CompanyName": "Coalition Bike Company"
                                },
                                {
                                    "CompanyName": "Commuter Bicycle Store"
                                },
                                {
                                    "CompanyName": "Cross-Country Riding Supplies"
                                },
                                {
                                    "CompanyName": "Cycle Merchants"
                                },
                                {
                                    "CompanyName": "Cycles Wholesaler & Mfg."
                                },
                                {
                                    "CompanyName": "Two Bike Shops"
                                },
                                {
                                    "CompanyName": "Finer Mart"
                                },
                                {
                                    "CompanyName": "Fitness Hotel"
                                },
                                {
                                    "CompanyName": "Journey Sporting Goods"
                                },
                                {
                                    "CompanyName": "Distant Inn"
                                },
                                {
                                    "CompanyName": "Healthy Activity Store"
                                },
                                {
                                    "CompanyName": "Frugal Bike Shop"
                                },
                                {
                                    "CompanyName": "Gear-Shift Bikes Limited"
                                },
                                {
                                    "CompanyName": "Greater Bike Store"
                                },
                                {
                                    "CompanyName": "Grand Industries"
                                },
                                {
                                    "CompanyName": "Instruments and Parts Company"
                                },
                                {
                                    "CompanyName": "Kickstands and Accessories Company"
                                },
                                {
                                    "CompanyName": "Latest Accessories Sales"
                                },
                                {
                                    "CompanyName": "Leading Sales & Repair"
                                },
                                {
                                    "CompanyName": "Largest Bike Store"
                                },
                                {
                                    "CompanyName": "Locks Company"
                                },
                                {
                                    "CompanyName": "Main Bicycle Services"
                                },
                                {
                                    "CompanyName": "Many Bikes Store"
                                },
                                {
                                    "CompanyName": "Metal Clearing House"
                                },
                                {
                                    "CompanyName": "Metro Manufacturing"
                                },
                                {
                                    "CompanyName": "Neighborhood Store"
                                },
                                {
                                    "CompanyName": "Outdoor Aerobic Systems Company"
                                },
                                {
                                    "CompanyName": "Outdoor Sports Supply"
                                },
                                {
                                    "CompanyName": "Parcel Express Delivery Service"
                                },
                                {
                                    "CompanyName": "Paint Supply"
                                },
                                {
                                    "CompanyName": "Out-of-the-Way Hotels"
                                },
                                {
                                    "CompanyName": "Mechanical Products Ltd."
                                },
                                {
                                    "CompanyName": "Preferred Bikes"
                                },
                                {
                                    "CompanyName": "Reasonable Bicycle Sales"
                                },
                                {
                                    "CompanyName": "Refined Department Stores"
                                },
                                {
                                    "CompanyName": "Requisite Part Supply"
                                },
                                {
                                    "CompanyName": "Rewarding Activities Company"
                                },
                                {
                                    "CompanyName": "Closest Bicycle Store"
                                },
                                {
                                    "CompanyName": "Scooters and Bikes Store"
                                },
                                {
                                    "CompanyName": "Sports Commodities"
                                },
                                {
                                    "CompanyName": "Stationary Bikes and Stands"
                                },
                                {
                                    "CompanyName": "Specialty Sports Store"
                                },
                                {
                                    "CompanyName": "Rural Department Store"
                                },
                                {
                                    "CompanyName": "More Bikes!"
                                },
                                {
                                    "CompanyName": "Mountain Bike Center"
                                },
                                {
                                    "CompanyName": "Up-To-Date Sports"
                                },
                                {
                                    "CompanyName": "Urban Sports Emporium"
                                },
                                {
                                    "CompanyName": "National Manufacturing"
                                },
                                {
                                    "CompanyName": "West Side Mart"
                                },
                                {
                                    "CompanyName": "Travel Sports"
                                },
                                {
                                    "CompanyName": "Vintage Sport Boutique"
                                },
                                {
                                    "CompanyName": "Westside Cycle Store"
                                },
                                {
                                    "CompanyName": "Town Industries"
                                },
                                {
                                    "CompanyName": "Trendy Department Stores"
                                },
                                {
                                    "CompanyName": "Two Wheels Cycle Store"
                                },
                                {
                                    "CompanyName": "Security Racks and Locks Wholesalers"
                                },
                                {
                                    "CompanyName": "Rapid Bikes"
                                },
                                {
                                    "CompanyName": "Red Bicycle Company"
                                },
                                {
                                    "CompanyName": "Machines & Cycles Store"
                                },
                                {
                                    "CompanyName": "Nearby Sporting Goods"
                                },
                                {
                                    "CompanyName": "Front Sporting Goods"
                                },
                                {
                                    "CompanyName": "Demand Distributors"
                                },
                                {
                                    "CompanyName": "Discount Bicycle Specialists"
                                },
                                {
                                    "CompanyName": "Elite Bikes"
                                },
                                {
                                    "CompanyName": "Eighth Bike Store"
                                },
                                {
                                    "CompanyName": "Another Sporting Goods Company"
                                },
                                {
                                    "CompanyName": "Commercial Sporting Goods"
                                },
                                {
                                    "CompanyName": "Wholesale Parts"
                                },
                                {
                                    "CompanyName": "Transportation Options"
                                },
                                {
                                    "CompanyName": "South Bike Company"
                                },
                                {
                                    "CompanyName": "Riding Cycles"
                                },
                                {
                                    "CompanyName": "Raw Materials Inc"
                                },
                                {
                                    "CompanyName": "Latest Sports Equipment"
                                },
                                {
                                    "CompanyName": "Local Hardware Factory"
                                },
                                {
                                    "CompanyName": "Lots of Bikes Storehouse"
                                },
                                {
                                    "CompanyName": "Initial Bike Company"
                                },
                                {
                                    "CompanyName": "Fleet Bikes"
                                },
                                {
                                    "CompanyName": "Futuristic Bikes"
                                },
                                {
                                    "CompanyName": "Camping and Sports Store"
                                },
                                {
                                    "CompanyName": "Corner Bicycle Supply"
                                },
                                {
                                    "CompanyName": "Metal Processing Company"
                                },
                                {
                                    "CompanyName": "Vigorous Sports Store"
                                },
                                {
                                    "CompanyName": "Sports Merchandise"
                                },
                                {
                                    "CompanyName": "Suburban Cycle Shop"
                                },
                                {
                                    "CompanyName": "Third Bike Store"
                                },
                                {
                                    "CompanyName": "Fitness Toy Store"
                                },
                                {
                                    "CompanyName": "Farthermost Bike Shop"
                                },
                                {
                                    "CompanyName": "Economy Bikes Company"
                                },
                                {
                                    "CompanyName": "Downtown Hotel"
                                },
                                {
                                    "CompanyName": "Certified Sports Supply"
                                },
                                {
                                    "CompanyName": "Sundry Sporting Goods"
                                },
                                {
                                    "CompanyName": "Toy Manufacturing Inc"
                                },
                                {
                                    "CompanyName": "Rampart Amusement Company"
                                },
                                {
                                    "CompanyName": "Full-Service Bike Store"
                                },
                                {
                                    "CompanyName": "Family Entertainment Center"
                                },
                                {
                                    "CompanyName": "Another Bicycle Company"
                                },
                                {
                                    "CompanyName": "This Area Sporting Goods"
                                },
                                {
                                    "CompanyName": "Go-cart and Bike Specialists"
                                },
                                {
                                    "CompanyName": "Weekend Bike Tours"
                                },
                                {
                                    "CompanyName": "Thrilling Bike Tours"
                                },
                                {
                                    "CompanyName": "Trailblazing Sports"
                                },
                                {
                                    "CompanyName": "Racing Partners"
                                },
                                {
                                    "CompanyName": "Non-Slip Pedal Company"
                                },
                                {
                                    "CompanyName": "Nuts and Bolts Mfg."
                                },
                                {
                                    "CompanyName": "Exhibition Showroom"
                                },
                                {
                                    "CompanyName": "Fabrikam Inc., West"
                                },
                                {
                                    "CompanyName": "Field Trip Inc"
                                },
                                {
                                    "CompanyName": "Authorized Bike Sales and Rental"
                                },
                                {
                                    "CompanyName": "Basic Bike Company"
                                },
                                {
                                    "CompanyName": "Unsurpassed Bikes"
                                },
                                {
                                    "CompanyName": "Two-Seater Bikes"
                                },
                                {
                                    "CompanyName": "Separate Parts Corporation"
                                },
                                {
                                    "CompanyName": "Traction Tire Company"
                                },
                                {
                                    "CompanyName": "Rally Master Company Inc"
                                },
                                {
                                    "CompanyName": "Professional Cyclists"
                                },
                                {
                                    "CompanyName": "Purple Bicycle Company"
                                },
                                {
                                    "CompanyName": "Gasless Cycle Shop"
                                },
                                {
                                    "CompanyName": "Exclusive Bicycle Mart"
                                },
                                {
                                    "CompanyName": "City Manufacturing"
                                },
                                {
                                    "CompanyName": "Sure & Reliable Sporting Goods"
                                },
                                {
                                    "CompanyName": "Extras Sporting Goods"
                                },
                                {
                                    "CompanyName": "Best o' Bikes"
                                },
                                {
                                    "CompanyName": "Bike Dealers Association"
                                },
                                {
                                    "CompanyName": "Sample Bike Store"
                                },
                                {
                                    "CompanyName": "Paints and Solvents Company"
                                },
                                {
                                    "CompanyName": "Leisure Activities"
                                },
                                {
                                    "CompanyName": "Health Spa, Limited"
                                },
                                {
                                    "CompanyName": "Home Town Bike Store"
                                },
                                {
                                    "CompanyName": "Exceptional Cycle Services"
                                },
                                {
                                    "CompanyName": "Certified Bicycle Supply"
                                },
                                {
                                    "CompanyName": "Closeout Boutique"
                                },
                                {
                                    "CompanyName": "Client Discount Store"
                                },
                                {
                                    "CompanyName": "A Great Bicycle Company"
                                },
                                {
                                    "CompanyName": "Bicycle Merchandise Warehouse"
                                },
                                {
                                    "CompanyName": "Wire Baskets and Parts"
                                },
                                {
                                    "CompanyName": "Vale Riding Supplies"
                                },
                                {
                                    "CompanyName": "Retail Discount Store"
                                },
                                {
                                    "CompanyName": "Leather Seat Factory"
                                },
                                {
                                    "CompanyName": "Large Bike Shop"
                                },
                                {
                                    "CompanyName": "Express Bike Services"
                                },
                                {
                                    "CompanyName": "Roving Sports"
                                },
                                {
                                    "CompanyName": "Safe Cycles Shop"
                                },
                                {
                                    "CompanyName": "Swift Cycles"
                                },
                                {
                                    "CompanyName": "Rental Bikes"
                                },
                                {
                                    "CompanyName": "Number 1 Supply"
                                },
                                {
                                    "CompanyName": "Quantity Discounts"
                                },
                                {
                                    "CompanyName": "Highway Bike Shop"
                                },
                                {
                                    "CompanyName": "General Industries"
                                },
                                {
                                    "CompanyName": "Farthest Bike Store"
                                },
                                {
                                    "CompanyName": "Fasteners & Bolts Outlet"
                                },
                                {
                                    "CompanyName": "Channel Outlet"
                                },
                                {
                                    "CompanyName": "Alternative Vehicles"
                                },
                                {
                                    "CompanyName": "Metro Cycle Shop"
                                },
                                {
                                    "CompanyName": "A Typical Bike Shop"
                                },
                                {
                                    "CompanyName": "Active Systems"
                                },
                                {
                                    "CompanyName": "Outdoor Sporting Goods"
                                },
                                {
                                    "CompanyName": "Thrifty Parts and Sales"
                                },
                                {
                                    "CompanyName": "The Bicycle Accessories Company"
                                },
                                {
                                    "CompanyName": "Standard Bikes"
                                },
                                {
                                    "CompanyName": "Petroleum Products Distributors"
                                },
                                {
                                    "CompanyName": "Quick Parts and Service"
                                },
                                {
                                    "CompanyName": "Number One Bike Co."
                                },
                                {
                                    "CompanyName": "Handy Bike Services"
                                },
                                {
                                    "CompanyName": "Kickstand Sellers"
                                },
                                {
                                    "CompanyName": "Moderately-Priced Bikes Store"
                                },
                                {
                                    "CompanyName": "Friendly Bike Shop"
                                },
                                {
                                    "CompanyName": "Grand Bicycle Stores"
                                },
                                {
                                    "CompanyName": "Grease and Oil Products Company"
                                },
                                {
                                    "CompanyName": "Fashionable Bikes and Accessories"
                                },
                                {
                                    "CompanyName": "Flawless Bike Shop"
                                },
                                {
                                    "CompanyName": "Engineered Bike Systems"
                                },
                                {
                                    "CompanyName": "City Cycling"
                                },
                                {
                                    "CompanyName": "Citywide Service and Repair"
                                },
                                {
                                    "CompanyName": "Nice Bikes"
                                },
                                {
                                    "CompanyName": "Essential Bike Works"
                                },
                                {
                                    "CompanyName": "Work and Play Association"
                                },
                                {
                                    "CompanyName": "Riding Associates"
                                },
                                {
                                    "CompanyName": "Rugged Bikes"
                                },
                                {
                                    "CompanyName": "The Gear Store"
                                },
                                {
                                    "CompanyName": "Orange Bicycle Company"
                                },
                                {
                                    "CompanyName": "Principal Bike Company"
                                },
                                {
                                    "CompanyName": "Resale Services"
                                },
                                {
                                    "CompanyName": "Metropolitan Manufacturing"
                                },
                                {
                                    "CompanyName": "Low Price Cycles"
                                },
                                {
                                    "CompanyName": "Finer Riding Supplies"
                                },
                                {
                                    "CompanyName": "First-Rate Outlet"
                                },
                                {
                                    "CompanyName": "Tachometers and Accessories"
                                },
                                {
                                    "CompanyName": "Metro Bike Works"
                                },
                                {
                                    "CompanyName": "All Cycle Shop"
                                },
                                {
                                    "CompanyName": "Year-Round Sports"
                                },
                                {
                                    "CompanyName": "World of Bikes"
                                },
                                {
                                    "CompanyName": "Totes & Baskets Company"
                                },
                                {
                                    "CompanyName": "Unicycles, Bicycles, and Tricycles"
                                },
                                {
                                    "CompanyName": "The New Bike Store"
                                },
                                {
                                    "CompanyName": "Technical Parts Manufacturing"
                                },
                                {
                                    "CompanyName": "Retreat Inn"
                                },
                                {
                                    "CompanyName": "Scratch-Resistant Finishes Company"
                                },
                                {
                                    "CompanyName": "Primary Bike Distributors"
                                },
                                {
                                    "CompanyName": "Nearby Cycle Shop"
                                },
                                {
                                    "CompanyName": "Mail-Order Outlet"
                                },
                                {
                                    "CompanyName": "Fifth Bike Store"
                                },
                                {
                                    "CompanyName": "Genial Bike Associates"
                                },
                                {
                                    "CompanyName": "Great Bicycle Supply"
                                },
                                {
                                    "CompanyName": "Bike Universe"
                                },
                                {
                                    "CompanyName": "Bold Bike Accessories"
                                },
                                {
                                    "CompanyName": "Exercise Center"
                                },
                                {
                                    "CompanyName": "Twelfth Bike Store"
                                },
                                {
                                    "CompanyName": "Two-Wheeled Transit Company"
                                },
                                {
                                    "CompanyName": "Serious Cycles"
                                },
                                {
                                    "CompanyName": "Mail Market"
                                },
                                {
                                    "CompanyName": "Novelty Bikes"
                                },
                                {
                                    "CompanyName": "Fitness Supplies"
                                },
                                {
                                    "CompanyName": "Grand Cycle Store"
                                },
                                {
                                    "CompanyName": "Immense Manufacturing Company"
                                },
                                {
                                    "CompanyName": "District Mall"
                                },
                                {
                                    "CompanyName": "Distinctive Store"
                                },
                                {
                                    "CompanyName": "Extended Bike Sales"
                                },
                                {
                                    "CompanyName": "Brown Bicycle Company"
                                },
                                {
                                    "CompanyName": "Acceptable Sales & Service"
                                },
                                {
                                    "CompanyName": "Custom Sales and Service"
                                },
                                {
                                    "CompanyName": "Top Bike Market"
                                },
                                {
                                    "CompanyName": "Commerce Bicycle Specialists"
                                },
                                {
                                    "CompanyName": "Grand Sport Boutique"
                                },
                                {
                                    "CompanyName": "Fad Outlet"
                                },
                                {
                                    "CompanyName": "First Department Stores"
                                },
                                {
                                    "CompanyName": "Bicycle Lines Distributors"
                                },
                                {
                                    "CompanyName": "Beneficial Exercises and Activities"
                                },
                                {
                                    "CompanyName": "Vehicle Shop"
                                },
                                {
                                    "CompanyName": "Sparkling Paint and Finishes"
                                },
                                {
                                    "CompanyName": "Sturdy Toys"
                                },
                                {
                                    "CompanyName": "Road Way Sales and Rental"
                                },
                                {
                                    "CompanyName": "Sixth Bike Store"
                                },
                                {
                                    "CompanyName": "Plastic Parts Company"
                                },
                                {
                                    "CompanyName": "Little Sports Center"
                                },
                                {
                                    "CompanyName": "Online Bike Sellers"
                                },
                                {
                                    "CompanyName": "Capable Sales and Service"
                                },
                                {
                                    "CompanyName": "Commendable Bikes"
                                },
                                {
                                    "CompanyName": "Big Cycle Mall"
                                },
                                {
                                    "CompanyName": "Local Sales and Rental"
                                },
                                {
                                    "CompanyName": "Brightwork Company"
                                },
                                {
                                    "CompanyName": "Pro Sporting Goods"
                                },
                                {
                                    "CompanyName": "Affordable Sports Equipment"
                                },
                                {
                                    "CompanyName": "The Commissary"
                                },
                                {
                                    "CompanyName": "Workout Emporium"
                                },
                                {
                                    "CompanyName": "Odometers and Accessories Company"
                                },
                                {
                                    "CompanyName": "Leisure Clearing House"
                                },
                                {
                                    "CompanyName": "Imaginary Toys"
                                },
                                {
                                    "CompanyName": "Impromptu Trips"
                                },
                                {
                                    "CompanyName": "Genuine Bike Shop"
                                },
                                {
                                    "CompanyName": "Good Bike Shop"
                                },
                                {
                                    "CompanyName": "Exertion Activities Club"
                                },
                                {
                                    "CompanyName": "Extreme Riding Supplies"
                                },
                                {
                                    "CompanyName": "Fitness Cycling"
                                },
                                {
                                    "CompanyName": "Bikes for Two"
                                },
                                {
                                    "CompanyName": "Bikes for Kids and Adults"
                                },
                                {
                                    "CompanyName": "Custom Accessories Company"
                                },
                                {
                                    "CompanyName": "Uttermost Bike Shop"
                                },
                                {
                                    "CompanyName": "Small Cycle Store"
                                },
                                {
                                    "CompanyName": "Thorough Parts and Repair Services"
                                },
                                {
                                    "CompanyName": "Road-Way Mart"
                                },
                                {
                                    "CompanyName": "Satin Finish Company"
                                },
                                {
                                    "CompanyName": "Sheet Metal Manufacturing"
                                },
                                {
                                    "CompanyName": "Professional Cycle Store"
                                },
                                {
                                    "CompanyName": "Remarkable Bike Store"
                                },
                                {
                                    "CompanyName": "Regional Manufacturing"
                                },
                                {
                                    "CompanyName": "Original Bicycle Supply Company"
                                },
                                {
                                    "CompanyName": "Courteous Bicycle Specialists"
                                },
                                {
                                    "CompanyName": "Finer Cycle Shop"
                                },
                                {
                                    "CompanyName": "Action Bicycle Specialists"
                                },
                                {
                                    "CompanyName": "Roadway Bike Emporium"
                                },
                                {
                                    "CompanyName": "A Cycle Shop"
                                },
                                {
                                    "CompanyName": "Unique Bikes"
                                },
                                {
                                    "CompanyName": "Sleek Bikes "
                                },
                                {
                                    "CompanyName": "Timely Shipping Service"
                                },
                                {
                                    "CompanyName": "Riding Excursions"
                                },
                                {
                                    "CompanyName": "Retail Sporting Equipment"
                                },
                                {
                                    "CompanyName": "Price-Cutter Discount Bikes"
                                },
                                {
                                    "CompanyName": "Active Life Toys"
                                },
                                {
                                    "CompanyName": "General Riding Supplies"
                                },
                                {
                                    "CompanyName": "Central Bicycle Specialists"
                                },
                                {
                                    "CompanyName": "Blue Bicycle Company"
                                },
                                {
                                    "CompanyName": "Vast Bike Sales and Rental"
                                },
                                {
                                    "CompanyName": "Wingtip Toys"
                                },
                                {
                                    "CompanyName": "Social Activities Club"
                                },
                                {
                                    "CompanyName": "Summer Sports Place"
                                },
                                {
                                    "CompanyName": "Racing Toys"
                                },
                                {
                                    "CompanyName": "Retail Cycle Shop"
                                },
                                {
                                    "CompanyName": "Real Sporting Goods"
                                },
                                {
                                    "CompanyName": "Major Cycling"
                                },
                                {
                                    "CompanyName": "General Supplies"
                                },
                                {
                                    "CompanyName": "General Bike Corporation"
                                },
                                {
                                    "CompanyName": "Downhill Bicycle Specialists"
                                },
                                {
                                    "CompanyName": "Bike Experts"
                                },
                                {
                                    "CompanyName": "Bicycle Accessories and Kits"
                                },
                                {
                                    "CompanyName": "Cash & Carry Bikes"
                                },
                                {
                                    "CompanyName": "Extraordinary Bike Works"
                                },
                                {
                                    "CompanyName": "Area Bike Accessories"
                                },
                                {
                                    "CompanyName": "Basic Sports Equipment"
                                },
                                {
                                    "CompanyName": "Valley Bicycle Distributors"
                                },
                                {
                                    "CompanyName": "Top Sports Supply"
                                },
                                {
                                    "CompanyName": "Valley Toy Store"
                                },
                                {
                                    "CompanyName": "Quick Delivery Service"
                                },
                                {
                                    "CompanyName": "Metropolitan Bicycle Supply"
                                },
                                {
                                    "CompanyName": "Historic Bicycle Sales"
                                },
                                {
                                    "CompanyName": "Honest Repair Service"
                                },
                                {
                                    "CompanyName": "Great Bikes "
                                },
                                {
                                    "CompanyName": "Global Sporting Goods"
                                },
                                {
                                    "CompanyName": "Designer Department Stores"
                                },
                                {
                                    "CompanyName": "Fun Toys and Bikes"
                                },
                                {
                                    "CompanyName": "World Bike Discount Store"
                                },
                                {
                                    "CompanyName": "Wheel Gallery"
                                },
                                {
                                    "CompanyName": "Retail Mall"
                                },
                                {
                                    "CompanyName": "Rural Bicycle Supply"
                                },
                                {
                                    "CompanyName": "Seats and Saddles Company"
                                },
                                {
                                    "CompanyName": "Metro Metals Co."
                                },
                                {
                                    "CompanyName": "Futuristic Sport Distributors"
                                },
                                {
                                    "CompanyName": "Finer Sales and Service"
                                },
                                {
                                    "CompanyName": "Fun Times Club"
                                },
                                {
                                    "CompanyName": "Alpine Ski House"
                                },
                                {
                                    "CompanyName": "Big-Time Bike Store"
                                },
                                {
                                    "CompanyName": "The Showroom"
                                },
                                {
                                    "CompanyName": "Tenth Bike Store"
                                },
                                {
                                    "CompanyName": "Recommended Bicycles"
                                },
                                {
                                    "CompanyName": "Prosperous Tours"
                                },
                                {
                                    "CompanyName": "Nonskid Tire Company"
                                },
                                {
                                    "CompanyName": "Finer Parts Shop"
                                },
                                {
                                    "CompanyName": "Friendly Neighborhood Bikes"
                                },
                                {
                                    "CompanyName": "Valley Bicycle Specialists"
                                },
                                {
                                    "CompanyName": "Finish and Sealant Products"
                                },
                                {
                                    "CompanyName": "Field Trip Store"
                                },
                                {
                                    "CompanyName": "Curbside Sporting Goods"
                                },
                                {
                                    "CompanyName": "Remote Bicycle Specialists"
                                },
                                {
                                    "CompanyName": "Vinyl and Plastic Goods Corporation"
                                },
                                {
                                    "CompanyName": "Consolidated Messenger"
                                },
                                {
                                    "CompanyName": "Variety Cycling"
                                },
                                {
                                    "CompanyName": "Some Discount Store"
                                },
                                {
                                    "CompanyName": "Major Sport Suppliers"
                                },
                                {
                                    "CompanyName": "Mountain Toy Store"
                                },
                                {
                                    "CompanyName": "Practical Bike Supply Company"
                                },
                                {
                                    "CompanyName": "Systematic Sales"
                                },
                                {
                                    "CompanyName": "Imported and Domestic Cycles"
                                },
                                {
                                    "CompanyName": "Metallic Paint and Overcoat Co"
                                },
                                {
                                    "CompanyName": "Economy Center"
                                },
                                {
                                    "CompanyName": "Designated Distributors"
                                },
                                {
                                    "CompanyName": "Family's Favorite Bike Shop"
                                },
                                {
                                    "CompanyName": "Area Sheet Metal Supply"
                                },
                                {
                                    "CompanyName": "Synthetic Materials Manufacturing"
                                },
                                {
                                    "CompanyName": "The Bike Shop"
                                },
                                {
                                    "CompanyName": "Riders Company"
                                },
                                {
                                    "CompanyName": "Rural Sales and Service"
                                },
                                {
                                    "CompanyName": "Safe Toys"
                                },
                                {
                                    "CompanyName": "Professional Sales and Service"
                                },
                                {
                                    "CompanyName": "Professional Containers and Packaging Co."
                                },
                                {
                                    "CompanyName": "One Bike Company"
                                },
                                {
                                    "CompanyName": "Our Sporting Goods Store"
                                },
                                {
                                    "CompanyName": "General Cycle Storehouse"
                                },
                                {
                                    "CompanyName": "Cycling Goods"
                                },
                                {
                                    "CompanyName": "Cycle Clearance"
                                },
                                {
                                    "CompanyName": "Coho Sports"
                                },
                                {
                                    "CompanyName": "All Seasons Sports Supply"
                                },
                                {
                                    "CompanyName": "Black Bicycle Company"
                                },
                                {
                                    "CompanyName": "Westside Plaza"
                                },
                                {
                                    "CompanyName": "Strenuous Exercise Shop"
                                },
                                {
                                    "CompanyName": "Transport Bikes"
                                },
                                {
                                    "CompanyName": "Sellers of Cycles"
                                },
                                {
                                    "CompanyName": "Outstanding Cycles"
                                },
                                {
                                    "CompanyName": "Little Bicycle Supply Shop"
                                },
                                {
                                    "CompanyName": "Maintenance and Repair for Bicycles"
                                },
                                {
                                    "CompanyName": "Golf and Cycle Store"
                                },
                                {
                                    "CompanyName": "Good Toys"
                                },
                                {
                                    "CompanyName": "Fitness Department Stores"
                                },
                                {
                                    "CompanyName": "Famous Bike Shop"
                                },
                                {
                                    "CompanyName": "Tubeless Tire Company"
                                },
                                {
                                    "CompanyName": "Tires and Tubes"
                                },
                                {
                                    "CompanyName": "Running and Cycling Gear"
                                },
                                {
                                    "CompanyName": "Gift and Toy Store"
                                },
                                {
                                    "CompanyName": "Hardware Components"
                                },
                                {
                                    "CompanyName": "First Cycle Store"
                                },
                                {
                                    "CompanyName": "Major Sporting Goods"
                                },
                                {
                                    "CompanyName": "Retail Sporting Goods"
                                },
                                {
                                    "CompanyName": "Efficient Cycling"
                                },
                                {
                                    "CompanyName": "Eastside Parts Shop"
                                },
                                {
                                    "CompanyName": "Tandem Sales and Service"
                                },
                                {
                                    "CompanyName": "Sports Store"
                                },
                                {
                                    "CompanyName": "Reliable Retail Center"
                                },
                                {
                                    "CompanyName": "Extended Tours"
                                },
                                {
                                    "CompanyName": "Friendly Bike Shop"
                                },
                                {
                                    "CompanyName": "Convenient Sales and Service"
                                },
                                {
                                    "CompanyName": "Superior Hardware Distributors"
                                },
                                {
                                    "CompanyName": "Yellow Bicycle Company"
                                },
                                {
                                    "CompanyName": "Solid Bike Parts"
                                },
                                {
                                    "CompanyName": "Small Bike Shop"
                                },
                                {
                                    "CompanyName": "Sports Products Store"
                                },
                                {
                                    "CompanyName": "Permanent Finish Products"
                                },
                                {
                                    "CompanyName": "Mercantile Outlet"
                                },
                                {
                                    "CompanyName": "Online Bike Warehouse"
                                },
                                {
                                    "CompanyName": "Operational Manufacturing"
                                },
                                {
                                    "CompanyName": "Shipping Specialists"
                                },
                                {
                                    "CompanyName": "Exhilarating Cycles"
                                },
                                {
                                    "CompanyName": "General Department Stores"
                                },
                                {
                                    "CompanyName": "Authentic Sales and Service"
                                },
                                {
                                    "CompanyName": "Official Parts Shop"
                                },
                                {
                                    "CompanyName": "Racing Bike Outlet"
                                },
                                {
                                    "CompanyName": "First Bike Store"
                                },
                                {
                                    "CompanyName": "Contoso, Ltd."
                                },
                                {
                                    "CompanyName": "Utilitarian Sporting Goods"
                                },
                                {
                                    "CompanyName": "Countryside Company"
                                },
                                {
                                    "CompanyName": "Discount Tours"
                                },
                                {
                                    "CompanyName": "Tire Exchange"
                                },
                                {
                                    "CompanyName": "Vigorous Exercise Company"
                                },
                                {
                                    "CompanyName": "Superb Sales and Repair"
                                },
                                {
                                    "CompanyName": "Oils and Fluids Warehouse"
                                },
                                {
                                    "CompanyName": "Family Cycle Store"
                                },
                                {
                                    "CompanyName": "Consumer Equipment"
                                },
                                {
                                    "CompanyName": "Successful Sales Company"
                                },
                                {
                                    "CompanyName": "Stock Parts and Supplies"
                                },
                                {
                                    "CompanyName": "The Accessories Store"
                                },
                                {
                                    "CompanyName": "Responsible Bike Dealers"
                                },
                                {
                                    "CompanyName": "Roadway Supplies"
                                },
                                {
                                    "CompanyName": "Brakes and Gears"
                                },
                                {
                                    "CompanyName": "Western Bike Supplies"
                                },
                                {
                                    "CompanyName": "Future Bikes"
                                },
                                {
                                    "CompanyName": "Professional Sales and Service"
                                },
                                {
                                    "CompanyName": "Riders Company"
                                },
                                {
                                    "CompanyName": "Area Bike Accessories"
                                },
                                {
                                    "CompanyName": "Bicycle Accessories and Kits"
                                },
                                {
                                    "CompanyName": "Valley Bicycle Specialists"
                                },
                                {
                                    "CompanyName": "Vinyl and Plastic Goods Corporation"
                                },
                                {
                                    "CompanyName": "Fun Toys and Bikes"
                                },
                                {
                                    "CompanyName": "Great Bikes "
                                },
                                {
                                    "CompanyName": "Valley Toy Store"
                                },
                                {
                                    "CompanyName": "Major Sport Suppliers"
                                },
                                {
                                    "CompanyName": "Family's Favorite Bike Shop"
                                },
                                {
                                    "CompanyName": "Imported and Domestic Cycles"
                                },
                                {
                                    "CompanyName": "Systematic Sales"
                                },
                                {
                                    "CompanyName": "Mountain Toy Store"
                                },
                                {
                                    "CompanyName": "Designated Distributors"
                                },
                                {
                                    "CompanyName": "Bold Bike Accessories"
                                },
                                {
                                    "CompanyName": "Serious Cycles"
                                },
                                {
                                    "CompanyName": "Novelty Bikes"
                                },
                                {
                                    "CompanyName": "Brightwork Company"
                                },
                                {
                                    "CompanyName": "Resale Services"
                                },
                                {
                                    "CompanyName": "The Gear Store"
                                },
                                {
                                    "CompanyName": "Immense Manufacturing Company"
                                },
                                {
                                    "CompanyName": "Extended Bike Sales"
                                },
                                {
                                    "CompanyName": "Workout Emporium"
                                },
                                {
                                    "CompanyName": "Work and Play Association"
                                },
                                {
                                    "CompanyName": "Nice Bikes"
                                },
                                {
                                    "CompanyName": "Remarkable Bike Store"
                                },
                                {
                                    "CompanyName": "Road-Way Mart"
                                },
                                {
                                    "CompanyName": "Small Cycle Store"
                                },
                                {
                                    "CompanyName": "Grand Bicycle Stores"
                                },
                                {
                                    "CompanyName": "Kickstand Sellers"
                                },
                                {
                                    "CompanyName": "Gasless Cycle Shop"
                                },
                                {
                                    "CompanyName": "Transportation Options"
                                },
                                {
                                    "CompanyName": "Finer Cycle Shop"
                                },
                                {
                                    "CompanyName": "Center Cycle Shop"
                                },
                                {
                                    "CompanyName": "Bulk Discount Store"
                                },
                                {
                                    "CompanyName": "First-Rate Outlet"
                                },
                                {
                                    "CompanyName": "Another Bicycle Company"
                                },
                                {
                                    "CompanyName": "Unsurpassed Bikes"
                                },
                                {
                                    "CompanyName": "Field Trip Inc"
                                },
                                {
                                    "CompanyName": "Odometers and Accessories Company"
                                },
                                {
                                    "CompanyName": "Scratch-Resistant Finishes Company"
                                },
                                {
                                    "CompanyName": "Safe Cycles Shop"
                                },
                                {
                                    "CompanyName": "Number 1 Supply"
                                },
                                {
                                    "CompanyName": "Golf and Cycle Store"
                                },
                                {
                                    "CompanyName": "World Bike Discount Store"
                                },
                                {
                                    "CompanyName": "Historic Bicycle Sales"
                                },
                                {
                                    "CompanyName": "Commuter Bicycle Store"
                                },
                                {
                                    "CompanyName": "Coalition Bike Company"
                                },
                                {
                                    "CompanyName": "Travel Systems"
                                },
                                {
                                    "CompanyName": "Grease and Oil Products Company"
                                },
                                {
                                    "CompanyName": "Moderately-Priced Bikes Store"
                                },
                                {
                                    "CompanyName": "Economy Bikes Company"
                                },
                                {
                                    "CompanyName": "Third Bike Store"
                                },
                                {
                                    "CompanyName": "Bikes for Two"
                                },
                                {
                                    "CompanyName": "Metal Processing Company"
                                },
                                {
                                    "CompanyName": "Initial Bike Company"
                                },
                                {
                                    "CompanyName": "Latest Sports Equipment"
                                },
                                {
                                    "CompanyName": "Raw Materials Inc"
                                },
                                {
                                    "CompanyName": "Lots of Bikes Storehouse"
                                },
                                {
                                    "CompanyName": "Futuristic Bikes"
                                },
                                {
                                    "CompanyName": "Parcel Express Delivery Service"
                                },
                                {
                                    "CompanyName": "Prosperous Tours"
                                },
                                {
                                    "CompanyName": "Nonskid Tire Company"
                                },
                                {
                                    "CompanyName": "Metro Bike Works"
                                },
                                {
                                    "CompanyName": "Best o' Bikes"
                                },
                                {
                                    "CompanyName": "Client Discount Store"
                                },
                                {
                                    "CompanyName": "Requisite Part Supply"
                                },
                                {
                                    "CompanyName": "Mechanical Products Ltd."
                                },
                                {
                                    "CompanyName": "Commendable Bikes"
                                },
                                {
                                    "CompanyName": "Online Bike Sellers"
                                },
                                {
                                    "CompanyName": "Custom Accessories Company"
                                },
                                {
                                    "CompanyName": "Courteous Bicycle Specialists"
                                },
                                {
                                    "CompanyName": "Professional Cycle Store"
                                },
                                {
                                    "CompanyName": "Fifth Bike Store"
                                },
                                {
                                    "CompanyName": "Farthest Bike Store"
                                },
                                {
                                    "CompanyName": "Alternative Vehicles"
                                },
                                {
                                    "CompanyName": "Channel Outlet"
                                },
                                {
                                    "CompanyName": "Retail Mall"
                                },
                                {
                                    "CompanyName": "Metro Metals Co."
                                },
                                {
                                    "CompanyName": "Sheet Metal Manufacturing"
                                },
                                {
                                    "CompanyName": "Thorough Parts and Repair Services"
                                },
                                {
                                    "CompanyName": "Uttermost Bike Shop"
                                },
                                {
                                    "CompanyName": "Two-Wheeled Transit Company"
                                },
                                {
                                    "CompanyName": "Metro Cycle Shop"
                                },
                                {
                                    "CompanyName": "Outdoor Sporting Goods"
                                },
                                {
                                    "CompanyName": "Petroleum Products Distributors"
                                },
                                {
                                    "CompanyName": "Bikes and Motorbikes"
                                },
                                {
                                    "CompanyName": "Camping and Sports Store"
                                },
                                {
                                    "CompanyName": "Rural Department Store"
                                },
                                {
                                    "CompanyName": "Sports Commodities"
                                },
                                {
                                    "CompanyName": "Responsible Bike Dealers"
                                },
                                {
                                    "CompanyName": "Western Bike Supplies"
                                },
                                {
                                    "CompanyName": "Advanced Bike Components"
                                },
                                {
                                    "CompanyName": "Aerobic Exercise Company"
                                },
                                {
                                    "CompanyName": "Corner Bicycle Supply"
                                },
                                {
                                    "CompanyName": "Westside Plaza"
                                },
                                {
                                    "CompanyName": "Outstanding Cycles"
                                },
                                {
                                    "CompanyName": "Vigorous Sports Store"
                                },
                                {
                                    "CompanyName": "Sports Merchandise"
                                },
                                {
                                    "CompanyName": "Fitness Toy Store"
                                },
                                {
                                    "CompanyName": "General Cycle Storehouse"
                                },
                                {
                                    "CompanyName": "Fitness Cycling"
                                },
                                {
                                    "CompanyName": "Good Bike Shop"
                                },
                                {
                                    "CompanyName": "Thrilling Bike Tours"
                                },
                                {
                                    "CompanyName": "This Area Sporting Goods"
                                },
                                {
                                    "CompanyName": "Full-Service Bike Store"
                                },
                                {
                                    "CompanyName": "Genuine Bike Shop"
                                },
                                {
                                    "CompanyName": "Extreme Riding Supplies"
                                },
                                {
                                    "CompanyName": "Fleet Bikes"
                                },
                                {
                                    "CompanyName": "Local Hardware Factory"
                                },
                                {
                                    "CompanyName": "South Bike Company"
                                },
                                {
                                    "CompanyName": "Discount Bicycle Specialists"
                                },
                                {
                                    "CompanyName": "Machines & Cycles Store"
                                },
                                {
                                    "CompanyName": "Two Wheels Cycle Store"
                                },
                                {
                                    "CompanyName": "Westside Cycle Store"
                                },
                                {
                                    "CompanyName": "Urban Sports Emporium"
                                },
                                {
                                    "CompanyName": "Sixth Bike Store"
                                },
                                {
                                    "CompanyName": "Vehicle Shop"
                                },
                                {
                                    "CompanyName": "First Department Stores"
                                },
                                {
                                    "CompanyName": "Grand Sport Boutique"
                                },
                                {
                                    "CompanyName": "Distinctive Store"
                                },
                                {
                                    "CompanyName": "Handy Bike Services"
                                },
                                {
                                    "CompanyName": "Friendly Bike Shop"
                                },
                                {
                                    "CompanyName": "Fashionable Bikes and Accessories"
                                },
                                {
                                    "CompanyName": "Citywide Service and Repair"
                                },
                                {
                                    "CompanyName": "Rugged Bikes"
                                },
                                {
                                    "CompanyName": "Principal Bike Company"
                                },
                                {
                                    "CompanyName": "Finer Riding Supplies"
                                },
                                {
                                    "CompanyName": "Neighborhood Store"
                                },
                                {
                                    "CompanyName": "Paint Supply"
                                },
                                {
                                    "CompanyName": "Preferred Bikes"
                                },
                                {
                                    "CompanyName": "Rewarding Activities Company"
                                },
                                {
                                    "CompanyName": "Stationary Bikes and Stands"
                                },
                                {
                                    "CompanyName": "Successful Sales Company"
                                },
                                {
                                    "CompanyName": "Downtown Hotel"
                                },
                                {
                                    "CompanyName": "Certified Sports Supply"
                                },
                                {
                                    "CompanyName": "Rampart Amusement Company"
                                },
                                {
                                    "CompanyName": "Sundry Sporting Goods"
                                },
                                {
                                    "CompanyName": "Farthermost Bike Shop"
                                },
                                {
                                    "CompanyName": "Suburban Cycle Shop"
                                },
                                {
                                    "CompanyName": "Racing Bike Outlet"
                                },
                                {
                                    "CompanyName": "Utilitarian Sporting Goods"
                                },
                                {
                                    "CompanyName": "Vigorous Exercise Company"
                                },
                                {
                                    "CompanyName": "Stock Parts and Supplies"
                                },
                                {
                                    "CompanyName": "Roadway Supplies"
                                },
                                {
                                    "CompanyName": "Future Bikes"
                                },
                                {
                                    "CompanyName": "Satin Finish Company"
                                },
                                {
                                    "CompanyName": "Regional Manufacturing"
                                },
                                {
                                    "CompanyName": "Original Bicycle Supply Company"
                                },
                                {
                                    "CompanyName": "Action Bicycle Specialists"
                                },
                                {
                                    "CompanyName": "Roadway Bike Emporium"
                                },
                                {
                                    "CompanyName": "Sleek Bikes "
                                },
                                {
                                    "CompanyName": "Retail Sporting Equipment"
                                },
                                {
                                    "CompanyName": "Price-Cutter Discount Bikes"
                                },
                                {
                                    "CompanyName": "Central Bicycle Specialists"
                                },
                                {
                                    "CompanyName": "Vast Bike Sales and Rental"
                                },
                                {
                                    "CompanyName": "Summer Sports Place"
                                },
                                {
                                    "CompanyName": "Real Sporting Goods"
                                },
                                {
                                    "CompanyName": "The Bike Shop"
                                },
                                {
                                    "CompanyName": "Safe Toys"
                                },
                                {
                                    "CompanyName": "Our Sporting Goods Store"
                                },
                                {
                                    "CompanyName": "Coho Sports"
                                },
                                {
                                    "CompanyName": "Quick Delivery Service"
                                },
                                {
                                    "CompanyName": "Basic Sports Equipment"
                                },
                                {
                                    "CompanyName": "Cash & Carry Bikes"
                                },
                                {
                                    "CompanyName": "General Bike Corporation"
                                },
                                {
                                    "CompanyName": "Retail Cycle Shop"
                                },
                                {
                                    "CompanyName": "Social Activities Club"
                                },
                                {
                                    "CompanyName": "Blue Bicycle Company"
                                },
                                {
                                    "CompanyName": "General Riding Supplies"
                                },
                                {
                                    "CompanyName": "Riding Excursions"
                                },
                                {
                                    "CompanyName": "Unique Bikes"
                                },
                                {
                                    "CompanyName": "Rural Cycle Emporium"
                                },
                                {
                                    "CompanyName": "Associated Bikes"
                                },
                                {
                                    "CompanyName": "Modular Cycle Systems"
                                },
                                {
                                    "CompanyName": "A Bike Store"
                                },
                                {
                                    "CompanyName": "Journey Sporting Goods"
                                },
                                {
                                    "CompanyName": "Two Bike Shops"
                                },
                                {
                                    "CompanyName": "Cycles Wholesaler & Mfg."
                                },
                                {
                                    "CompanyName": "Number One Bike Co."
                                },
                                {
                                    "CompanyName": "Standard Bikes"
                                },
                                {
                                    "CompanyName": "The Bicycle Accessories Company"
                                },
                                {
                                    "CompanyName": "Active Systems"
                                },
                                {
                                    "CompanyName": "Futuristic Sport Distributors"
                                },
                                {
                                    "CompanyName": "Big-Time Bike Store"
                                },
                                {
                                    "CompanyName": "The Showroom"
                                },
                                {
                                    "CompanyName": "Year-Round Sports"
                                },
                                {
                                    "CompanyName": "The New Bike Store"
                                },
                                {
                                    "CompanyName": "Primary Bike Distributors"
                                },
                                {
                                    "CompanyName": "Genial Bike Associates"
                                },
                                {
                                    "CompanyName": "Commercial Sporting Goods"
                                },
                                {
                                    "CompanyName": "Wholesale Parts"
                                },
                                {
                                    "CompanyName": "Riding Cycles"
                                },
                                {
                                    "CompanyName": "Metro Manufacturing"
                                },
                                {
                                    "CompanyName": "Locks Company"
                                },
                                {
                                    "CompanyName": "Latest Accessories Sales"
                                },
                                {
                                    "CompanyName": "Greater Bike Store"
                                },
                                {
                                    "CompanyName": "Distant Inn"
                                },
                                {
                                    "CompanyName": "Finer Mart"
                                },
                                {
                                    "CompanyName": "Cross-Country Riding Supplies"
                                },
                                {
                                    "CompanyName": "Bike World"
                                },
                                {
                                    "CompanyName": "Central Discount Store"
                                },
                                {
                                    "CompanyName": "Sharp Bikes"
                                },
                                {
                                    "CompanyName": "Metropolitan Sports Supply"
                                },
                                {
                                    "CompanyName": "Progressive Sports"
                                },
                                {
                                    "CompanyName": "Brakes and Gears"
                                },
                                {
                                    "CompanyName": "The Accessories Store"
                                },
                                {
                                    "CompanyName": "Family Cycle Store"
                                },
                                {
                                    "CompanyName": "Superb Sales and Repair"
                                },
                                {
                                    "CompanyName": "Countryside Company"
                                },
                                {
                                    "CompanyName": "First Bike Store"
                                },
                                {
                                    "CompanyName": "General Department Stores"
                                },
                                {
                                    "CompanyName": "Operational Manufacturing"
                                },
                                {
                                    "CompanyName": "Online Bike Warehouse"
                                },
                                {
                                    "CompanyName": "Small Bike Shop"
                                },
                                {
                                    "CompanyName": "Superior Hardware Distributors"
                                },
                                {
                                    "CompanyName": "Eastside Parts Shop"
                                },
                                {
                                    "CompanyName": "First Cycle Store"
                                },
                                {
                                    "CompanyName": "Running and Cycling Gear"
                                },
                                {
                                    "CompanyName": "Good Toys"
                                },
                                {
                                    "CompanyName": "Little Bicycle Supply Shop"
                                },
                                {
                                    "CompanyName": "All Seasons Sports Supply"
                                },
                                {
                                    "CompanyName": "Leisure Clearing House"
                                },
                                {
                                    "CompanyName": "The Commissary"
                                },
                                {
                                    "CompanyName": "Affordable Sports Equipment"
                                },
                                {
                                    "CompanyName": "Local Sales and Rental"
                                },
                                {
                                    "CompanyName": "Economy Center"
                                },
                                {
                                    "CompanyName": "Area Sheet Metal Supply"
                                },
                                {
                                    "CompanyName": "Synthetic Materials Manufacturing"
                                },
                                {
                                    "CompanyName": "Rural Sales and Service"
                                },
                                {
                                    "CompanyName": "Tubeless Tire Company"
                                },
                                {
                                    "CompanyName": "Hardware Components"
                                },
                                {
                                    "CompanyName": "Retail Sporting Goods"
                                },
                                {
                                    "CompanyName": "Efficient Cycling"
                                },
                                {
                                    "CompanyName": "General Industries"
                                },
                                {
                                    "CompanyName": "Highway Bike Shop"
                                },
                                {
                                    "CompanyName": "Rental Bikes"
                                },
                                {
                                    "CompanyName": "Roving Sports"
                                },
                                {
                                    "CompanyName": "Express Bike Services"
                                },
                                {
                                    "CompanyName": "Retail Discount Store"
                                },
                                {
                                    "CompanyName": "Vale Riding Supplies"
                                },
                                {
                                    "CompanyName": "A Great Bicycle Company"
                                },
                                {
                                    "CompanyName": "Certified Bicycle Supply"
                                },
                                {
                                    "CompanyName": "Exceptional Cycle Services"
                                },
                                {
                                    "CompanyName": "Leisure Activities"
                                },
                                {
                                    "CompanyName": "Paints and Solvents Company"
                                },
                                {
                                    "CompanyName": "Bikes for Kids and Adults"
                                },
                                {
                                    "CompanyName": "Home Town Bike Store"
                                },
                                {
                                    "CompanyName": "Sample Bike Store"
                                },
                                {
                                    "CompanyName": "Extras Sporting Goods"
                                },
                                {
                                    "CompanyName": "Sure & Reliable Sporting Goods"
                                },
                                {
                                    "CompanyName": "Separate Parts Corporation"
                                },
                                {
                                    "CompanyName": "Basic Bike Company"
                                },
                                {
                                    "CompanyName": "Fabrikam Inc., West"
                                },
                                {
                                    "CompanyName": "Non-Slip Pedal Company"
                                },
                                {
                                    "CompanyName": "Weekend Bike Tours"
                                },
                                {
                                    "CompanyName": "General Supplies"
                                },
                                {
                                    "CompanyName": "Racing Toys"
                                },
                                {
                                    "CompanyName": "Capable Sales and Service"
                                },
                                {
                                    "CompanyName": "Road Way Sales and Rental"
                                },
                                {
                                    "CompanyName": "Sturdy Toys"
                                },
                                {
                                    "CompanyName": "Beneficial Exercises and Activities"
                                },
                                {
                                    "CompanyName": "Fad Outlet"
                                },
                                {
                                    "CompanyName": "Commerce Bicycle Specialists"
                                },
                                {
                                    "CompanyName": "Acceptable Sales & Service"
                                },
                                {
                                    "CompanyName": "District Mall"
                                },
                                {
                                    "CompanyName": "Fitness Supplies"
                                },
                                {
                                    "CompanyName": "Mail Market"
                                },
                                {
                                    "CompanyName": "Twelfth Bike Store"
                                },
                                {
                                    "CompanyName": "Consolidated Messenger"
                                },
                                {
                                    "CompanyName": "Field Trip Store"
                                },
                                {
                                    "CompanyName": "Finish and Sealant Products"
                                },
                                {
                                    "CompanyName": "Finer Parts Shop"
                                },
                                {
                                    "CompanyName": "Up-To-Date Sports"
                                },
                                {
                                    "CompanyName": "Mountain Bike Center"
                                },
                                {
                                    "CompanyName": "Specialty Sports Store"
                                },
                                {
                                    "CompanyName": "Scooters and Bikes Store"
                                },
                                {
                                    "CompanyName": "Closest Bicycle Store"
                                },
                                {
                                    "CompanyName": "Reasonable Bicycle Sales"
                                },
                                {
                                    "CompanyName": "Outdoor Sports Supply"
                                },
                                {
                                    "CompanyName": "Outdoor Aerobic Systems Company"
                                },
                                {
                                    "CompanyName": "Metal Clearing House"
                                },
                                {
                                    "CompanyName": "Many Bikes Store"
                                },
                                {
                                    "CompanyName": "Largest Bike Store"
                                },
                                {
                                    "CompanyName": "Kickstands and Accessories Company"
                                },
                                {
                                    "CompanyName": "Instruments and Parts Company"
                                },
                                {
                                    "CompanyName": "Gear-Shift Bikes Limited"
                                },
                                {
                                    "CompanyName": "Frugal Bike Shop"
                                },
                                {
                                    "CompanyName": "Family Entertainment Center"
                                },
                                {
                                    "CompanyName": "Go-cart and Bike Specialists"
                                },
                                {
                                    "CompanyName": "Trailblazing Sports"
                                },
                                {
                                    "CompanyName": "Racing Partners"
                                },
                                {
                                    "CompanyName": "Exhibition Showroom"
                                },
                                {
                                    "CompanyName": "Authorized Bike Sales and Rental"
                                },
                                {
                                    "CompanyName": "Two-Seater Bikes"
                                },
                                {
                                    "CompanyName": "More Bikes!"
                                },
                                {
                                    "CompanyName": "National Manufacturing"
                                },
                                {
                                    "CompanyName": "Town Industries"
                                },
                                {
                                    "CompanyName": "Security Racks and Locks Wholesalers"
                                },
                                {
                                    "CompanyName": "Rapid Bikes"
                                },
                                {
                                    "CompanyName": "Nearby Sporting Goods"
                                },
                                {
                                    "CompanyName": "Front Sporting Goods"
                                },
                                {
                                    "CompanyName": "Elite Bikes"
                                },
                                {
                                    "CompanyName": "Catalog Store"
                                },
                                {
                                    "CompanyName": "Chic Department Stores"
                                },
                                {
                                    "CompanyName": "Eastside Department Store"
                                },
                                {
                                    "CompanyName": "Cycle Merchants"
                                },
                                {
                                    "CompanyName": "Fitness Hotel"
                                },
                                {
                                    "CompanyName": "Grand Industries"
                                },
                                {
                                    "CompanyName": "Leading Sales & Repair"
                                },
                                {
                                    "CompanyName": "Tandem Sales and Service"
                                },
                                {
                                    "CompanyName": "Reliable Retail Center"
                                },
                                {
                                    "CompanyName": "Friendly Bike Shop"
                                },
                                {
                                    "CompanyName": "Yellow Bicycle Company"
                                },
                                {
                                    "CompanyName": "Sports Products Store"
                                },
                                {
                                    "CompanyName": "Shipping Specialists"
                                },
                                {
                                    "CompanyName": "Authentic Sales and Service"
                                },
                                {
                                    "CompanyName": "Official Parts Shop"
                                },
                                {
                                    "CompanyName": "Discount Tours"
                                },
                                {
                                    "CompanyName": "Tire Exchange"
                                },
                                {
                                    "CompanyName": "Oils and Fluids Warehouse"
                                },
                                {
                                    "CompanyName": "Rally Master Company Inc"
                                },
                                {
                                    "CompanyName": "Professional Cyclists"
                                },
                                {
                                    "CompanyName": "Exclusive Bicycle Mart"
                                },
                                {
                                    "CompanyName": "City Manufacturing"
                                },
                                {
                                    "CompanyName": "Bike Dealers Association"
                                },
                                {
                                    "CompanyName": "Health Spa, Limited"
                                },
                                {
                                    "CompanyName": "Closeout Boutique"
                                },
                                {
                                    "CompanyName": "Bicycle Merchandise Warehouse"
                                },
                                {
                                    "CompanyName": "Leather Seat Factory"
                                },
                                {
                                    "CompanyName": "Practical Bike Supply Company"
                                },
                                {
                                    "CompanyName": "Some Discount Store"
                                },
                                {
                                    "CompanyName": "Variety Cycling"
                                },
                                {
                                    "CompanyName": "Remote Bicycle Specialists"
                                },
                                {
                                    "CompanyName": "Friendly Neighborhood Bikes"
                                },
                                {
                                    "CompanyName": "Recommended Bicycles"
                                },
                                {
                                    "CompanyName": "Alpine Ski House"
                                },
                                {
                                    "CompanyName": "Seats and Saddles Company"
                                },
                                {
                                    "CompanyName": "All Cycle Shop"
                                },
                                {
                                    "CompanyName": "Tachometers and Accessories"
                                },
                                {
                                    "CompanyName": "Low Price Cycles"
                                },
                                {
                                    "CompanyName": "Metropolitan Manufacturing"
                                },
                                {
                                    "CompanyName": "Orange Bicycle Company"
                                },
                                {
                                    "CompanyName": "Riding Associates"
                                },
                                {
                                    "CompanyName": "Essential Bike Works"
                                },
                                {
                                    "CompanyName": "Engineered Bike Systems"
                                },
                                {
                                    "CompanyName": "Engineered Bike Systemsingsnyesale�"
                                },
                                {
                                    "CompanyName": "One Bike Company"
                                },
                                {
                                    "CompanyName": "Cycling Goods"
                                },
                                {
                                    "CompanyName": "Cycle Clearance"
                                },
                                {
                                    "CompanyName": "Black Bicycle Company"
                                },
                                {
                                    "CompanyName": "Transport Bikes"
                                },
                                {
                                    "CompanyName": "Sellers of Cycles"
                                },
                                {
                                    "CompanyName": "Maintenance and Repair for Bicycles"
                                },
                                {
                                    "CompanyName": "Fitness Department Stores"
                                },
                                {
                                    "CompanyName": "Famous Bike Shop"
                                },
                                {
                                    "CompanyName": "Gift and Toy Store"
                                },
                                {
                                    "CompanyName": "Major Sporting Goods"
                                },
                                {
                                    "CompanyName": "Major Cycling"
                                },
                                {
                                    "CompanyName": "Downhill Bicycle Specialists"
                                },
                                {
                                    "CompanyName": "Bike Experts"
                                },
                                {
                                    "CompanyName": "Extraordinary Bike Works"
                                },
                                {
                                    "CompanyName": "Valley Bicycle Distributors"
                                },
                                {
                                    "CompanyName": "Top Sports Supply"
                                },
                                {
                                    "CompanyName": "Metropolitan Bicycle Supply"
                                },
                                {
                                    "CompanyName": "Honest Repair Service"
                                },
                                {
                                    "CompanyName": "Wheel Gallery"
                                },
                                {
                                    "CompanyName": "Top Bike Market"
                                },
                                {
                                    "CompanyName": "Bicycle Lines Distributors"
                                },
                                {
                                    "CompanyName": "Sparkling Paint and Finishes"
                                },
                                {
                                    "CompanyName": "Plastic Parts Company"
                                },
                                {
                                    "CompanyName": "Big Cycle Mall"
                                },
                                {
                                    "CompanyName": "Eighth Bike Store"
                                },
                                {
                                    "CompanyName": "Demand Distributors"
                                },
                                {
                                    "CompanyName": "Red Bicycle Company"
                                },
                                {
                                    "CompanyName": "Trendy Department Stores"
                                },
                                {
                                    "CompanyName": "Vintage Sport Boutique"
                                },
                                {
                                    "CompanyName": "Travel Sports"
                                },
                                {
                                    "CompanyName": "West Side Mart"
                                },
                                {
                                    "CompanyName": "Tenth Bike Store"
                                },
                                {
                                    "CompanyName": "Fun Times Club"
                                },
                                {
                                    "CompanyName": "Wingtip Toys"
                                },
                                {
                                    "CompanyName": "Active Life Toys"
                                },
                                {
                                    "CompanyName": "Quick Parts and Service"
                                },
                                {
                                    "CompanyName": "Thrifty Parts and Sales"
                                },
                                {
                                    "CompanyName": "A Typical Bike Shop"
                                },
                                {
                                    "CompanyName": "Fasteners & Bolts Outlet"
                                },
                                {
                                    "CompanyName": "Quantity Discounts"
                                },
                                {
                                    "CompanyName": "Swift Cycles"
                                },
                                {
                                    "CompanyName": "Large Bike Shop"
                                },
                                {
                                    "CompanyName": "Wire Baskets and Parts"
                                },
                                {
                                    "CompanyName": "Sports Store"
                                },
                                {
                                    "CompanyName": "Extended Tours"
                                },
                                {
                                    "CompanyName": "Convenient Sales and Service"
                                },
                                {
                                    "CompanyName": "Solid Bike Parts"
                                },
                                {
                                    "CompanyName": "Permanent Finish Products"
                                },
                                {
                                    "CompanyName": "Mercantile Outlet"
                                },
                                {
                                    "CompanyName": "Exhilarating Cycles"
                                },
                                {
                                    "CompanyName": "Exercise Center"
                                },
                                {
                                    "CompanyName": "Great Bicycle Supply"
                                },
                                {
                                    "CompanyName": "Mail-Order Outlet"
                                },
                                {
                                    "CompanyName": "Nearby Cycle Shop"
                                },
                                {
                                    "CompanyName": "Retreat Inn"
                                },
                                {
                                    "CompanyName": "Technical Parts Manufacturing"
                                },
                                {
                                    "CompanyName": "Totes & Baskets Company"
                                },
                                {
                                    "CompanyName": "World of Bikes"
                                }
                            ]
                        },
                        "text/html": "<table><tr><th>CompanyName</th></tr><tr><td>A Bike Store</td></tr><tr><td>Progressive Sports</td></tr><tr><td>Advanced Bike Components</td></tr><tr><td>Modular Cycle Systems</td></tr><tr><td>Metropolitan Sports Supply</td></tr><tr><td>Aerobic Exercise Company</td></tr><tr><td>Associated Bikes</td></tr><tr><td>Rural Cycle Emporium</td></tr><tr><td>Sharp Bikes</td></tr><tr><td>Bikes and Motorbikes</td></tr><tr><td>Bulk Discount Store</td></tr><tr><td>Catalog Store</td></tr><tr><td>Center Cycle Shop</td></tr><tr><td>Central Discount Store</td></tr><tr><td>Chic Department Stores</td></tr><tr><td>Travel Systems</td></tr><tr><td>Bike World</td></tr><tr><td>Eastside Department Store</td></tr><tr><td>Coalition Bike Company</td></tr><tr><td>Commuter Bicycle Store</td></tr><tr><td>Cross-Country Riding Supplies</td></tr><tr><td>Cycle Merchants</td></tr><tr><td>Cycles Wholesaler &amp; Mfg.</td></tr><tr><td>Two Bike Shops</td></tr><tr><td>Finer Mart</td></tr><tr><td>Fitness Hotel</td></tr><tr><td>Journey Sporting Goods</td></tr><tr><td>Distant Inn</td></tr><tr><td>Healthy Activity Store</td></tr><tr><td>Frugal Bike Shop</td></tr><tr><td>Gear-Shift Bikes Limited</td></tr><tr><td>Greater Bike Store</td></tr><tr><td>Grand Industries</td></tr><tr><td>Instruments and Parts Company</td></tr><tr><td>Kickstands and Accessories Company</td></tr><tr><td>Latest Accessories Sales</td></tr><tr><td>Leading Sales &amp; Repair</td></tr><tr><td>Largest Bike Store</td></tr><tr><td>Locks Company</td></tr><tr><td>Main Bicycle Services</td></tr><tr><td>Many Bikes Store</td></tr><tr><td>Metal Clearing House</td></tr><tr><td>Metro Manufacturing</td></tr><tr><td>Neighborhood Store</td></tr><tr><td>Outdoor Aerobic Systems Company</td></tr><tr><td>Outdoor Sports Supply</td></tr><tr><td>Parcel Express Delivery Service</td></tr><tr><td>Paint Supply</td></tr><tr><td>Out-of-the-Way Hotels</td></tr><tr><td>Mechanical Products Ltd.</td></tr><tr><td>Preferred Bikes</td></tr><tr><td>Reasonable Bicycle Sales</td></tr><tr><td>Refined Department Stores</td></tr><tr><td>Requisite Part Supply</td></tr><tr><td>Rewarding Activities Company</td></tr><tr><td>Closest Bicycle Store</td></tr><tr><td>Scooters and Bikes Store</td></tr><tr><td>Sports Commodities</td></tr><tr><td>Stationary Bikes and Stands</td></tr><tr><td>Specialty Sports Store</td></tr><tr><td>Rural Department Store</td></tr><tr><td>More Bikes!</td></tr><tr><td>Mountain Bike Center</td></tr><tr><td>Up-To-Date Sports</td></tr><tr><td>Urban Sports Emporium</td></tr><tr><td>National Manufacturing</td></tr><tr><td>West Side Mart</td></tr><tr><td>Travel Sports</td></tr><tr><td>Vintage Sport Boutique</td></tr><tr><td>Westside Cycle Store</td></tr><tr><td>Town Industries</td></tr><tr><td>Trendy Department Stores</td></tr><tr><td>Two Wheels Cycle Store</td></tr><tr><td>Security Racks and Locks Wholesalers</td></tr><tr><td>Rapid Bikes</td></tr><tr><td>Red Bicycle Company</td></tr><tr><td>Machines &amp; Cycles Store</td></tr><tr><td>Nearby Sporting Goods</td></tr><tr><td>Front Sporting Goods</td></tr><tr><td>Demand Distributors</td></tr><tr><td>Discount Bicycle Specialists</td></tr><tr><td>Elite Bikes</td></tr><tr><td>Eighth Bike Store</td></tr><tr><td>Another Sporting Goods Company</td></tr><tr><td>Commercial Sporting Goods</td></tr><tr><td>Wholesale Parts</td></tr><tr><td>Transportation Options</td></tr><tr><td>South Bike Company</td></tr><tr><td>Riding Cycles</td></tr><tr><td>Raw Materials Inc</td></tr><tr><td>Latest Sports Equipment</td></tr><tr><td>Local Hardware Factory</td></tr><tr><td>Lots of Bikes Storehouse</td></tr><tr><td>Initial Bike Company</td></tr><tr><td>Fleet Bikes</td></tr><tr><td>Futuristic Bikes</td></tr><tr><td>Camping and Sports Store</td></tr><tr><td>Corner Bicycle Supply</td></tr><tr><td>Metal Processing Company</td></tr><tr><td>Vigorous Sports Store</td></tr><tr><td>Sports Merchandise</td></tr><tr><td>Suburban Cycle Shop</td></tr><tr><td>Third Bike Store</td></tr><tr><td>Fitness Toy Store</td></tr><tr><td>Farthermost Bike Shop</td></tr><tr><td>Economy Bikes Company</td></tr><tr><td>Downtown Hotel</td></tr><tr><td>Certified Sports Supply</td></tr><tr><td>Sundry Sporting Goods</td></tr><tr><td>Toy Manufacturing Inc</td></tr><tr><td>Rampart Amusement Company</td></tr><tr><td>Full-Service Bike Store</td></tr><tr><td>Family Entertainment Center</td></tr><tr><td>Another Bicycle Company</td></tr><tr><td>This Area Sporting Goods</td></tr><tr><td>Go-cart and Bike Specialists</td></tr><tr><td>Weekend Bike Tours</td></tr><tr><td>Thrilling Bike Tours</td></tr><tr><td>Trailblazing Sports</td></tr><tr><td>Racing Partners</td></tr><tr><td>Non-Slip Pedal Company</td></tr><tr><td>Nuts and Bolts Mfg.</td></tr><tr><td>Exhibition Showroom</td></tr><tr><td>Fabrikam Inc., West</td></tr><tr><td>Field Trip Inc</td></tr><tr><td>Authorized Bike Sales and Rental</td></tr><tr><td>Basic Bike Company</td></tr><tr><td>Unsurpassed Bikes</td></tr><tr><td>Two-Seater Bikes</td></tr><tr><td>Separate Parts Corporation</td></tr><tr><td>Traction Tire Company</td></tr><tr><td>Rally Master Company Inc</td></tr><tr><td>Professional Cyclists</td></tr><tr><td>Purple Bicycle Company</td></tr><tr><td>Gasless Cycle Shop</td></tr><tr><td>Exclusive Bicycle Mart</td></tr><tr><td>City Manufacturing</td></tr><tr><td>Sure &amp; Reliable Sporting Goods</td></tr><tr><td>Extras Sporting Goods</td></tr><tr><td>Best o&#39; Bikes</td></tr><tr><td>Bike Dealers Association</td></tr><tr><td>Sample Bike Store</td></tr><tr><td>Paints and Solvents Company</td></tr><tr><td>Leisure Activities</td></tr><tr><td>Health Spa, Limited</td></tr><tr><td>Home Town Bike Store</td></tr><tr><td>Exceptional Cycle Services</td></tr><tr><td>Certified Bicycle Supply</td></tr><tr><td>Closeout Boutique</td></tr><tr><td>Client Discount Store</td></tr><tr><td>A Great Bicycle Company</td></tr><tr><td>Bicycle Merchandise Warehouse</td></tr><tr><td>Wire Baskets and Parts</td></tr><tr><td>Vale Riding Supplies</td></tr><tr><td>Retail Discount Store</td></tr><tr><td>Leather Seat Factory</td></tr><tr><td>Large Bike Shop</td></tr><tr><td>Express Bike Services</td></tr><tr><td>Roving Sports</td></tr><tr><td>Safe Cycles Shop</td></tr><tr><td>Swift Cycles</td></tr><tr><td>Rental Bikes</td></tr><tr><td>Number 1 Supply</td></tr><tr><td>Quantity Discounts</td></tr><tr><td>Highway Bike Shop</td></tr><tr><td>General Industries</td></tr><tr><td>Farthest Bike Store</td></tr><tr><td>Fasteners &amp; Bolts Outlet</td></tr><tr><td>Channel Outlet</td></tr><tr><td>Alternative Vehicles</td></tr><tr><td>Metro Cycle Shop</td></tr><tr><td>A Typical Bike Shop</td></tr><tr><td>Active Systems</td></tr><tr><td>Outdoor Sporting Goods</td></tr><tr><td>Thrifty Parts and Sales</td></tr><tr><td>The Bicycle Accessories Company</td></tr><tr><td>Standard Bikes</td></tr><tr><td>Petroleum Products Distributors</td></tr><tr><td>Quick Parts and Service</td></tr><tr><td>Number One Bike Co.</td></tr><tr><td>Handy Bike Services</td></tr><tr><td>Kickstand Sellers</td></tr><tr><td>Moderately-Priced Bikes Store</td></tr><tr><td>Friendly Bike Shop</td></tr><tr><td>Grand Bicycle Stores</td></tr><tr><td>Grease and Oil Products Company</td></tr><tr><td>Fashionable Bikes and Accessories</td></tr><tr><td>Flawless Bike Shop</td></tr><tr><td>Engineered Bike Systems</td></tr><tr><td>City Cycling</td></tr><tr><td>Citywide Service and Repair</td></tr><tr><td>Nice Bikes</td></tr><tr><td>Essential Bike Works</td></tr><tr><td>Work and Play Association</td></tr><tr><td>Riding Associates</td></tr><tr><td>Rugged Bikes</td></tr><tr><td>The Gear Store</td></tr><tr><td>Orange Bicycle Company</td></tr><tr><td>Principal Bike Company</td></tr><tr><td>Resale Services</td></tr><tr><td>Metropolitan Manufacturing</td></tr><tr><td>Low Price Cycles</td></tr><tr><td>Finer Riding Supplies</td></tr><tr><td>First-Rate Outlet</td></tr><tr><td>Tachometers and Accessories</td></tr><tr><td>Metro Bike Works</td></tr><tr><td>All Cycle Shop</td></tr><tr><td>Year-Round Sports</td></tr><tr><td>World of Bikes</td></tr><tr><td>Totes &amp; Baskets Company</td></tr><tr><td>Unicycles, Bicycles, and Tricycles</td></tr><tr><td>The New Bike Store</td></tr><tr><td>Technical Parts Manufacturing</td></tr><tr><td>Retreat Inn</td></tr><tr><td>Scratch-Resistant Finishes Company</td></tr><tr><td>Primary Bike Distributors</td></tr><tr><td>Nearby Cycle Shop</td></tr><tr><td>Mail-Order Outlet</td></tr><tr><td>Fifth Bike Store</td></tr><tr><td>Genial Bike Associates</td></tr><tr><td>Great Bicycle Supply</td></tr><tr><td>Bike Universe</td></tr><tr><td>Bold Bike Accessories</td></tr><tr><td>Exercise Center</td></tr><tr><td>Twelfth Bike Store</td></tr><tr><td>Two-Wheeled Transit Company</td></tr><tr><td>Serious Cycles</td></tr><tr><td>Mail Market</td></tr><tr><td>Novelty Bikes</td></tr><tr><td>Fitness Supplies</td></tr><tr><td>Grand Cycle Store</td></tr><tr><td>Immense Manufacturing Company</td></tr><tr><td>District Mall</td></tr><tr><td>Distinctive Store</td></tr><tr><td>Extended Bike Sales</td></tr><tr><td>Brown Bicycle Company</td></tr><tr><td>Acceptable Sales &amp; Service</td></tr><tr><td>Custom Sales and Service</td></tr><tr><td>Top Bike Market</td></tr><tr><td>Commerce Bicycle Specialists</td></tr><tr><td>Grand Sport Boutique</td></tr><tr><td>Fad Outlet</td></tr><tr><td>First Department Stores</td></tr><tr><td>Bicycle Lines Distributors</td></tr><tr><td>Beneficial Exercises and Activities</td></tr><tr><td>Vehicle Shop</td></tr><tr><td>Sparkling Paint and Finishes</td></tr><tr><td>Sturdy Toys</td></tr><tr><td>Road Way Sales and Rental</td></tr><tr><td>Sixth Bike Store</td></tr><tr><td>Plastic Parts Company</td></tr><tr><td>Little Sports Center</td></tr><tr><td>Online Bike Sellers</td></tr><tr><td>Capable Sales and Service</td></tr><tr><td>Commendable Bikes</td></tr><tr><td>Big Cycle Mall</td></tr><tr><td>Local Sales and Rental</td></tr><tr><td>Brightwork Company</td></tr><tr><td>Pro Sporting Goods</td></tr><tr><td>Affordable Sports Equipment</td></tr><tr><td>The Commissary</td></tr><tr><td>Workout Emporium</td></tr><tr><td>Odometers and Accessories Company</td></tr><tr><td>Leisure Clearing House</td></tr><tr><td>Imaginary Toys</td></tr><tr><td>Impromptu Trips</td></tr><tr><td>Genuine Bike Shop</td></tr><tr><td>Good Bike Shop</td></tr><tr><td>Exertion Activities Club</td></tr><tr><td>Extreme Riding Supplies</td></tr><tr><td>Fitness Cycling</td></tr><tr><td>Bikes for Two</td></tr><tr><td>Bikes for Kids and Adults</td></tr><tr><td>Custom Accessories Company</td></tr><tr><td>Uttermost Bike Shop</td></tr><tr><td>Small Cycle Store</td></tr><tr><td>Thorough Parts and Repair Services</td></tr><tr><td>Road-Way Mart</td></tr><tr><td>Satin Finish Company</td></tr><tr><td>Sheet Metal Manufacturing</td></tr><tr><td>Professional Cycle Store</td></tr><tr><td>Remarkable Bike Store</td></tr><tr><td>Regional Manufacturing</td></tr><tr><td>Original Bicycle Supply Company</td></tr><tr><td>Courteous Bicycle Specialists</td></tr><tr><td>Finer Cycle Shop</td></tr><tr><td>Action Bicycle Specialists</td></tr><tr><td>Roadway Bike Emporium</td></tr><tr><td>A Cycle Shop</td></tr><tr><td>Unique Bikes</td></tr><tr><td>Sleek Bikes </td></tr><tr><td>Timely Shipping Service</td></tr><tr><td>Riding Excursions</td></tr><tr><td>Retail Sporting Equipment</td></tr><tr><td>Price-Cutter Discount Bikes</td></tr><tr><td>Active Life Toys</td></tr><tr><td>General Riding Supplies</td></tr><tr><td>Central Bicycle Specialists</td></tr><tr><td>Blue Bicycle Company</td></tr><tr><td>Vast Bike Sales and Rental</td></tr><tr><td>Wingtip Toys</td></tr><tr><td>Social Activities Club</td></tr><tr><td>Summer Sports Place</td></tr><tr><td>Racing Toys</td></tr><tr><td>Retail Cycle Shop</td></tr><tr><td>Real Sporting Goods</td></tr><tr><td>Major Cycling</td></tr><tr><td>General Supplies</td></tr><tr><td>General Bike Corporation</td></tr><tr><td>Downhill Bicycle Specialists</td></tr><tr><td>Bike Experts</td></tr><tr><td>Bicycle Accessories and Kits</td></tr><tr><td>Cash &amp; Carry Bikes</td></tr><tr><td>Extraordinary Bike Works</td></tr><tr><td>Area Bike Accessories</td></tr><tr><td>Basic Sports Equipment</td></tr><tr><td>Valley Bicycle Distributors</td></tr><tr><td>Top Sports Supply</td></tr><tr><td>Valley Toy Store</td></tr><tr><td>Quick Delivery Service</td></tr><tr><td>Metropolitan Bicycle Supply</td></tr><tr><td>Historic Bicycle Sales</td></tr><tr><td>Honest Repair Service</td></tr><tr><td>Great Bikes </td></tr><tr><td>Global Sporting Goods</td></tr><tr><td>Designer Department Stores</td></tr><tr><td>Fun Toys and Bikes</td></tr><tr><td>World Bike Discount Store</td></tr><tr><td>Wheel Gallery</td></tr><tr><td>Retail Mall</td></tr><tr><td>Rural Bicycle Supply</td></tr><tr><td>Seats and Saddles Company</td></tr><tr><td>Metro Metals Co.</td></tr><tr><td>Futuristic Sport Distributors</td></tr><tr><td>Finer Sales and Service</td></tr><tr><td>Fun Times Club</td></tr><tr><td>Alpine Ski House</td></tr><tr><td>Big-Time Bike Store</td></tr><tr><td>The Showroom</td></tr><tr><td>Tenth Bike Store</td></tr><tr><td>Recommended Bicycles</td></tr><tr><td>Prosperous Tours</td></tr><tr><td>Nonskid Tire Company</td></tr><tr><td>Finer Parts Shop</td></tr><tr><td>Friendly Neighborhood Bikes</td></tr><tr><td>Valley Bicycle Specialists</td></tr><tr><td>Finish and Sealant Products</td></tr><tr><td>Field Trip Store</td></tr><tr><td>Curbside Sporting Goods</td></tr><tr><td>Remote Bicycle Specialists</td></tr><tr><td>Vinyl and Plastic Goods Corporation</td></tr><tr><td>Consolidated Messenger</td></tr><tr><td>Variety Cycling</td></tr><tr><td>Some Discount Store</td></tr><tr><td>Major Sport Suppliers</td></tr><tr><td>Mountain Toy Store</td></tr><tr><td>Practical Bike Supply Company</td></tr><tr><td>Systematic Sales</td></tr><tr><td>Imported and Domestic Cycles</td></tr><tr><td>Metallic Paint and Overcoat Co</td></tr><tr><td>Economy Center</td></tr><tr><td>Designated Distributors</td></tr><tr><td>Family&#39;s Favorite Bike Shop</td></tr><tr><td>Area Sheet Metal Supply</td></tr><tr><td>Synthetic Materials Manufacturing</td></tr><tr><td>The Bike Shop</td></tr><tr><td>Riders Company</td></tr><tr><td>Rural Sales and Service</td></tr><tr><td>Safe Toys</td></tr><tr><td>Professional Sales and Service</td></tr><tr><td>Professional Containers and Packaging Co.</td></tr><tr><td>One Bike Company</td></tr><tr><td>Our Sporting Goods Store</td></tr><tr><td>General Cycle Storehouse</td></tr><tr><td>Cycling Goods</td></tr><tr><td>Cycle Clearance</td></tr><tr><td>Coho Sports</td></tr><tr><td>All Seasons Sports Supply</td></tr><tr><td>Black Bicycle Company</td></tr><tr><td>Westside Plaza</td></tr><tr><td>Strenuous Exercise Shop</td></tr><tr><td>Transport Bikes</td></tr><tr><td>Sellers of Cycles</td></tr><tr><td>Outstanding Cycles</td></tr><tr><td>Little Bicycle Supply Shop</td></tr><tr><td>Maintenance and Repair for Bicycles</td></tr><tr><td>Golf and Cycle Store</td></tr><tr><td>Good Toys</td></tr><tr><td>Fitness Department Stores</td></tr><tr><td>Famous Bike Shop</td></tr><tr><td>Tubeless Tire Company</td></tr><tr><td>Tires and Tubes</td></tr><tr><td>Running and Cycling Gear</td></tr><tr><td>Gift and Toy Store</td></tr><tr><td>Hardware Components</td></tr><tr><td>First Cycle Store</td></tr><tr><td>Major Sporting Goods</td></tr><tr><td>Retail Sporting Goods</td></tr><tr><td>Efficient Cycling</td></tr><tr><td>Eastside Parts Shop</td></tr><tr><td>Tandem Sales and Service</td></tr><tr><td>Sports Store</td></tr><tr><td>Reliable Retail Center</td></tr><tr><td>Extended Tours</td></tr><tr><td>Friendly Bike Shop</td></tr><tr><td>Convenient Sales and Service</td></tr><tr><td>Superior Hardware Distributors</td></tr><tr><td>Yellow Bicycle Company</td></tr><tr><td>Solid Bike Parts</td></tr><tr><td>Small Bike Shop</td></tr><tr><td>Sports Products Store</td></tr><tr><td>Permanent Finish Products</td></tr><tr><td>Mercantile Outlet</td></tr><tr><td>Online Bike Warehouse</td></tr><tr><td>Operational Manufacturing</td></tr><tr><td>Shipping Specialists</td></tr><tr><td>Exhilarating Cycles</td></tr><tr><td>General Department Stores</td></tr><tr><td>Authentic Sales and Service</td></tr><tr><td>Official Parts Shop</td></tr><tr><td>Racing Bike Outlet</td></tr><tr><td>First Bike Store</td></tr><tr><td>Contoso, Ltd.</td></tr><tr><td>Utilitarian Sporting Goods</td></tr><tr><td>Countryside Company</td></tr><tr><td>Discount Tours</td></tr><tr><td>Tire Exchange</td></tr><tr><td>Vigorous Exercise Company</td></tr><tr><td>Superb Sales and Repair</td></tr><tr><td>Oils and Fluids Warehouse</td></tr><tr><td>Family Cycle Store</td></tr><tr><td>Consumer Equipment</td></tr><tr><td>Successful Sales Company</td></tr><tr><td>Stock Parts and Supplies</td></tr><tr><td>The Accessories Store</td></tr><tr><td>Responsible Bike Dealers</td></tr><tr><td>Roadway Supplies</td></tr><tr><td>Brakes and Gears</td></tr><tr><td>Western Bike Supplies</td></tr><tr><td>Future Bikes</td></tr><tr><td>Professional Sales and Service</td></tr><tr><td>Riders Company</td></tr><tr><td>Area Bike Accessories</td></tr><tr><td>Bicycle Accessories and Kits</td></tr><tr><td>Valley Bicycle Specialists</td></tr><tr><td>Vinyl and Plastic Goods Corporation</td></tr><tr><td>Fun Toys and Bikes</td></tr><tr><td>Great Bikes </td></tr><tr><td>Valley Toy Store</td></tr><tr><td>Major Sport Suppliers</td></tr><tr><td>Family&#39;s Favorite Bike Shop</td></tr><tr><td>Imported and Domestic Cycles</td></tr><tr><td>Systematic Sales</td></tr><tr><td>Mountain Toy Store</td></tr><tr><td>Designated Distributors</td></tr><tr><td>Bold Bike Accessories</td></tr><tr><td>Serious Cycles</td></tr><tr><td>Novelty Bikes</td></tr><tr><td>Brightwork Company</td></tr><tr><td>Resale Services</td></tr><tr><td>The Gear Store</td></tr><tr><td>Immense Manufacturing Company</td></tr><tr><td>Extended Bike Sales</td></tr><tr><td>Workout Emporium</td></tr><tr><td>Work and Play Association</td></tr><tr><td>Nice Bikes</td></tr><tr><td>Remarkable Bike Store</td></tr><tr><td>Road-Way Mart</td></tr><tr><td>Small Cycle Store</td></tr><tr><td>Grand Bicycle Stores</td></tr><tr><td>Kickstand Sellers</td></tr><tr><td>Gasless Cycle Shop</td></tr><tr><td>Transportation Options</td></tr><tr><td>Finer Cycle Shop</td></tr><tr><td>Center Cycle Shop</td></tr><tr><td>Bulk Discount Store</td></tr><tr><td>First-Rate Outlet</td></tr><tr><td>Another Bicycle Company</td></tr><tr><td>Unsurpassed Bikes</td></tr><tr><td>Field Trip Inc</td></tr><tr><td>Odometers and Accessories Company</td></tr><tr><td>Scratch-Resistant Finishes Company</td></tr><tr><td>Safe Cycles Shop</td></tr><tr><td>Number 1 Supply</td></tr><tr><td>Golf and Cycle Store</td></tr><tr><td>World Bike Discount Store</td></tr><tr><td>Historic Bicycle Sales</td></tr><tr><td>Commuter Bicycle Store</td></tr><tr><td>Coalition Bike Company</td></tr><tr><td>Travel Systems</td></tr><tr><td>Grease and Oil Products Company</td></tr><tr><td>Moderately-Priced Bikes Store</td></tr><tr><td>Economy Bikes Company</td></tr><tr><td>Third Bike Store</td></tr><tr><td>Bikes for Two</td></tr><tr><td>Metal Processing Company</td></tr><tr><td>Initial Bike Company</td></tr><tr><td>Latest Sports Equipment</td></tr><tr><td>Raw Materials Inc</td></tr><tr><td>Lots of Bikes Storehouse</td></tr><tr><td>Futuristic Bikes</td></tr><tr><td>Parcel Express Delivery Service</td></tr><tr><td>Prosperous Tours</td></tr><tr><td>Nonskid Tire Company</td></tr><tr><td>Metro Bike Works</td></tr><tr><td>Best o&#39; Bikes</td></tr><tr><td>Client Discount Store</td></tr><tr><td>Requisite Part Supply</td></tr><tr><td>Mechanical Products Ltd.</td></tr><tr><td>Commendable Bikes</td></tr><tr><td>Online Bike Sellers</td></tr><tr><td>Custom Accessories Company</td></tr><tr><td>Courteous Bicycle Specialists</td></tr><tr><td>Professional Cycle Store</td></tr><tr><td>Fifth Bike Store</td></tr><tr><td>Farthest Bike Store</td></tr><tr><td>Alternative Vehicles</td></tr><tr><td>Channel Outlet</td></tr><tr><td>Retail Mall</td></tr><tr><td>Metro Metals Co.</td></tr><tr><td>Sheet Metal Manufacturing</td></tr><tr><td>Thorough Parts and Repair Services</td></tr><tr><td>Uttermost Bike Shop</td></tr><tr><td>Two-Wheeled Transit Company</td></tr><tr><td>Metro Cycle Shop</td></tr><tr><td>Outdoor Sporting Goods</td></tr><tr><td>Petroleum Products Distributors</td></tr><tr><td>Bikes and Motorbikes</td></tr><tr><td>Camping and Sports Store</td></tr><tr><td>Rural Department Store</td></tr><tr><td>Sports Commodities</td></tr><tr><td>Responsible Bike Dealers</td></tr><tr><td>Western Bike Supplies</td></tr><tr><td>Advanced Bike Components</td></tr><tr><td>Aerobic Exercise Company</td></tr><tr><td>Corner Bicycle Supply</td></tr><tr><td>Westside Plaza</td></tr><tr><td>Outstanding Cycles</td></tr><tr><td>Vigorous Sports Store</td></tr><tr><td>Sports Merchandise</td></tr><tr><td>Fitness Toy Store</td></tr><tr><td>General Cycle Storehouse</td></tr><tr><td>Fitness Cycling</td></tr><tr><td>Good Bike Shop</td></tr><tr><td>Thrilling Bike Tours</td></tr><tr><td>This Area Sporting Goods</td></tr><tr><td>Full-Service Bike Store</td></tr><tr><td>Genuine Bike Shop</td></tr><tr><td>Extreme Riding Supplies</td></tr><tr><td>Fleet Bikes</td></tr><tr><td>Local Hardware Factory</td></tr><tr><td>South Bike Company</td></tr><tr><td>Discount Bicycle Specialists</td></tr><tr><td>Machines &amp; Cycles Store</td></tr><tr><td>Two Wheels Cycle Store</td></tr><tr><td>Westside Cycle Store</td></tr><tr><td>Urban Sports Emporium</td></tr><tr><td>Sixth Bike Store</td></tr><tr><td>Vehicle Shop</td></tr><tr><td>First Department Stores</td></tr><tr><td>Grand Sport Boutique</td></tr><tr><td>Distinctive Store</td></tr><tr><td>Handy Bike Services</td></tr><tr><td>Friendly Bike Shop</td></tr><tr><td>Fashionable Bikes and Accessories</td></tr><tr><td>Citywide Service and Repair</td></tr><tr><td>Rugged Bikes</td></tr><tr><td>Principal Bike Company</td></tr><tr><td>Finer Riding Supplies</td></tr><tr><td>Neighborhood Store</td></tr><tr><td>Paint Supply</td></tr><tr><td>Preferred Bikes</td></tr><tr><td>Rewarding Activities Company</td></tr><tr><td>Stationary Bikes and Stands</td></tr><tr><td>Successful Sales Company</td></tr><tr><td>Downtown Hotel</td></tr><tr><td>Certified Sports Supply</td></tr><tr><td>Rampart Amusement Company</td></tr><tr><td>Sundry Sporting Goods</td></tr><tr><td>Farthermost Bike Shop</td></tr><tr><td>Suburban Cycle Shop</td></tr><tr><td>Racing Bike Outlet</td></tr><tr><td>Utilitarian Sporting Goods</td></tr><tr><td>Vigorous Exercise Company</td></tr><tr><td>Stock Parts and Supplies</td></tr><tr><td>Roadway Supplies</td></tr><tr><td>Future Bikes</td></tr><tr><td>Satin Finish Company</td></tr><tr><td>Regional Manufacturing</td></tr><tr><td>Original Bicycle Supply Company</td></tr><tr><td>Action Bicycle Specialists</td></tr><tr><td>Roadway Bike Emporium</td></tr><tr><td>Sleek Bikes </td></tr><tr><td>Retail Sporting Equipment</td></tr><tr><td>Price-Cutter Discount Bikes</td></tr><tr><td>Central Bicycle Specialists</td></tr><tr><td>Vast Bike Sales and Rental</td></tr><tr><td>Summer Sports Place</td></tr><tr><td>Real Sporting Goods</td></tr><tr><td>The Bike Shop</td></tr><tr><td>Safe Toys</td></tr><tr><td>Our Sporting Goods Store</td></tr><tr><td>Coho Sports</td></tr><tr><td>Quick Delivery Service</td></tr><tr><td>Basic Sports Equipment</td></tr><tr><td>Cash &amp; Carry Bikes</td></tr><tr><td>General Bike Corporation</td></tr><tr><td>Retail Cycle Shop</td></tr><tr><td>Social Activities Club</td></tr><tr><td>Blue Bicycle Company</td></tr><tr><td>General Riding Supplies</td></tr><tr><td>Riding Excursions</td></tr><tr><td>Unique Bikes</td></tr><tr><td>Rural Cycle Emporium</td></tr><tr><td>Associated Bikes</td></tr><tr><td>Modular Cycle Systems</td></tr><tr><td>A Bike Store</td></tr><tr><td>Journey Sporting Goods</td></tr><tr><td>Two Bike Shops</td></tr><tr><td>Cycles Wholesaler &amp; Mfg.</td></tr><tr><td>Number One Bike Co.</td></tr><tr><td>Standard Bikes</td></tr><tr><td>The Bicycle Accessories Company</td></tr><tr><td>Active Systems</td></tr><tr><td>Futuristic Sport Distributors</td></tr><tr><td>Big-Time Bike Store</td></tr><tr><td>The Showroom</td></tr><tr><td>Year-Round Sports</td></tr><tr><td>The New Bike Store</td></tr><tr><td>Primary Bike Distributors</td></tr><tr><td>Genial Bike Associates</td></tr><tr><td>Commercial Sporting Goods</td></tr><tr><td>Wholesale Parts</td></tr><tr><td>Riding Cycles</td></tr><tr><td>Metro Manufacturing</td></tr><tr><td>Locks Company</td></tr><tr><td>Latest Accessories Sales</td></tr><tr><td>Greater Bike Store</td></tr><tr><td>Distant Inn</td></tr><tr><td>Finer Mart</td></tr><tr><td>Cross-Country Riding Supplies</td></tr><tr><td>Bike World</td></tr><tr><td>Central Discount Store</td></tr><tr><td>Sharp Bikes</td></tr><tr><td>Metropolitan Sports Supply</td></tr><tr><td>Progressive Sports</td></tr><tr><td>Brakes and Gears</td></tr><tr><td>The Accessories Store</td></tr><tr><td>Family Cycle Store</td></tr><tr><td>Superb Sales and Repair</td></tr><tr><td>Countryside Company</td></tr><tr><td>First Bike Store</td></tr><tr><td>General Department Stores</td></tr><tr><td>Operational Manufacturing</td></tr><tr><td>Online Bike Warehouse</td></tr><tr><td>Small Bike Shop</td></tr><tr><td>Superior Hardware Distributors</td></tr><tr><td>Eastside Parts Shop</td></tr><tr><td>First Cycle Store</td></tr><tr><td>Running and Cycling Gear</td></tr><tr><td>Good Toys</td></tr><tr><td>Little Bicycle Supply Shop</td></tr><tr><td>All Seasons Sports Supply</td></tr><tr><td>Leisure Clearing House</td></tr><tr><td>The Commissary</td></tr><tr><td>Affordable Sports Equipment</td></tr><tr><td>Local Sales and Rental</td></tr><tr><td>Economy Center</td></tr><tr><td>Area Sheet Metal Supply</td></tr><tr><td>Synthetic Materials Manufacturing</td></tr><tr><td>Rural Sales and Service</td></tr><tr><td>Tubeless Tire Company</td></tr><tr><td>Hardware Components</td></tr><tr><td>Retail Sporting Goods</td></tr><tr><td>Efficient Cycling</td></tr><tr><td>General Industries</td></tr><tr><td>Highway Bike Shop</td></tr><tr><td>Rental Bikes</td></tr><tr><td>Roving Sports</td></tr><tr><td>Express Bike Services</td></tr><tr><td>Retail Discount Store</td></tr><tr><td>Vale Riding Supplies</td></tr><tr><td>A Great Bicycle Company</td></tr><tr><td>Certified Bicycle Supply</td></tr><tr><td>Exceptional Cycle Services</td></tr><tr><td>Leisure Activities</td></tr><tr><td>Paints and Solvents Company</td></tr><tr><td>Bikes for Kids and Adults</td></tr><tr><td>Home Town Bike Store</td></tr><tr><td>Sample Bike Store</td></tr><tr><td>Extras Sporting Goods</td></tr><tr><td>Sure &amp; Reliable Sporting Goods</td></tr><tr><td>Separate Parts Corporation</td></tr><tr><td>Basic Bike Company</td></tr><tr><td>Fabrikam Inc., West</td></tr><tr><td>Non-Slip Pedal Company</td></tr><tr><td>Weekend Bike Tours</td></tr><tr><td>General Supplies</td></tr><tr><td>Racing Toys</td></tr><tr><td>Capable Sales and Service</td></tr><tr><td>Road Way Sales and Rental</td></tr><tr><td>Sturdy Toys</td></tr><tr><td>Beneficial Exercises and Activities</td></tr><tr><td>Fad Outlet</td></tr><tr><td>Commerce Bicycle Specialists</td></tr><tr><td>Acceptable Sales &amp; Service</td></tr><tr><td>District Mall</td></tr><tr><td>Fitness Supplies</td></tr><tr><td>Mail Market</td></tr><tr><td>Twelfth Bike Store</td></tr><tr><td>Consolidated Messenger</td></tr><tr><td>Field Trip Store</td></tr><tr><td>Finish and Sealant Products</td></tr><tr><td>Finer Parts Shop</td></tr><tr><td>Up-To-Date Sports</td></tr><tr><td>Mountain Bike Center</td></tr><tr><td>Specialty Sports Store</td></tr><tr><td>Scooters and Bikes Store</td></tr><tr><td>Closest Bicycle Store</td></tr><tr><td>Reasonable Bicycle Sales</td></tr><tr><td>Outdoor Sports Supply</td></tr><tr><td>Outdoor Aerobic Systems Company</td></tr><tr><td>Metal Clearing House</td></tr><tr><td>Many Bikes Store</td></tr><tr><td>Largest Bike Store</td></tr><tr><td>Kickstands and Accessories Company</td></tr><tr><td>Instruments and Parts Company</td></tr><tr><td>Gear-Shift Bikes Limited</td></tr><tr><td>Frugal Bike Shop</td></tr><tr><td>Family Entertainment Center</td></tr><tr><td>Go-cart and Bike Specialists</td></tr><tr><td>Trailblazing Sports</td></tr><tr><td>Racing Partners</td></tr><tr><td>Exhibition Showroom</td></tr><tr><td>Authorized Bike Sales and Rental</td></tr><tr><td>Two-Seater Bikes</td></tr><tr><td>More Bikes!</td></tr><tr><td>National Manufacturing</td></tr><tr><td>Town Industries</td></tr><tr><td>Security Racks and Locks Wholesalers</td></tr><tr><td>Rapid Bikes</td></tr><tr><td>Nearby Sporting Goods</td></tr><tr><td>Front Sporting Goods</td></tr><tr><td>Elite Bikes</td></tr><tr><td>Catalog Store</td></tr><tr><td>Chic Department Stores</td></tr><tr><td>Eastside Department Store</td></tr><tr><td>Cycle Merchants</td></tr><tr><td>Fitness Hotel</td></tr><tr><td>Grand Industries</td></tr><tr><td>Leading Sales &amp; Repair</td></tr><tr><td>Tandem Sales and Service</td></tr><tr><td>Reliable Retail Center</td></tr><tr><td>Friendly Bike Shop</td></tr><tr><td>Yellow Bicycle Company</td></tr><tr><td>Sports Products Store</td></tr><tr><td>Shipping Specialists</td></tr><tr><td>Authentic Sales and Service</td></tr><tr><td>Official Parts Shop</td></tr><tr><td>Discount Tours</td></tr><tr><td>Tire Exchange</td></tr><tr><td>Oils and Fluids Warehouse</td></tr><tr><td>Rally Master Company Inc</td></tr><tr><td>Professional Cyclists</td></tr><tr><td>Exclusive Bicycle Mart</td></tr><tr><td>City Manufacturing</td></tr><tr><td>Bike Dealers Association</td></tr><tr><td>Health Spa, Limited</td></tr><tr><td>Closeout Boutique</td></tr><tr><td>Bicycle Merchandise Warehouse</td></tr><tr><td>Leather Seat Factory</td></tr><tr><td>Practical Bike Supply Company</td></tr><tr><td>Some Discount Store</td></tr><tr><td>Variety Cycling</td></tr><tr><td>Remote Bicycle Specialists</td></tr><tr><td>Friendly Neighborhood Bikes</td></tr><tr><td>Recommended Bicycles</td></tr><tr><td>Alpine Ski House</td></tr><tr><td>Seats and Saddles Company</td></tr><tr><td>All Cycle Shop</td></tr><tr><td>Tachometers and Accessories</td></tr><tr><td>Low Price Cycles</td></tr><tr><td>Metropolitan Manufacturing</td></tr><tr><td>Orange Bicycle Company</td></tr><tr><td>Riding Associates</td></tr><tr><td>Essential Bike Works</td></tr><tr><td>Engineered Bike Systems</td></tr><tr><td>Engineered Bike Systemsingsnyesale�</td></tr><tr><td>One Bike Company</td></tr><tr><td>Cycling Goods</td></tr><tr><td>Cycle Clearance</td></tr><tr><td>Black Bicycle Company</td></tr><tr><td>Transport Bikes</td></tr><tr><td>Sellers of Cycles</td></tr><tr><td>Maintenance and Repair for Bicycles</td></tr><tr><td>Fitness Department Stores</td></tr><tr><td>Famous Bike Shop</td></tr><tr><td>Gift and Toy Store</td></tr><tr><td>Major Sporting Goods</td></tr><tr><td>Major Cycling</td></tr><tr><td>Downhill Bicycle Specialists</td></tr><tr><td>Bike Experts</td></tr><tr><td>Extraordinary Bike Works</td></tr><tr><td>Valley Bicycle Distributors</td></tr><tr><td>Top Sports Supply</td></tr><tr><td>Metropolitan Bicycle Supply</td></tr><tr><td>Honest Repair Service</td></tr><tr><td>Wheel Gallery</td></tr><tr><td>Top Bike Market</td></tr><tr><td>Bicycle Lines Distributors</td></tr><tr><td>Sparkling Paint and Finishes</td></tr><tr><td>Plastic Parts Company</td></tr><tr><td>Big Cycle Mall</td></tr><tr><td>Eighth Bike Store</td></tr><tr><td>Demand Distributors</td></tr><tr><td>Red Bicycle Company</td></tr><tr><td>Trendy Department Stores</td></tr><tr><td>Vintage Sport Boutique</td></tr><tr><td>Travel Sports</td></tr><tr><td>West Side Mart</td></tr><tr><td>Tenth Bike Store</td></tr><tr><td>Fun Times Club</td></tr><tr><td>Wingtip Toys</td></tr><tr><td>Active Life Toys</td></tr><tr><td>Quick Parts and Service</td></tr><tr><td>Thrifty Parts and Sales</td></tr><tr><td>A Typical Bike Shop</td></tr><tr><td>Fasteners &amp; Bolts Outlet</td></tr><tr><td>Quantity Discounts</td></tr><tr><td>Swift Cycles</td></tr><tr><td>Large Bike Shop</td></tr><tr><td>Wire Baskets and Parts</td></tr><tr><td>Sports Store</td></tr><tr><td>Extended Tours</td></tr><tr><td>Convenient Sales and Service</td></tr><tr><td>Solid Bike Parts</td></tr><tr><td>Permanent Finish Products</td></tr><tr><td>Mercantile Outlet</td></tr><tr><td>Exhilarating Cycles</td></tr><tr><td>Exercise Center</td></tr><tr><td>Great Bicycle Supply</td></tr><tr><td>Mail-Order Outlet</td></tr><tr><td>Nearby Cycle Shop</td></tr><tr><td>Retreat Inn</td></tr><tr><td>Technical Parts Manufacturing</td></tr><tr><td>Totes &amp; Baskets Company</td></tr><tr><td>World of Bikes</td></tr></table>"
                    },
                    "metadata": {}
                }
            ],
            "execution_count": 25
        },
        {
            "cell_type": "code",
            "source": [
                "SELECT pcat.Name AS ParentCategory, cat.Name AS SubCategory,SUM(od.OrderQty) as OrderQty\r\n",
                "FROM SalesLT.ProductCategory AS pcat\r\n",
                "LEFT JOIN SalesLT.ProductCategory cat\r\n",
                "    ON pcat.ProductCategoryID = cat.ParentProductCategoryID\r\n",
                "LEFT JOIN SalesLT.Product p ON p.ProductCategoryID = cat.ProductCategoryID\r\n",
                "JOIN SalesLT.SalesOrderDetail od ON p.ProductID = od.ProductID\r\n",
                "Group By rollup(pcat.Name,cat.Name)\r\n",
                "ORDER BY ParentCategory, SubCategory;"
            ],
            "metadata": {
                "language": "sql",
                "azdata_cell_guid": "ae21bb6d-0f7c-43e1-9b58-1abd44e687f1"
            },
            "outputs": [],
            "execution_count": null
        },
        {
            "cell_type": "code",
            "source": [
                "SELECT p.Color,p.[Size], sum(od.OrderQty) as Qty\r\n",
                "From SalesLT.Product p join SalesLT.SalesOrderDetail od on p.ProductID=od.ProductID\r\n",
                "Where Color IS NOT Null AND SIZE is NOT NULL\r\n",
                "Group by CUBE( p.Color, p.[Size])\r\n",
                ""
            ],
            "metadata": {
                "language": "sql",
                "azdata_cell_guid": "2851c342-b54b-4f68-84d7-be13cc64962f",
                "tags": []
            },
            "outputs": [
                {
                    "output_type": "display_data",
                    "data": {
                        "text/html": "(75 rows affected)"
                    },
                    "metadata": {}
                },
                {
                    "output_type": "display_data",
                    "data": {
                        "text/html": "Total execution time: 00:00:00.016"
                    },
                    "metadata": {}
                },
                {
                    "output_type": "execute_result",
                    "execution_count": 43,
                    "data": {
                        "application/vnd.dataresource+json": {
                            "schema": {
                                "fields": [
                                    {
                                        "name": "Color"
                                    },
                                    {
                                        "name": "Size"
                                    },
                                    {
                                        "name": "Qty"
                                    }
                                ]
                            },
                            "data": [
                                {
                                    "Color": "Black",
                                    "Size": "38",
                                    "Qty": "33"
                                },
                                {
                                    "Color": "Silver",
                                    "Size": "38",
                                    "Qty": "31"
                                },
                                {
                                    "Color": "Yellow",
                                    "Size": "38",
                                    "Qty": "23"
                                },
                                {
                                    "Color": "NULL",
                                    "Size": "38",
                                    "Qty": "87"
                                },
                                {
                                    "Color": "Black",
                                    "Size": "40",
                                    "Qty": "3"
                                },
                                {
                                    "Color": "Silver",
                                    "Size": "40",
                                    "Qty": "41"
                                },
                                {
                                    "Color": "Yellow",
                                    "Size": "40",
                                    "Qty": "28"
                                },
                                {
                                    "Color": "NULL",
                                    "Size": "40",
                                    "Qty": "72"
                                },
                                {
                                    "Color": "Black",
                                    "Size": "42",
                                    "Qty": "51"
                                },
                                {
                                    "Color": "Silver",
                                    "Size": "42",
                                    "Qty": "57"
                                },
                                {
                                    "Color": "Yellow",
                                    "Size": "42",
                                    "Qty": "24"
                                },
                                {
                                    "Color": "NULL",
                                    "Size": "42",
                                    "Qty": "132"
                                },
                                {
                                    "Color": "Black",
                                    "Size": "44",
                                    "Qty": "38"
                                },
                                {
                                    "Color": "Blue",
                                    "Size": "44",
                                    "Qty": "5"
                                },
                                {
                                    "Color": "Red",
                                    "Size": "44",
                                    "Qty": "3"
                                },
                                {
                                    "Color": "Silver",
                                    "Size": "44",
                                    "Qty": "13"
                                },
                                {
                                    "Color": "Yellow",
                                    "Size": "44",
                                    "Qty": "41"
                                },
                                {
                                    "Color": "NULL",
                                    "Size": "44",
                                    "Qty": "100"
                                },
                                {
                                    "Color": "Black",
                                    "Size": "46",
                                    "Qty": "14"
                                },
                                {
                                    "Color": "Blue",
                                    "Size": "46",
                                    "Qty": "21"
                                },
                                {
                                    "Color": "Silver",
                                    "Size": "46",
                                    "Qty": "32"
                                },
                                {
                                    "Color": "Yellow",
                                    "Size": "46",
                                    "Qty": "12"
                                },
                                {
                                    "Color": "NULL",
                                    "Size": "46",
                                    "Qty": "79"
                                },
                                {
                                    "Color": "Black",
                                    "Size": "48",
                                    "Qty": "49"
                                },
                                {
                                    "Color": "Silver",
                                    "Size": "48",
                                    "Qty": "6"
                                },
                                {
                                    "Color": "Yellow",
                                    "Size": "48",
                                    "Qty": "62"
                                },
                                {
                                    "Color": "NULL",
                                    "Size": "48",
                                    "Qty": "117"
                                },
                                {
                                    "Color": "Blue",
                                    "Size": "50",
                                    "Qty": "51"
                                },
                                {
                                    "Color": "Yellow",
                                    "Size": "50",
                                    "Qty": "16"
                                },
                                {
                                    "Color": "NULL",
                                    "Size": "50",
                                    "Qty": "67"
                                },
                                {
                                    "Color": "Black",
                                    "Size": "52",
                                    "Qty": "38"
                                },
                                {
                                    "Color": "Silver",
                                    "Size": "52",
                                    "Qty": "20"
                                },
                                {
                                    "Color": "NULL",
                                    "Size": "52",
                                    "Qty": "58"
                                },
                                {
                                    "Color": "Blue",
                                    "Size": "54",
                                    "Qty": "49"
                                },
                                {
                                    "Color": "Yellow",
                                    "Size": "54",
                                    "Qty": "15"
                                },
                                {
                                    "Color": "NULL",
                                    "Size": "54",
                                    "Qty": "64"
                                },
                                {
                                    "Color": "Black",
                                    "Size": "58",
                                    "Qty": "27"
                                },
                                {
                                    "Color": "Blue",
                                    "Size": "58",
                                    "Qty": "6"
                                },
                                {
                                    "Color": "Red",
                                    "Size": "58",
                                    "Qty": "3"
                                },
                                {
                                    "Color": "Yellow",
                                    "Size": "58",
                                    "Qty": "3"
                                },
                                {
                                    "Color": "NULL",
                                    "Size": "58",
                                    "Qty": "39"
                                },
                                {
                                    "Color": "Blue",
                                    "Size": "60",
                                    "Qty": "39"
                                },
                                {
                                    "Color": "Yellow",
                                    "Size": "60",
                                    "Qty": "29"
                                },
                                {
                                    "Color": "NULL",
                                    "Size": "60",
                                    "Qty": "68"
                                },
                                {
                                    "Color": "Blue",
                                    "Size": "62",
                                    "Qty": "3"
                                },
                                {
                                    "Color": "Red",
                                    "Size": "62",
                                    "Qty": "3"
                                },
                                {
                                    "Color": "Yellow",
                                    "Size": "62",
                                    "Qty": "21"
                                },
                                {
                                    "Color": "NULL",
                                    "Size": "62",
                                    "Qty": "27"
                                },
                                {
                                    "Color": "Silver",
                                    "Size": "70",
                                    "Qty": "50"
                                },
                                {
                                    "Color": "NULL",
                                    "Size": "70",
                                    "Qty": "50"
                                },
                                {
                                    "Color": "Black",
                                    "Size": "L",
                                    "Qty": "46"
                                },
                                {
                                    "Color": "Multi",
                                    "Size": "L",
                                    "Qty": "51"
                                },
                                {
                                    "Color": "White",
                                    "Size": "L",
                                    "Qty": "51"
                                },
                                {
                                    "Color": "Yellow",
                                    "Size": "L",
                                    "Qty": "51"
                                },
                                {
                                    "Color": "NULL",
                                    "Size": "L",
                                    "Qty": "199"
                                },
                                {
                                    "Color": "Black",
                                    "Size": "M",
                                    "Qty": "31"
                                },
                                {
                                    "Color": "Blue",
                                    "Size": "M",
                                    "Qty": "34"
                                },
                                {
                                    "Color": "Multi",
                                    "Size": "M",
                                    "Qty": "26"
                                },
                                {
                                    "Color": "White",
                                    "Size": "M",
                                    "Qty": "15"
                                },
                                {
                                    "Color": "NULL",
                                    "Size": "M",
                                    "Qty": "106"
                                },
                                {
                                    "Color": "Black",
                                    "Size": "S",
                                    "Qty": "60"
                                },
                                {
                                    "Color": "Blue",
                                    "Size": "S",
                                    "Qty": "87"
                                },
                                {
                                    "Color": "Yellow",
                                    "Size": "S",
                                    "Qty": "31"
                                },
                                {
                                    "Color": "NULL",
                                    "Size": "S",
                                    "Qty": "178"
                                },
                                {
                                    "Color": "Multi",
                                    "Size": "XL",
                                    "Qty": "14"
                                },
                                {
                                    "Color": "Yellow",
                                    "Size": "XL",
                                    "Qty": "57"
                                },
                                {
                                    "Color": "NULL",
                                    "Size": "XL",
                                    "Qty": "71"
                                },
                                {
                                    "Color": "NULL",
                                    "Size": "NULL",
                                    "Qty": "1514"
                                },
                                {
                                    "Color": "Black",
                                    "Size": "NULL",
                                    "Qty": "390"
                                },
                                {
                                    "Color": "Blue",
                                    "Size": "NULL",
                                    "Qty": "295"
                                },
                                {
                                    "Color": "Multi",
                                    "Size": "NULL",
                                    "Qty": "91"
                                },
                                {
                                    "Color": "Red",
                                    "Size": "NULL",
                                    "Qty": "9"
                                },
                                {
                                    "Color": "Silver",
                                    "Size": "NULL",
                                    "Qty": "250"
                                },
                                {
                                    "Color": "White",
                                    "Size": "NULL",
                                    "Qty": "66"
                                },
                                {
                                    "Color": "Yellow",
                                    "Size": "NULL",
                                    "Qty": "413"
                                }
                            ]
                        },
                        "text/html": "<table><tr><th>Color</th><th>Size</th><th>Qty</th></tr><tr><td>Black</td><td>38</td><td>33</td></tr><tr><td>Silver</td><td>38</td><td>31</td></tr><tr><td>Yellow</td><td>38</td><td>23</td></tr><tr><td>NULL</td><td>38</td><td>87</td></tr><tr><td>Black</td><td>40</td><td>3</td></tr><tr><td>Silver</td><td>40</td><td>41</td></tr><tr><td>Yellow</td><td>40</td><td>28</td></tr><tr><td>NULL</td><td>40</td><td>72</td></tr><tr><td>Black</td><td>42</td><td>51</td></tr><tr><td>Silver</td><td>42</td><td>57</td></tr><tr><td>Yellow</td><td>42</td><td>24</td></tr><tr><td>NULL</td><td>42</td><td>132</td></tr><tr><td>Black</td><td>44</td><td>38</td></tr><tr><td>Blue</td><td>44</td><td>5</td></tr><tr><td>Red</td><td>44</td><td>3</td></tr><tr><td>Silver</td><td>44</td><td>13</td></tr><tr><td>Yellow</td><td>44</td><td>41</td></tr><tr><td>NULL</td><td>44</td><td>100</td></tr><tr><td>Black</td><td>46</td><td>14</td></tr><tr><td>Blue</td><td>46</td><td>21</td></tr><tr><td>Silver</td><td>46</td><td>32</td></tr><tr><td>Yellow</td><td>46</td><td>12</td></tr><tr><td>NULL</td><td>46</td><td>79</td></tr><tr><td>Black</td><td>48</td><td>49</td></tr><tr><td>Silver</td><td>48</td><td>6</td></tr><tr><td>Yellow</td><td>48</td><td>62</td></tr><tr><td>NULL</td><td>48</td><td>117</td></tr><tr><td>Blue</td><td>50</td><td>51</td></tr><tr><td>Yellow</td><td>50</td><td>16</td></tr><tr><td>NULL</td><td>50</td><td>67</td></tr><tr><td>Black</td><td>52</td><td>38</td></tr><tr><td>Silver</td><td>52</td><td>20</td></tr><tr><td>NULL</td><td>52</td><td>58</td></tr><tr><td>Blue</td><td>54</td><td>49</td></tr><tr><td>Yellow</td><td>54</td><td>15</td></tr><tr><td>NULL</td><td>54</td><td>64</td></tr><tr><td>Black</td><td>58</td><td>27</td></tr><tr><td>Blue</td><td>58</td><td>6</td></tr><tr><td>Red</td><td>58</td><td>3</td></tr><tr><td>Yellow</td><td>58</td><td>3</td></tr><tr><td>NULL</td><td>58</td><td>39</td></tr><tr><td>Blue</td><td>60</td><td>39</td></tr><tr><td>Yellow</td><td>60</td><td>29</td></tr><tr><td>NULL</td><td>60</td><td>68</td></tr><tr><td>Blue</td><td>62</td><td>3</td></tr><tr><td>Red</td><td>62</td><td>3</td></tr><tr><td>Yellow</td><td>62</td><td>21</td></tr><tr><td>NULL</td><td>62</td><td>27</td></tr><tr><td>Silver</td><td>70</td><td>50</td></tr><tr><td>NULL</td><td>70</td><td>50</td></tr><tr><td>Black</td><td>L</td><td>46</td></tr><tr><td>Multi</td><td>L</td><td>51</td></tr><tr><td>White</td><td>L</td><td>51</td></tr><tr><td>Yellow</td><td>L</td><td>51</td></tr><tr><td>NULL</td><td>L</td><td>199</td></tr><tr><td>Black</td><td>M</td><td>31</td></tr><tr><td>Blue</td><td>M</td><td>34</td></tr><tr><td>Multi</td><td>M</td><td>26</td></tr><tr><td>White</td><td>M</td><td>15</td></tr><tr><td>NULL</td><td>M</td><td>106</td></tr><tr><td>Black</td><td>S</td><td>60</td></tr><tr><td>Blue</td><td>S</td><td>87</td></tr><tr><td>Yellow</td><td>S</td><td>31</td></tr><tr><td>NULL</td><td>S</td><td>178</td></tr><tr><td>Multi</td><td>XL</td><td>14</td></tr><tr><td>Yellow</td><td>XL</td><td>57</td></tr><tr><td>NULL</td><td>XL</td><td>71</td></tr><tr><td>NULL</td><td>NULL</td><td>1514</td></tr><tr><td>Black</td><td>NULL</td><td>390</td></tr><tr><td>Blue</td><td>NULL</td><td>295</td></tr><tr><td>Multi</td><td>NULL</td><td>91</td></tr><tr><td>Red</td><td>NULL</td><td>9</td></tr><tr><td>Silver</td><td>NULL</td><td>250</td></tr><tr><td>White</td><td>NULL</td><td>66</td></tr><tr><td>Yellow</td><td>NULL</td><td>413</td></tr></table>"
                    },
                    "metadata": {}
                }
            ],
            "execution_count": 43
        }
    ]
}